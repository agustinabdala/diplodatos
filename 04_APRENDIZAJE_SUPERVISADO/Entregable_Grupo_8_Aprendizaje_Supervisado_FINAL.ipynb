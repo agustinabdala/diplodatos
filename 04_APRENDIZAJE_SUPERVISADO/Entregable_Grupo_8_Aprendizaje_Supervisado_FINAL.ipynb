{
  "cells": [
    {
      "cell_type": "markdown",
      "metadata": {
        "id": "e0ff301b-5595-4a0b-a2b8-3d5609a0485d"
      },
      "source": [
        "**Diplomatura en Ciencia de Datos, Aprendizaje Automático y sus Aplicaciones**\n",
        "\n",
        "**Exploración y Curación de Datos**\n",
        "\n",
        "*Edición 2022*\n",
        "\n",
        "**Grupo 8**\n",
        "\n",
        "**Integrantes:**\n",
        "\n",
        "\n",
        "*   Abdala, Agustin\n",
        "*   Acosta, Martín\n",
        "*   Baulina, David\n",
        "*   Giovine, Carina\n",
        "----\n",
        "\n",
        "# DiploDatos Kaggle Competition\n"
      ]
    },
    {
      "cell_type": "markdown",
      "metadata": {
        "id": "bwspPNPH88wY"
      },
      "source": [
        "Presentamos un código creado como ejemplo de base para la competición.\n",
        "\n",
        "Deben:\n",
        "\n",
        "- Explorar los datos y aprender de ellos.\n",
        "- Probar diferentes modelos y ver cuáles ajustan mejor dado los datos.\n",
        "- **Obtener una accuracy mejor que la que se presenta en este ejemplo.**\n",
        "- Tratar de obtener la accuracy más alta posible!\n",
        "- Discutir la elección de modelo.\n",
        "\n",
        "El análisis exploratorio y el preprocesamiento de los datos queda a libertad de cada grupo y no deben quedarse con este simple ejemplo."
      ]
    },
    {
      "cell_type": "code",
      "execution_count": null,
      "metadata": {
        "id": "MNo_9_zW88wZ"
      },
      "outputs": [],
      "source": [
        "import pandas as pd\n",
        "import numpy as np\n",
        "import matplotlib.pyplot as plt\n",
        "\n",
        "from sklearn.preprocessing import StandardScaler, LabelEncoder\n",
        "from sklearn.impute import SimpleImputer\n",
        "from sklearn.model_selection import train_test_split, GridSearchCV, StratifiedKFold\n",
        "from sklearn.metrics import accuracy_score, ConfusionMatrixDisplay, classification_report\n",
        "\n",
        "from sklearn.tree import DecisionTreeClassifier"
      ]
    },
    {
      "cell_type": "code",
      "source": [
        "#from sklearn.impute import KNNImputer"
      ],
      "metadata": {
        "id": "mBGTT6P89GrG"
      },
      "execution_count": null,
      "outputs": []
    },
    {
      "cell_type": "code",
      "execution_count": null,
      "metadata": {
        "colab": {
          "base_uri": "https://localhost:8080/",
          "height": 771
        },
        "id": "lweFXt7b88wb",
        "outputId": "434a909d-a672-49f0-ea73-1e9e3f6840b6"
      },
      "outputs": [
        {
          "output_type": "stream",
          "name": "stdout",
          "text": [
            "(7823, 14)\n",
            "       PassengerId          Age   RoomService     FoodCourt  ShoppingMall  \\\n",
            "count  7823.000000  7661.000000   7669.000000   7668.000000   7635.000000   \n",
            "mean   4345.691039    28.879389    226.078237    455.643062    172.600393   \n",
            "std    2504.576803    14.461548    679.180148   1621.290107    597.923749   \n",
            "min       0.000000     0.000000      0.000000      0.000000      0.000000   \n",
            "25%    2182.500000    19.000000      0.000000      0.000000      0.000000   \n",
            "50%    4345.000000    27.000000      0.000000      0.000000      0.000000   \n",
            "75%    6515.500000    38.000000     44.000000     69.000000     28.000000   \n",
            "max    8692.000000    79.000000  14327.000000  29813.000000  23492.000000   \n",
            "\n",
            "                Spa        VRDeck  Transported  \n",
            "count   7665.000000   7654.000000  7823.000000  \n",
            "mean     305.023222    295.476744     0.506711  \n",
            "std     1133.423579   1093.485752     0.499987  \n",
            "min        0.000000      0.000000     0.000000  \n",
            "25%        0.000000      0.000000     0.000000  \n",
            "50%        0.000000      0.000000     1.000000  \n",
            "75%       58.000000     46.000000     1.000000  \n",
            "max    22408.000000  24133.000000     1.000000  \n"
          ]
        },
        {
          "output_type": "execute_result",
          "data": {
            "text/plain": [
              "      PassengerId HomePlanet CryoSleep     Cabin  Destination   Age    VIP  \\\n",
              "0            3430     Europa     False   C/123/P  TRAPPIST-1e  57.0  False   \n",
              "1             669       Mars      True   F/126/S          NaN  18.0  False   \n",
              "2            8430     Europa      True   B/343/S  TRAPPIST-1e  33.0    NaN   \n",
              "3            6463      Earth     False  F/1420/P  TRAPPIST-1e  43.0  False   \n",
              "4              85      Earth     False     G/9/P  TRAPPIST-1e  19.0  False   \n",
              "...           ...        ...       ...       ...          ...   ...    ...   \n",
              "7818         6528       Mars     False  F/1319/S  TRAPPIST-1e  12.0    NaN   \n",
              "7819         2693      Earth     False   G/459/S  TRAPPIST-1e  44.0  False   \n",
              "7820         8076       Mars      True  F/1772/P  TRAPPIST-1e  55.0  False   \n",
              "7821         3829      Earth     False   E/253/P  TRAPPIST-1e  15.0  False   \n",
              "7822         7624     Europa      True   B/270/P  55 Cancri e  45.0  False   \n",
              "\n",
              "      RoomService  FoodCourt  ShoppingMall    Spa  VRDeck               Name  \n",
              "0             0.0     3859.0          13.0  195.0  3874.0     Azhah Tronsive  \n",
              "1             0.0        0.0           0.0    0.0     0.0         Roswal Sha  \n",
              "2             0.0        0.0           0.0    0.0     0.0  Shaiam Tinganking  \n",
              "3           142.0     1208.0           0.0    0.0   204.0     Landa Grifford  \n",
              "4             0.0        0.0         670.0    1.0    34.0     Gracy Dunnisey  \n",
              "...           ...        ...           ...    ...     ...                ...  \n",
              "7818          0.0        0.0           0.0    0.0     0.0        Risps Hacle  \n",
              "7819          0.0        0.0         744.0   62.0     3.0      Gabrie Reenez  \n",
              "7820          0.0        0.0           0.0    0.0     0.0       Panzel Ruity  \n",
              "7821          0.0      840.0         123.0    0.0    20.0    Belly Weavesend  \n",
              "7822          0.0        0.0           0.0    0.0     0.0  Graston Donotaked  \n",
              "\n",
              "[7823 rows x 13 columns]"
            ],
            "text/html": [
              "\n",
              "  <div id=\"df-7f9fb85a-22f6-4df5-af73-81cccbf8bac2\">\n",
              "    <div class=\"colab-df-container\">\n",
              "      <div>\n",
              "<style scoped>\n",
              "    .dataframe tbody tr th:only-of-type {\n",
              "        vertical-align: middle;\n",
              "    }\n",
              "\n",
              "    .dataframe tbody tr th {\n",
              "        vertical-align: top;\n",
              "    }\n",
              "\n",
              "    .dataframe thead th {\n",
              "        text-align: right;\n",
              "    }\n",
              "</style>\n",
              "<table border=\"1\" class=\"dataframe\">\n",
              "  <thead>\n",
              "    <tr style=\"text-align: right;\">\n",
              "      <th></th>\n",
              "      <th>PassengerId</th>\n",
              "      <th>HomePlanet</th>\n",
              "      <th>CryoSleep</th>\n",
              "      <th>Cabin</th>\n",
              "      <th>Destination</th>\n",
              "      <th>Age</th>\n",
              "      <th>VIP</th>\n",
              "      <th>RoomService</th>\n",
              "      <th>FoodCourt</th>\n",
              "      <th>ShoppingMall</th>\n",
              "      <th>Spa</th>\n",
              "      <th>VRDeck</th>\n",
              "      <th>Name</th>\n",
              "    </tr>\n",
              "  </thead>\n",
              "  <tbody>\n",
              "    <tr>\n",
              "      <th>0</th>\n",
              "      <td>3430</td>\n",
              "      <td>Europa</td>\n",
              "      <td>False</td>\n",
              "      <td>C/123/P</td>\n",
              "      <td>TRAPPIST-1e</td>\n",
              "      <td>57.0</td>\n",
              "      <td>False</td>\n",
              "      <td>0.0</td>\n",
              "      <td>3859.0</td>\n",
              "      <td>13.0</td>\n",
              "      <td>195.0</td>\n",
              "      <td>3874.0</td>\n",
              "      <td>Azhah Tronsive</td>\n",
              "    </tr>\n",
              "    <tr>\n",
              "      <th>1</th>\n",
              "      <td>669</td>\n",
              "      <td>Mars</td>\n",
              "      <td>True</td>\n",
              "      <td>F/126/S</td>\n",
              "      <td>NaN</td>\n",
              "      <td>18.0</td>\n",
              "      <td>False</td>\n",
              "      <td>0.0</td>\n",
              "      <td>0.0</td>\n",
              "      <td>0.0</td>\n",
              "      <td>0.0</td>\n",
              "      <td>0.0</td>\n",
              "      <td>Roswal Sha</td>\n",
              "    </tr>\n",
              "    <tr>\n",
              "      <th>2</th>\n",
              "      <td>8430</td>\n",
              "      <td>Europa</td>\n",
              "      <td>True</td>\n",
              "      <td>B/343/S</td>\n",
              "      <td>TRAPPIST-1e</td>\n",
              "      <td>33.0</td>\n",
              "      <td>NaN</td>\n",
              "      <td>0.0</td>\n",
              "      <td>0.0</td>\n",
              "      <td>0.0</td>\n",
              "      <td>0.0</td>\n",
              "      <td>0.0</td>\n",
              "      <td>Shaiam Tinganking</td>\n",
              "    </tr>\n",
              "    <tr>\n",
              "      <th>3</th>\n",
              "      <td>6463</td>\n",
              "      <td>Earth</td>\n",
              "      <td>False</td>\n",
              "      <td>F/1420/P</td>\n",
              "      <td>TRAPPIST-1e</td>\n",
              "      <td>43.0</td>\n",
              "      <td>False</td>\n",
              "      <td>142.0</td>\n",
              "      <td>1208.0</td>\n",
              "      <td>0.0</td>\n",
              "      <td>0.0</td>\n",
              "      <td>204.0</td>\n",
              "      <td>Landa Grifford</td>\n",
              "    </tr>\n",
              "    <tr>\n",
              "      <th>4</th>\n",
              "      <td>85</td>\n",
              "      <td>Earth</td>\n",
              "      <td>False</td>\n",
              "      <td>G/9/P</td>\n",
              "      <td>TRAPPIST-1e</td>\n",
              "      <td>19.0</td>\n",
              "      <td>False</td>\n",
              "      <td>0.0</td>\n",
              "      <td>0.0</td>\n",
              "      <td>670.0</td>\n",
              "      <td>1.0</td>\n",
              "      <td>34.0</td>\n",
              "      <td>Gracy Dunnisey</td>\n",
              "    </tr>\n",
              "    <tr>\n",
              "      <th>...</th>\n",
              "      <td>...</td>\n",
              "      <td>...</td>\n",
              "      <td>...</td>\n",
              "      <td>...</td>\n",
              "      <td>...</td>\n",
              "      <td>...</td>\n",
              "      <td>...</td>\n",
              "      <td>...</td>\n",
              "      <td>...</td>\n",
              "      <td>...</td>\n",
              "      <td>...</td>\n",
              "      <td>...</td>\n",
              "      <td>...</td>\n",
              "    </tr>\n",
              "    <tr>\n",
              "      <th>7818</th>\n",
              "      <td>6528</td>\n",
              "      <td>Mars</td>\n",
              "      <td>False</td>\n",
              "      <td>F/1319/S</td>\n",
              "      <td>TRAPPIST-1e</td>\n",
              "      <td>12.0</td>\n",
              "      <td>NaN</td>\n",
              "      <td>0.0</td>\n",
              "      <td>0.0</td>\n",
              "      <td>0.0</td>\n",
              "      <td>0.0</td>\n",
              "      <td>0.0</td>\n",
              "      <td>Risps Hacle</td>\n",
              "    </tr>\n",
              "    <tr>\n",
              "      <th>7819</th>\n",
              "      <td>2693</td>\n",
              "      <td>Earth</td>\n",
              "      <td>False</td>\n",
              "      <td>G/459/S</td>\n",
              "      <td>TRAPPIST-1e</td>\n",
              "      <td>44.0</td>\n",
              "      <td>False</td>\n",
              "      <td>0.0</td>\n",
              "      <td>0.0</td>\n",
              "      <td>744.0</td>\n",
              "      <td>62.0</td>\n",
              "      <td>3.0</td>\n",
              "      <td>Gabrie Reenez</td>\n",
              "    </tr>\n",
              "    <tr>\n",
              "      <th>7820</th>\n",
              "      <td>8076</td>\n",
              "      <td>Mars</td>\n",
              "      <td>True</td>\n",
              "      <td>F/1772/P</td>\n",
              "      <td>TRAPPIST-1e</td>\n",
              "      <td>55.0</td>\n",
              "      <td>False</td>\n",
              "      <td>0.0</td>\n",
              "      <td>0.0</td>\n",
              "      <td>0.0</td>\n",
              "      <td>0.0</td>\n",
              "      <td>0.0</td>\n",
              "      <td>Panzel Ruity</td>\n",
              "    </tr>\n",
              "    <tr>\n",
              "      <th>7821</th>\n",
              "      <td>3829</td>\n",
              "      <td>Earth</td>\n",
              "      <td>False</td>\n",
              "      <td>E/253/P</td>\n",
              "      <td>TRAPPIST-1e</td>\n",
              "      <td>15.0</td>\n",
              "      <td>False</td>\n",
              "      <td>0.0</td>\n",
              "      <td>840.0</td>\n",
              "      <td>123.0</td>\n",
              "      <td>0.0</td>\n",
              "      <td>20.0</td>\n",
              "      <td>Belly Weavesend</td>\n",
              "    </tr>\n",
              "    <tr>\n",
              "      <th>7822</th>\n",
              "      <td>7624</td>\n",
              "      <td>Europa</td>\n",
              "      <td>True</td>\n",
              "      <td>B/270/P</td>\n",
              "      <td>55 Cancri e</td>\n",
              "      <td>45.0</td>\n",
              "      <td>False</td>\n",
              "      <td>0.0</td>\n",
              "      <td>0.0</td>\n",
              "      <td>0.0</td>\n",
              "      <td>0.0</td>\n",
              "      <td>0.0</td>\n",
              "      <td>Graston Donotaked</td>\n",
              "    </tr>\n",
              "  </tbody>\n",
              "</table>\n",
              "<p>7823 rows × 13 columns</p>\n",
              "</div>\n",
              "      <button class=\"colab-df-convert\" onclick=\"convertToInteractive('df-7f9fb85a-22f6-4df5-af73-81cccbf8bac2')\"\n",
              "              title=\"Convert this dataframe to an interactive table.\"\n",
              "              style=\"display:none;\">\n",
              "        \n",
              "  <svg xmlns=\"http://www.w3.org/2000/svg\" height=\"24px\"viewBox=\"0 0 24 24\"\n",
              "       width=\"24px\">\n",
              "    <path d=\"M0 0h24v24H0V0z\" fill=\"none\"/>\n",
              "    <path d=\"M18.56 5.44l.94 2.06.94-2.06 2.06-.94-2.06-.94-.94-2.06-.94 2.06-2.06.94zm-11 1L8.5 8.5l.94-2.06 2.06-.94-2.06-.94L8.5 2.5l-.94 2.06-2.06.94zm10 10l.94 2.06.94-2.06 2.06-.94-2.06-.94-.94-2.06-.94 2.06-2.06.94z\"/><path d=\"M17.41 7.96l-1.37-1.37c-.4-.4-.92-.59-1.43-.59-.52 0-1.04.2-1.43.59L10.3 9.45l-7.72 7.72c-.78.78-.78 2.05 0 2.83L4 21.41c.39.39.9.59 1.41.59.51 0 1.02-.2 1.41-.59l7.78-7.78 2.81-2.81c.8-.78.8-2.07 0-2.86zM5.41 20L4 18.59l7.72-7.72 1.47 1.35L5.41 20z\"/>\n",
              "  </svg>\n",
              "      </button>\n",
              "      \n",
              "  <style>\n",
              "    .colab-df-container {\n",
              "      display:flex;\n",
              "      flex-wrap:wrap;\n",
              "      gap: 12px;\n",
              "    }\n",
              "\n",
              "    .colab-df-convert {\n",
              "      background-color: #E8F0FE;\n",
              "      border: none;\n",
              "      border-radius: 50%;\n",
              "      cursor: pointer;\n",
              "      display: none;\n",
              "      fill: #1967D2;\n",
              "      height: 32px;\n",
              "      padding: 0 0 0 0;\n",
              "      width: 32px;\n",
              "    }\n",
              "\n",
              "    .colab-df-convert:hover {\n",
              "      background-color: #E2EBFA;\n",
              "      box-shadow: 0px 1px 2px rgba(60, 64, 67, 0.3), 0px 1px 3px 1px rgba(60, 64, 67, 0.15);\n",
              "      fill: #174EA6;\n",
              "    }\n",
              "\n",
              "    [theme=dark] .colab-df-convert {\n",
              "      background-color: #3B4455;\n",
              "      fill: #D2E3FC;\n",
              "    }\n",
              "\n",
              "    [theme=dark] .colab-df-convert:hover {\n",
              "      background-color: #434B5C;\n",
              "      box-shadow: 0px 1px 3px 1px rgba(0, 0, 0, 0.15);\n",
              "      filter: drop-shadow(0px 1px 2px rgba(0, 0, 0, 0.3));\n",
              "      fill: #FFFFFF;\n",
              "    }\n",
              "  </style>\n",
              "\n",
              "      <script>\n",
              "        const buttonEl =\n",
              "          document.querySelector('#df-7f9fb85a-22f6-4df5-af73-81cccbf8bac2 button.colab-df-convert');\n",
              "        buttonEl.style.display =\n",
              "          google.colab.kernel.accessAllowed ? 'block' : 'none';\n",
              "\n",
              "        async function convertToInteractive(key) {\n",
              "          const element = document.querySelector('#df-7f9fb85a-22f6-4df5-af73-81cccbf8bac2');\n",
              "          const dataTable =\n",
              "            await google.colab.kernel.invokeFunction('convertToInteractive',\n",
              "                                                     [key], {});\n",
              "          if (!dataTable) return;\n",
              "\n",
              "          const docLinkHtml = 'Like what you see? Visit the ' +\n",
              "            '<a target=\"_blank\" href=https://colab.research.google.com/notebooks/data_table.ipynb>data table notebook</a>'\n",
              "            + ' to learn more about interactive tables.';\n",
              "          element.innerHTML = '';\n",
              "          dataTable['output_type'] = 'display_data';\n",
              "          await google.colab.output.renderOutput(dataTable, element);\n",
              "          const docLink = document.createElement('div');\n",
              "          docLink.innerHTML = docLinkHtml;\n",
              "          element.appendChild(docLink);\n",
              "        }\n",
              "      </script>\n",
              "    </div>\n",
              "  </div>\n",
              "  "
            ]
          },
          "metadata": {},
          "execution_count": 3
        }
      ],
      "source": [
        "df = pd.read_csv('https://raw.githubusercontent.com/DiploDatos/AprendizajeSupervisado/master/Pr%C3%A1ctico/train.csv')\n",
        "print(df.shape)\n",
        "print(df.describe())\n",
        "imputer_cols = [\"Age\", \"FoodCourt\", \"ShoppingMall\", \"Spa\", \"VRDeck\" ,\"RoomService\"]\n",
        "imputer = SimpleImputer(strategy=\"median\")\n",
        "#imputer = KNNImputer(n_neighbors=2)\n",
        "df[imputer_cols] = imputer.fit_transform(df[imputer_cols])\n",
        "y = df.Transported\n",
        "X = df.drop('Transported',axis=1)\n",
        "X"
      ]
    },
    {
      "cell_type": "markdown",
      "metadata": {
        "id": "RgR_X97k88wc"
      },
      "source": [
        "### Algún análisis exploratorio que permita tomar decisiones sobre las variabes a usar, transformaciones de variables, tratamiento de los datos faltantes, etc. etc."
      ]
    },
    {
      "cell_type": "code",
      "execution_count": null,
      "metadata": {
        "colab": {
          "base_uri": "https://localhost:8080/",
          "height": 510
        },
        "id": "BC_Qd0rC88wd",
        "outputId": "c3c69de5-cfe2-4da0-ad19-bb269f05b99f"
      },
      "outputs": [
        {
          "output_type": "stream",
          "name": "stdout",
          "text": [
            "Cabin\n",
            "Name\n",
            "Index(['HomePlanet', 'CryoSleep', 'Destination', 'Age', 'VIP', 'RoomService',\n",
            "       'FoodCourt', 'ShoppingMall', 'Spa', 'VRDeck'],\n",
            "      dtype='object')\n"
          ]
        },
        {
          "output_type": "execute_result",
          "data": {
            "text/plain": [
              "      HomePlanet  CryoSleep  Destination       Age       VIP  RoomService  \\\n",
              "0       0.320042  -0.746493     0.579856  1.967465 -0.209979    -0.329239   \n",
              "1       1.478619   1.108595     1.769839 -0.757408 -0.209979    -0.329239   \n",
              "2       0.320042   1.108595     0.579856  0.290620  5.752517    -0.329239   \n",
              "3      -0.838536  -0.746493     0.579856  0.989305 -0.209979    -0.118291   \n",
              "4      -0.838536  -0.746493     0.579856 -0.687539 -0.209979    -0.329239   \n",
              "...          ...        ...          ...       ...       ...          ...   \n",
              "7818    1.478619  -0.746493     0.579856 -1.176619  5.752517    -0.329239   \n",
              "7819   -0.838536  -0.746493     0.579856  1.059174 -0.209979    -0.329239   \n",
              "7820    1.478619   1.108595     0.579856  1.827728 -0.209979    -0.329239   \n",
              "7821   -0.838536  -0.746493     0.579856 -0.967013 -0.209979    -0.329239   \n",
              "7822    0.320042   1.108595    -1.800110  1.129042 -0.209979    -0.329239   \n",
              "\n",
              "      FoodCourt  ShoppingMall       Spa    VRDeck  \n",
              "0      2.124377     -0.262923 -0.092514  3.312022  \n",
              "1     -0.278040     -0.284910 -0.266208 -0.267088  \n",
              "2     -0.278040     -0.284910 -0.266208 -0.267088  \n",
              "3      0.473999     -0.284910 -0.266208 -0.078616  \n",
              "4     -0.278040      0.848286 -0.265317 -0.235676  \n",
              "...         ...           ...       ...       ...  \n",
              "7818  -0.278040     -0.284910 -0.266208 -0.267088  \n",
              "7819  -0.278040      0.973445 -0.210982 -0.264316  \n",
              "7820  -0.278040     -0.284910 -0.266208 -0.267088  \n",
              "7821   0.244901     -0.076876 -0.266208 -0.248610  \n",
              "7822  -0.278040     -0.284910 -0.266208 -0.267088  \n",
              "\n",
              "[7823 rows x 10 columns]"
            ],
            "text/html": [
              "\n",
              "  <div id=\"df-72a71041-1d47-422b-adfe-e8b488fd6ad0\">\n",
              "    <div class=\"colab-df-container\">\n",
              "      <div>\n",
              "<style scoped>\n",
              "    .dataframe tbody tr th:only-of-type {\n",
              "        vertical-align: middle;\n",
              "    }\n",
              "\n",
              "    .dataframe tbody tr th {\n",
              "        vertical-align: top;\n",
              "    }\n",
              "\n",
              "    .dataframe thead th {\n",
              "        text-align: right;\n",
              "    }\n",
              "</style>\n",
              "<table border=\"1\" class=\"dataframe\">\n",
              "  <thead>\n",
              "    <tr style=\"text-align: right;\">\n",
              "      <th></th>\n",
              "      <th>HomePlanet</th>\n",
              "      <th>CryoSleep</th>\n",
              "      <th>Destination</th>\n",
              "      <th>Age</th>\n",
              "      <th>VIP</th>\n",
              "      <th>RoomService</th>\n",
              "      <th>FoodCourt</th>\n",
              "      <th>ShoppingMall</th>\n",
              "      <th>Spa</th>\n",
              "      <th>VRDeck</th>\n",
              "    </tr>\n",
              "  </thead>\n",
              "  <tbody>\n",
              "    <tr>\n",
              "      <th>0</th>\n",
              "      <td>0.320042</td>\n",
              "      <td>-0.746493</td>\n",
              "      <td>0.579856</td>\n",
              "      <td>1.967465</td>\n",
              "      <td>-0.209979</td>\n",
              "      <td>-0.329239</td>\n",
              "      <td>2.124377</td>\n",
              "      <td>-0.262923</td>\n",
              "      <td>-0.092514</td>\n",
              "      <td>3.312022</td>\n",
              "    </tr>\n",
              "    <tr>\n",
              "      <th>1</th>\n",
              "      <td>1.478619</td>\n",
              "      <td>1.108595</td>\n",
              "      <td>1.769839</td>\n",
              "      <td>-0.757408</td>\n",
              "      <td>-0.209979</td>\n",
              "      <td>-0.329239</td>\n",
              "      <td>-0.278040</td>\n",
              "      <td>-0.284910</td>\n",
              "      <td>-0.266208</td>\n",
              "      <td>-0.267088</td>\n",
              "    </tr>\n",
              "    <tr>\n",
              "      <th>2</th>\n",
              "      <td>0.320042</td>\n",
              "      <td>1.108595</td>\n",
              "      <td>0.579856</td>\n",
              "      <td>0.290620</td>\n",
              "      <td>5.752517</td>\n",
              "      <td>-0.329239</td>\n",
              "      <td>-0.278040</td>\n",
              "      <td>-0.284910</td>\n",
              "      <td>-0.266208</td>\n",
              "      <td>-0.267088</td>\n",
              "    </tr>\n",
              "    <tr>\n",
              "      <th>3</th>\n",
              "      <td>-0.838536</td>\n",
              "      <td>-0.746493</td>\n",
              "      <td>0.579856</td>\n",
              "      <td>0.989305</td>\n",
              "      <td>-0.209979</td>\n",
              "      <td>-0.118291</td>\n",
              "      <td>0.473999</td>\n",
              "      <td>-0.284910</td>\n",
              "      <td>-0.266208</td>\n",
              "      <td>-0.078616</td>\n",
              "    </tr>\n",
              "    <tr>\n",
              "      <th>4</th>\n",
              "      <td>-0.838536</td>\n",
              "      <td>-0.746493</td>\n",
              "      <td>0.579856</td>\n",
              "      <td>-0.687539</td>\n",
              "      <td>-0.209979</td>\n",
              "      <td>-0.329239</td>\n",
              "      <td>-0.278040</td>\n",
              "      <td>0.848286</td>\n",
              "      <td>-0.265317</td>\n",
              "      <td>-0.235676</td>\n",
              "    </tr>\n",
              "    <tr>\n",
              "      <th>...</th>\n",
              "      <td>...</td>\n",
              "      <td>...</td>\n",
              "      <td>...</td>\n",
              "      <td>...</td>\n",
              "      <td>...</td>\n",
              "      <td>...</td>\n",
              "      <td>...</td>\n",
              "      <td>...</td>\n",
              "      <td>...</td>\n",
              "      <td>...</td>\n",
              "    </tr>\n",
              "    <tr>\n",
              "      <th>7818</th>\n",
              "      <td>1.478619</td>\n",
              "      <td>-0.746493</td>\n",
              "      <td>0.579856</td>\n",
              "      <td>-1.176619</td>\n",
              "      <td>5.752517</td>\n",
              "      <td>-0.329239</td>\n",
              "      <td>-0.278040</td>\n",
              "      <td>-0.284910</td>\n",
              "      <td>-0.266208</td>\n",
              "      <td>-0.267088</td>\n",
              "    </tr>\n",
              "    <tr>\n",
              "      <th>7819</th>\n",
              "      <td>-0.838536</td>\n",
              "      <td>-0.746493</td>\n",
              "      <td>0.579856</td>\n",
              "      <td>1.059174</td>\n",
              "      <td>-0.209979</td>\n",
              "      <td>-0.329239</td>\n",
              "      <td>-0.278040</td>\n",
              "      <td>0.973445</td>\n",
              "      <td>-0.210982</td>\n",
              "      <td>-0.264316</td>\n",
              "    </tr>\n",
              "    <tr>\n",
              "      <th>7820</th>\n",
              "      <td>1.478619</td>\n",
              "      <td>1.108595</td>\n",
              "      <td>0.579856</td>\n",
              "      <td>1.827728</td>\n",
              "      <td>-0.209979</td>\n",
              "      <td>-0.329239</td>\n",
              "      <td>-0.278040</td>\n",
              "      <td>-0.284910</td>\n",
              "      <td>-0.266208</td>\n",
              "      <td>-0.267088</td>\n",
              "    </tr>\n",
              "    <tr>\n",
              "      <th>7821</th>\n",
              "      <td>-0.838536</td>\n",
              "      <td>-0.746493</td>\n",
              "      <td>0.579856</td>\n",
              "      <td>-0.967013</td>\n",
              "      <td>-0.209979</td>\n",
              "      <td>-0.329239</td>\n",
              "      <td>0.244901</td>\n",
              "      <td>-0.076876</td>\n",
              "      <td>-0.266208</td>\n",
              "      <td>-0.248610</td>\n",
              "    </tr>\n",
              "    <tr>\n",
              "      <th>7822</th>\n",
              "      <td>0.320042</td>\n",
              "      <td>1.108595</td>\n",
              "      <td>-1.800110</td>\n",
              "      <td>1.129042</td>\n",
              "      <td>-0.209979</td>\n",
              "      <td>-0.329239</td>\n",
              "      <td>-0.278040</td>\n",
              "      <td>-0.284910</td>\n",
              "      <td>-0.266208</td>\n",
              "      <td>-0.267088</td>\n",
              "    </tr>\n",
              "  </tbody>\n",
              "</table>\n",
              "<p>7823 rows × 10 columns</p>\n",
              "</div>\n",
              "      <button class=\"colab-df-convert\" onclick=\"convertToInteractive('df-72a71041-1d47-422b-adfe-e8b488fd6ad0')\"\n",
              "              title=\"Convert this dataframe to an interactive table.\"\n",
              "              style=\"display:none;\">\n",
              "        \n",
              "  <svg xmlns=\"http://www.w3.org/2000/svg\" height=\"24px\"viewBox=\"0 0 24 24\"\n",
              "       width=\"24px\">\n",
              "    <path d=\"M0 0h24v24H0V0z\" fill=\"none\"/>\n",
              "    <path d=\"M18.56 5.44l.94 2.06.94-2.06 2.06-.94-2.06-.94-.94-2.06-.94 2.06-2.06.94zm-11 1L8.5 8.5l.94-2.06 2.06-.94-2.06-.94L8.5 2.5l-.94 2.06-2.06.94zm10 10l.94 2.06.94-2.06 2.06-.94-2.06-.94-.94-2.06-.94 2.06-2.06.94z\"/><path d=\"M17.41 7.96l-1.37-1.37c-.4-.4-.92-.59-1.43-.59-.52 0-1.04.2-1.43.59L10.3 9.45l-7.72 7.72c-.78.78-.78 2.05 0 2.83L4 21.41c.39.39.9.59 1.41.59.51 0 1.02-.2 1.41-.59l7.78-7.78 2.81-2.81c.8-.78.8-2.07 0-2.86zM5.41 20L4 18.59l7.72-7.72 1.47 1.35L5.41 20z\"/>\n",
              "  </svg>\n",
              "      </button>\n",
              "      \n",
              "  <style>\n",
              "    .colab-df-container {\n",
              "      display:flex;\n",
              "      flex-wrap:wrap;\n",
              "      gap: 12px;\n",
              "    }\n",
              "\n",
              "    .colab-df-convert {\n",
              "      background-color: #E8F0FE;\n",
              "      border: none;\n",
              "      border-radius: 50%;\n",
              "      cursor: pointer;\n",
              "      display: none;\n",
              "      fill: #1967D2;\n",
              "      height: 32px;\n",
              "      padding: 0 0 0 0;\n",
              "      width: 32px;\n",
              "    }\n",
              "\n",
              "    .colab-df-convert:hover {\n",
              "      background-color: #E2EBFA;\n",
              "      box-shadow: 0px 1px 2px rgba(60, 64, 67, 0.3), 0px 1px 3px 1px rgba(60, 64, 67, 0.15);\n",
              "      fill: #174EA6;\n",
              "    }\n",
              "\n",
              "    [theme=dark] .colab-df-convert {\n",
              "      background-color: #3B4455;\n",
              "      fill: #D2E3FC;\n",
              "    }\n",
              "\n",
              "    [theme=dark] .colab-df-convert:hover {\n",
              "      background-color: #434B5C;\n",
              "      box-shadow: 0px 1px 3px 1px rgba(0, 0, 0, 0.15);\n",
              "      filter: drop-shadow(0px 1px 2px rgba(0, 0, 0, 0.3));\n",
              "      fill: #FFFFFF;\n",
              "    }\n",
              "  </style>\n",
              "\n",
              "      <script>\n",
              "        const buttonEl =\n",
              "          document.querySelector('#df-72a71041-1d47-422b-adfe-e8b488fd6ad0 button.colab-df-convert');\n",
              "        buttonEl.style.display =\n",
              "          google.colab.kernel.accessAllowed ? 'block' : 'none';\n",
              "\n",
              "        async function convertToInteractive(key) {\n",
              "          const element = document.querySelector('#df-72a71041-1d47-422b-adfe-e8b488fd6ad0');\n",
              "          const dataTable =\n",
              "            await google.colab.kernel.invokeFunction('convertToInteractive',\n",
              "                                                     [key], {});\n",
              "          if (!dataTable) return;\n",
              "\n",
              "          const docLinkHtml = 'Like what you see? Visit the ' +\n",
              "            '<a target=\"_blank\" href=https://colab.research.google.com/notebooks/data_table.ipynb>data table notebook</a>'\n",
              "            + ' to learn more about interactive tables.';\n",
              "          element.innerHTML = '';\n",
              "          dataTable['output_type'] = 'display_data';\n",
              "          await google.colab.output.renderOutput(dataTable, element);\n",
              "          const docLink = document.createElement('div');\n",
              "          docLink.innerHTML = docLinkHtml;\n",
              "          element.appendChild(docLink);\n",
              "        }\n",
              "      </script>\n",
              "    </div>\n",
              "  </div>\n",
              "  "
            ]
          },
          "metadata": {},
          "execution_count": 4
        }
      ],
      "source": [
        "# elijo y transformo algunas variables (en su análisis fundamente sus decisiones)\n",
        "for var in X:\n",
        "    if X[var].dtype == 'object':\n",
        "        unique_cases = X[var].unique()\n",
        "        if len(unique_cases) > 5:\n",
        "            print(var)\n",
        "            X.drop(var, inplace=True, axis=1)\n",
        "\n",
        "passengerId = X.PassengerId\n",
        "X.drop('PassengerId',axis=1,inplace=True)\n",
        "\n",
        "print(X.columns)\n",
        "label_cols = [\"HomePlanet\", \"CryoSleep\", \"Destination\" ,\"VIP\"]\n",
        "\n",
        "for col in label_cols:\n",
        "    X[col] = X[col].astype(str)\n",
        "    X[col] = LabelEncoder().fit_transform(X[col])\n",
        "\n",
        "x_names = X.columns\n",
        "X = StandardScaler().fit_transform(X)\n",
        "X = pd.DataFrame(X, columns=x_names)\n",
        "X"
      ]
    },
    {
      "cell_type": "code",
      "execution_count": null,
      "metadata": {
        "id": "CMT-qr2X88we"
      },
      "outputs": [],
      "source": [
        "x_train, x_test, y_train, y_test = train_test_split(X, y, train_size=0.8, random_state = 8)"
      ]
    },
    {
      "cell_type": "markdown",
      "metadata": {
        "id": "Zje5uGKS88we"
      },
      "source": [
        "### Planteo modelos\n",
        "Tienen que elegir los 2 mejores modelos así que prueben con varios."
      ]
    },
    {
      "cell_type": "code",
      "execution_count": null,
      "metadata": {
        "colab": {
          "base_uri": "https://localhost:8080/"
        },
        "id": "oLJzQtcp88wf",
        "outputId": "f939e680-8ebb-48f4-9c9f-fea2dbdd7e58"
      },
      "outputs": [
        {
          "output_type": "stream",
          "name": "stdout",
          "text": [
            "Árbol de decisión\n",
            "Accuracy train Árbol de decisión: 93.90%\n",
            "Accuracy test Árbol de decisión: 72.84%\n"
          ]
        }
      ],
      "source": [
        "clfs = [DecisionTreeClassifier()]\n",
        "names = ['Árbol de decisión']\n",
        "\n",
        "trained_models = []\n",
        "accuracy_models = []\n",
        "for clf,name in zip(clfs,names):\n",
        "    print(name)\n",
        "    clf.fit(x_train, y_train)\n",
        "    train_predictions = clf.predict(x_train)\n",
        "    accuracy = accuracy_score(y_train, train_predictions)\n",
        "    print(f\"Accuracy train {name}: %.2f%%\" % (accuracy * 100.0))\n",
        "\n",
        "    train_predictions = clf.predict(x_test)\n",
        "    accuracy = accuracy_score(y_test, train_predictions)\n",
        "    print(f\"Accuracy test {name}: %.2f%%\" % (accuracy * 100.0))\n",
        "    # plot_confusion_matrix(clf,x_test,y_test)\n",
        "    trained_models.append(clf)\n",
        "    accuracy_models.append(accuracy*100)"
      ]
    },
    {
      "cell_type": "markdown",
      "metadata": {
        "id": "nPm5xETq88wg"
      },
      "source": [
        "### Algún tipo de ajuste de hiperparámetros de los modelos elegidos"
      ]
    },
    {
      "cell_type": "code",
      "execution_count": null,
      "metadata": {
        "colab": {
          "base_uri": "https://localhost:8080/"
        },
        "id": "fkNOhtnK88wh",
        "outputId": "0a553aff-eed8-4da0-c2ef-ace86618658c"
      },
      "outputs": [
        {
          "output_type": "execute_result",
          "data": {
            "text/plain": [
              "{'criterion': 'entropy', 'max_depth': 10, 'splitter': 'best'}"
            ]
          },
          "metadata": {},
          "execution_count": 7
        }
      ],
      "source": [
        "grid = GridSearchCV(DecisionTreeClassifier(),\n",
        " {'criterion':('gini','entropy'),\n",
        " 'splitter':(\"best\",\"random\"),\n",
        " 'max_depth':(10,20,100)})\n",
        "grid.fit(x_train,y_train)\n",
        "grid.best_params_"
      ]
    },
    {
      "cell_type": "code",
      "execution_count": null,
      "metadata": {
        "colab": {
          "base_uri": "https://localhost:8080/",
          "height": 470
        },
        "id": "d-g_w5bd88wh",
        "outputId": "26b1e7cd-bdd2-4836-84ef-79c81b82895f"
      },
      "outputs": [
        {
          "output_type": "stream",
          "name": "stdout",
          "text": [
            "Accuracy train Árbol de decisión: 81.88%\n",
            "Accuracy test Árbol de decisión: 76.29%\n"
          ]
        },
        {
          "output_type": "display_data",
          "data": {
            "text/plain": [
              "<Figure size 432x288 with 2 Axes>"
            ],
            "image/png": "[encoded data removed]"
          },
          "metadata": {
            "needs_background": "light"
          }
        },
        {
          "output_type": "stream",
          "name": "stdout",
          "text": [
            "              precision    recall  f1-score   support\n",
            "\n",
            "           0       0.74      0.77      0.76       748\n",
            "           1       0.78      0.75      0.77       817\n",
            "\n",
            "    accuracy                           0.76      1565\n",
            "   macro avg       0.76      0.76      0.76      1565\n",
            "weighted avg       0.76      0.76      0.76      1565\n",
            "\n"
          ]
        }
      ],
      "source": [
        "clf = DecisionTreeClassifier(**grid.best_params_).fit(x_train, y_train)\n",
        "\n",
        "train_predictions = clf.predict(x_train)\n",
        "accuracy = accuracy_score(y_train, train_predictions)\n",
        "print(f\"Accuracy train {name}: %.2f%%\" % (accuracy * 100.0))\n",
        "\n",
        "test_predictions = clf.predict(x_test)\n",
        "accuracy = accuracy_score(y_test, test_predictions)\n",
        "print(f\"Accuracy test {name}: %.2f%%\" % (accuracy * 100.0))\n",
        "ConfusionMatrixDisplay.from_predictions(y_test, test_predictions)\n",
        "plt.show()\n",
        "\n",
        "print(classification_report(y_test,clf.predict(x_test)))"
      ]
    },
    {
      "cell_type": "code",
      "execution_count": null,
      "metadata": {
        "colab": {
          "base_uri": "https://localhost:8080/"
        },
        "id": "Hrp3WdZ888wi",
        "outputId": "66c0cd00-bfa2-41d2-8e12-3690238c57da"
      },
      "outputs": [
        {
          "output_type": "stream",
          "name": "stdout",
          "text": [
            "DecisionTreeClassifier(criterion='entropy', max_depth=10)\n",
            "Precisión test fold 0: 78.59\n",
            "Precisión test fold 1: 77.88\n",
            "Precisión test fold 2: 78.04\n",
            "Precisión test fold 3: 77.62\n",
            "Precisión test fold 4: 76.66\n",
            "Avg. accuracy = 77.75627421385576\n"
          ]
        }
      ],
      "source": [
        "FOLDS=5\n",
        "cv = StratifiedKFold(n_splits=FOLDS, shuffle=True, random_state=10)\n",
        "\n",
        "x_train2 = np.array(x_train)\n",
        "y_train2 = np.array(y_train)\n",
        "\n",
        "\n",
        "for clfi, name in zip([DecisionTreeClassifier(**grid.best_params_)],names):\n",
        "    print(clfi)\n",
        "    avg_accuracy = 0\n",
        "    for fold, (train_idx, val_idx) in enumerate(cv.split(x_train2, y_train2)):\n",
        "        xi, yi = x_train2[train_idx], y_train2[train_idx]\n",
        "        x_valid, y_valid = x_train2[val_idx], y_train2[val_idx]\n",
        "        clfi = clfi.fit(xi, yi)\n",
        "\n",
        "        test_predictions = clfi.predict(x_valid)\n",
        "        accuracy = accuracy_score(y_valid, test_predictions)\n",
        "        avg_accuracy +=accuracy\n",
        "        print(f\"Precisión test fold {fold}: {accuracy * 100.0 :.2f}\" % ())\n",
        "\n",
        "    avg_accuracy /= FOLDS\n",
        "    print(f'Avg. accuracy = {avg_accuracy * 100}')"
      ]
    },
    {
      "cell_type": "markdown",
      "metadata": {
        "id": "TZ-UIY0c88wi"
      },
      "source": [
        "## Generar la salida para entregar"
      ]
    },
    {
      "cell_type": "code",
      "execution_count": null,
      "metadata": {
        "id": "0JQflngo88wj"
      },
      "outputs": [],
      "source": [
        "test_df = pd.read_csv('https://raw.githubusercontent.com/DiploDatos/AprendizajeSupervisado/master/Pr%C3%A1ctico/test.csv')"
      ]
    },
    {
      "cell_type": "code",
      "execution_count": null,
      "metadata": {
        "colab": {
          "base_uri": "https://localhost:8080/",
          "height": 424
        },
        "id": "hU1EkXgG88wj",
        "outputId": "fc9454ae-a423-4152-e35a-c49c7bfd446a"
      },
      "outputs": [
        {
          "output_type": "execute_result",
          "data": {
            "text/plain": [
              "     PassengerId HomePlanet CryoSleep     Cabin    Destination   Age    VIP  \\\n",
              "0            415     Europa      True       NaN    55 Cancri e  34.0  False   \n",
              "1           8663      Earth      True  G/1489/S  PSO J318.5-22  13.0  False   \n",
              "2           4524      Earth     False   G/776/P    TRAPPIST-1e  44.0  False   \n",
              "3           8246      Earth     False   E/577/S  PSO J318.5-22  63.0  False   \n",
              "4           2935     Europa     False   B/117/S    55 Cancri e  10.0  False   \n",
              "..           ...        ...       ...       ...            ...   ...    ...   \n",
              "865         5996       Mars     False  F/1212/S    TRAPPIST-1e  54.0  False   \n",
              "866         5478      Earth      True   G/947/S    TRAPPIST-1e  58.0  False   \n",
              "867         6760      Earth      True  G/1148/P  PSO J318.5-22  18.0  False   \n",
              "868         1437      Earth     False   F/293/S    TRAPPIST-1e  18.0  False   \n",
              "869         5171      Earth     False  F/1059/S    TRAPPIST-1e  20.0  False   \n",
              "\n",
              "     RoomService  FoodCourt  ShoppingMall    Spa  VRDeck                Name  \n",
              "0            0.0        0.0           0.0    0.0     0.0  Minopus Taptiritty  \n",
              "1            0.0        0.0           0.0    0.0     0.0     Chrisa Francock  \n",
              "2           22.0        1.0           0.0  864.0     0.0        Elinda Miley  \n",
              "3            0.0        0.0          80.0    0.0  2322.0        Karley Goods  \n",
              "4            0.0        0.0           0.0    0.0     0.0   Arkard Sechausive  \n",
              "..           ...        ...           ...    ...     ...                 ...  \n",
              "865        676.0        0.0         231.0  379.0     0.0          Anch Perta  \n",
              "866          0.0        0.0           0.0    0.0     0.0        Hughy Hessey  \n",
              "867          0.0        0.0           0.0    0.0     0.0      Heidie Kimpson  \n",
              "868        765.0        0.0          13.0    0.0     0.0      Herina Oconley  \n",
              "869          0.0        0.0           0.0  703.0     0.0    Ollip Hinglendez  \n",
              "\n",
              "[870 rows x 13 columns]"
            ],
            "text/html": [
              "\n",
              "  <div id=\"df-2ac1e77e-d4c2-4eb1-a8e2-bc21b867394b\">\n",
              "    <div class=\"colab-df-container\">\n",
              "      <div>\n",
              "<style scoped>\n",
              "    .dataframe tbody tr th:only-of-type {\n",
              "        vertical-align: middle;\n",
              "    }\n",
              "\n",
              "    .dataframe tbody tr th {\n",
              "        vertical-align: top;\n",
              "    }\n",
              "\n",
              "    .dataframe thead th {\n",
              "        text-align: right;\n",
              "    }\n",
              "</style>\n",
              "<table border=\"1\" class=\"dataframe\">\n",
              "  <thead>\n",
              "    <tr style=\"text-align: right;\">\n",
              "      <th></th>\n",
              "      <th>PassengerId</th>\n",
              "      <th>HomePlanet</th>\n",
              "      <th>CryoSleep</th>\n",
              "      <th>Cabin</th>\n",
              "      <th>Destination</th>\n",
              "      <th>Age</th>\n",
              "      <th>VIP</th>\n",
              "      <th>RoomService</th>\n",
              "      <th>FoodCourt</th>\n",
              "      <th>ShoppingMall</th>\n",
              "      <th>Spa</th>\n",
              "      <th>VRDeck</th>\n",
              "      <th>Name</th>\n",
              "    </tr>\n",
              "  </thead>\n",
              "  <tbody>\n",
              "    <tr>\n",
              "      <th>0</th>\n",
              "      <td>415</td>\n",
              "      <td>Europa</td>\n",
              "      <td>True</td>\n",
              "      <td>NaN</td>\n",
              "      <td>55 Cancri e</td>\n",
              "      <td>34.0</td>\n",
              "      <td>False</td>\n",
              "      <td>0.0</td>\n",
              "      <td>0.0</td>\n",
              "      <td>0.0</td>\n",
              "      <td>0.0</td>\n",
              "      <td>0.0</td>\n",
              "      <td>Minopus Taptiritty</td>\n",
              "    </tr>\n",
              "    <tr>\n",
              "      <th>1</th>\n",
              "      <td>8663</td>\n",
              "      <td>Earth</td>\n",
              "      <td>True</td>\n",
              "      <td>G/1489/S</td>\n",
              "      <td>PSO J318.5-22</td>\n",
              "      <td>13.0</td>\n",
              "      <td>False</td>\n",
              "      <td>0.0</td>\n",
              "      <td>0.0</td>\n",
              "      <td>0.0</td>\n",
              "      <td>0.0</td>\n",
              "      <td>0.0</td>\n",
              "      <td>Chrisa Francock</td>\n",
              "    </tr>\n",
              "    <tr>\n",
              "      <th>2</th>\n",
              "      <td>4524</td>\n",
              "      <td>Earth</td>\n",
              "      <td>False</td>\n",
              "      <td>G/776/P</td>\n",
              "      <td>TRAPPIST-1e</td>\n",
              "      <td>44.0</td>\n",
              "      <td>False</td>\n",
              "      <td>22.0</td>\n",
              "      <td>1.0</td>\n",
              "      <td>0.0</td>\n",
              "      <td>864.0</td>\n",
              "      <td>0.0</td>\n",
              "      <td>Elinda Miley</td>\n",
              "    </tr>\n",
              "    <tr>\n",
              "      <th>3</th>\n",
              "      <td>8246</td>\n",
              "      <td>Earth</td>\n",
              "      <td>False</td>\n",
              "      <td>E/577/S</td>\n",
              "      <td>PSO J318.5-22</td>\n",
              "      <td>63.0</td>\n",
              "      <td>False</td>\n",
              "      <td>0.0</td>\n",
              "      <td>0.0</td>\n",
              "      <td>80.0</td>\n",
              "      <td>0.0</td>\n",
              "      <td>2322.0</td>\n",
              "      <td>Karley Goods</td>\n",
              "    </tr>\n",
              "    <tr>\n",
              "      <th>4</th>\n",
              "      <td>2935</td>\n",
              "      <td>Europa</td>\n",
              "      <td>False</td>\n",
              "      <td>B/117/S</td>\n",
              "      <td>55 Cancri e</td>\n",
              "      <td>10.0</td>\n",
              "      <td>False</td>\n",
              "      <td>0.0</td>\n",
              "      <td>0.0</td>\n",
              "      <td>0.0</td>\n",
              "      <td>0.0</td>\n",
              "      <td>0.0</td>\n",
              "      <td>Arkard Sechausive</td>\n",
              "    </tr>\n",
              "    <tr>\n",
              "      <th>...</th>\n",
              "      <td>...</td>\n",
              "      <td>...</td>\n",
              "      <td>...</td>\n",
              "      <td>...</td>\n",
              "      <td>...</td>\n",
              "      <td>...</td>\n",
              "      <td>...</td>\n",
              "      <td>...</td>\n",
              "      <td>...</td>\n",
              "      <td>...</td>\n",
              "      <td>...</td>\n",
              "      <td>...</td>\n",
              "      <td>...</td>\n",
              "    </tr>\n",
              "    <tr>\n",
              "      <th>865</th>\n",
              "      <td>5996</td>\n",
              "      <td>Mars</td>\n",
              "      <td>False</td>\n",
              "      <td>F/1212/S</td>\n",
              "      <td>TRAPPIST-1e</td>\n",
              "      <td>54.0</td>\n",
              "      <td>False</td>\n",
              "      <td>676.0</td>\n",
              "      <td>0.0</td>\n",
              "      <td>231.0</td>\n",
              "      <td>379.0</td>\n",
              "      <td>0.0</td>\n",
              "      <td>Anch Perta</td>\n",
              "    </tr>\n",
              "    <tr>\n",
              "      <th>866</th>\n",
              "      <td>5478</td>\n",
              "      <td>Earth</td>\n",
              "      <td>True</td>\n",
              "      <td>G/947/S</td>\n",
              "      <td>TRAPPIST-1e</td>\n",
              "      <td>58.0</td>\n",
              "      <td>False</td>\n",
              "      <td>0.0</td>\n",
              "      <td>0.0</td>\n",
              "      <td>0.0</td>\n",
              "      <td>0.0</td>\n",
              "      <td>0.0</td>\n",
              "      <td>Hughy Hessey</td>\n",
              "    </tr>\n",
              "    <tr>\n",
              "      <th>867</th>\n",
              "      <td>6760</td>\n",
              "      <td>Earth</td>\n",
              "      <td>True</td>\n",
              "      <td>G/1148/P</td>\n",
              "      <td>PSO J318.5-22</td>\n",
              "      <td>18.0</td>\n",
              "      <td>False</td>\n",
              "      <td>0.0</td>\n",
              "      <td>0.0</td>\n",
              "      <td>0.0</td>\n",
              "      <td>0.0</td>\n",
              "      <td>0.0</td>\n",
              "      <td>Heidie Kimpson</td>\n",
              "    </tr>\n",
              "    <tr>\n",
              "      <th>868</th>\n",
              "      <td>1437</td>\n",
              "      <td>Earth</td>\n",
              "      <td>False</td>\n",
              "      <td>F/293/S</td>\n",
              "      <td>TRAPPIST-1e</td>\n",
              "      <td>18.0</td>\n",
              "      <td>False</td>\n",
              "      <td>765.0</td>\n",
              "      <td>0.0</td>\n",
              "      <td>13.0</td>\n",
              "      <td>0.0</td>\n",
              "      <td>0.0</td>\n",
              "      <td>Herina Oconley</td>\n",
              "    </tr>\n",
              "    <tr>\n",
              "      <th>869</th>\n",
              "      <td>5171</td>\n",
              "      <td>Earth</td>\n",
              "      <td>False</td>\n",
              "      <td>F/1059/S</td>\n",
              "      <td>TRAPPIST-1e</td>\n",
              "      <td>20.0</td>\n",
              "      <td>False</td>\n",
              "      <td>0.0</td>\n",
              "      <td>0.0</td>\n",
              "      <td>0.0</td>\n",
              "      <td>703.0</td>\n",
              "      <td>0.0</td>\n",
              "      <td>Ollip Hinglendez</td>\n",
              "    </tr>\n",
              "  </tbody>\n",
              "</table>\n",
              "<p>870 rows × 13 columns</p>\n",
              "</div>\n",
              "      <button class=\"colab-df-convert\" onclick=\"convertToInteractive('df-2ac1e77e-d4c2-4eb1-a8e2-bc21b867394b')\"\n",
              "              title=\"Convert this dataframe to an interactive table.\"\n",
              "              style=\"display:none;\">\n",
              "        \n",
              "  <svg xmlns=\"http://www.w3.org/2000/svg\" height=\"24px\"viewBox=\"0 0 24 24\"\n",
              "       width=\"24px\">\n",
              "    <path d=\"M0 0h24v24H0V0z\" fill=\"none\"/>\n",
              "    <path d=\"M18.56 5.44l.94 2.06.94-2.06 2.06-.94-2.06-.94-.94-2.06-.94 2.06-2.06.94zm-11 1L8.5 8.5l.94-2.06 2.06-.94-2.06-.94L8.5 2.5l-.94 2.06-2.06.94zm10 10l.94 2.06.94-2.06 2.06-.94-2.06-.94-.94-2.06-.94 2.06-2.06.94z\"/><path d=\"M17.41 7.96l-1.37-1.37c-.4-.4-.92-.59-1.43-.59-.52 0-1.04.2-1.43.59L10.3 9.45l-7.72 7.72c-.78.78-.78 2.05 0 2.83L4 21.41c.39.39.9.59 1.41.59.51 0 1.02-.2 1.41-.59l7.78-7.78 2.81-2.81c.8-.78.8-2.07 0-2.86zM5.41 20L4 18.59l7.72-7.72 1.47 1.35L5.41 20z\"/>\n",
              "  </svg>\n",
              "      </button>\n",
              "      \n",
              "  <style>\n",
              "    .colab-df-container {\n",
              "      display:flex;\n",
              "      flex-wrap:wrap;\n",
              "      gap: 12px;\n",
              "    }\n",
              "\n",
              "    .colab-df-convert {\n",
              "      background-color: #E8F0FE;\n",
              "      border: none;\n",
              "      border-radius: 50%;\n",
              "      cursor: pointer;\n",
              "      display: none;\n",
              "      fill: #1967D2;\n",
              "      height: 32px;\n",
              "      padding: 0 0 0 0;\n",
              "      width: 32px;\n",
              "    }\n",
              "\n",
              "    .colab-df-convert:hover {\n",
              "      background-color: #E2EBFA;\n",
              "      box-shadow: 0px 1px 2px rgba(60, 64, 67, 0.3), 0px 1px 3px 1px rgba(60, 64, 67, 0.15);\n",
              "      fill: #174EA6;\n",
              "    }\n",
              "\n",
              "    [theme=dark] .colab-df-convert {\n",
              "      background-color: #3B4455;\n",
              "      fill: #D2E3FC;\n",
              "    }\n",
              "\n",
              "    [theme=dark] .colab-df-convert:hover {\n",
              "      background-color: #434B5C;\n",
              "      box-shadow: 0px 1px 3px 1px rgba(0, 0, 0, 0.15);\n",
              "      filter: drop-shadow(0px 1px 2px rgba(0, 0, 0, 0.3));\n",
              "      fill: #FFFFFF;\n",
              "    }\n",
              "  </style>\n",
              "\n",
              "      <script>\n",
              "        const buttonEl =\n",
              "          document.querySelector('#df-2ac1e77e-d4c2-4eb1-a8e2-bc21b867394b button.colab-df-convert');\n",
              "        buttonEl.style.display =\n",
              "          google.colab.kernel.accessAllowed ? 'block' : 'none';\n",
              "\n",
              "        async function convertToInteractive(key) {\n",
              "          const element = document.querySelector('#df-2ac1e77e-d4c2-4eb1-a8e2-bc21b867394b');\n",
              "          const dataTable =\n",
              "            await google.colab.kernel.invokeFunction('convertToInteractive',\n",
              "                                                     [key], {});\n",
              "          if (!dataTable) return;\n",
              "\n",
              "          const docLinkHtml = 'Like what you see? Visit the ' +\n",
              "            '<a target=\"_blank\" href=https://colab.research.google.com/notebooks/data_table.ipynb>data table notebook</a>'\n",
              "            + ' to learn more about interactive tables.';\n",
              "          element.innerHTML = '';\n",
              "          dataTable['output_type'] = 'display_data';\n",
              "          await google.colab.output.renderOutput(dataTable, element);\n",
              "          const docLink = document.createElement('div');\n",
              "          docLink.innerHTML = docLinkHtml;\n",
              "          element.appendChild(docLink);\n",
              "        }\n",
              "      </script>\n",
              "    </div>\n",
              "  </div>\n",
              "  "
            ]
          },
          "metadata": {},
          "execution_count": 11
        }
      ],
      "source": [
        "test_df"
      ]
    },
    {
      "cell_type": "markdown",
      "metadata": {
        "id": "JUgdq1dH88wj"
      },
      "source": [
        "Para poder evaluar nuestra predicción los datos de prueba deben tener exactamente el mismo tratamiento que los datos de entrenamiento"
      ]
    },
    {
      "cell_type": "code",
      "execution_count": null,
      "metadata": {
        "id": "XWsSVACR88wj"
      },
      "outputs": [],
      "source": [
        "test_df[imputer_cols] = imputer.fit_transform(test_df[imputer_cols])\n",
        "\n",
        "PassengerId = test_df['PassengerId']\n",
        "test_df.drop(['PassengerId','Cabin', 'Name'], inplace=True, axis=1)\n",
        "\n",
        "for col in label_cols:\n",
        "    test_df[col] = test_df[col].astype(str)\n",
        "    test_df[col] = LabelEncoder().fit_transform(test_df[col])\n",
        "\n",
        "cols = test_df.columns\n",
        "test_df = StandardScaler().fit_transform(test_df)\n",
        "test_df = pd.DataFrame(test_df, columns=cols)"
      ]
    },
    {
      "cell_type": "markdown",
      "metadata": {
        "id": "KuiiRgaS88wk"
      },
      "source": [
        "Generamos la salida"
      ]
    },
    {
      "cell_type": "code",
      "execution_count": null,
      "metadata": {
        "id": "QrNr8SHf88wl"
      },
      "outputs": [],
      "source": [
        "test_id = PassengerId\n",
        "test_pred = clf.predict(test_df)\n"
      ]
    },
    {
      "cell_type": "code",
      "execution_count": null,
      "metadata": {
        "id": "PcrFbthi88wl"
      },
      "outputs": [],
      "source": [
        "submission = pd.DataFrame(list(zip(test_id, test_pred)), columns=[\"PassengerId\", \"Transported\"])\n",
        "submission.to_csv(\"sample_submission.csv\", header=True, index=False)"
      ]
    },
    {
      "cell_type": "markdown",
      "metadata": {
        "id": "bi3mD57p3OHg"
      },
      "source": [
        ""
      ]
    },
    {
      "cell_type": "markdown",
      "metadata": {
        "id": "5122tYM73Kh6"
      },
      "source": [
        "# Respuestas"
      ]
    },
    {
      "cell_type": "markdown",
      "metadata": {
        "id": "eo772vU7SslI"
      },
      "source": [
        "## 1- ¿De qué se trata el conjunto de datos?"
      ]
    },
    {
      "cell_type": "markdown",
      "metadata": {
        "id": "oDgLb0kaSkEw"
      },
      "source": [
        "El conjunto de datos es un conjunto de una competencia de Kaggle, para predecir si un pasajero fue transportado a una dimensión alternativa durante la colisión de la nave espacial Titanic con la anomalía del espacio-tiempo. Para hacer las predicciones, se proporciona un conjunto de registros personales recuperados del sistema informático dañado de la nave espacial."
      ]
    },
    {
      "cell_type": "markdown",
      "metadata": {
        "id": "bGI9tpW-VmJH"
      },
      "source": [
        "## 2- ¿Cuál es la variable objetivo que hay que predecir? ¿Qué significado tiene?\n",
        "\n",
        "\n"
      ]
    },
    {
      "cell_type": "markdown",
      "metadata": {
        "id": "nJ2hikPPWVBA"
      },
      "source": [
        "La variable objetivo es la variable binaria 'Transported'. En la misma se muestra si el pasajero fue transportado a una dimension alternativa, tiene la siguiente salida:\n",
        "\n",
        "\n",
        "*   1 si el pasajero fue transportado a otra dimensión\n",
        "*   0 si el pasajero no fue transportado a otra dimensión\n",
        "\n",
        "Esta es la variable que se utilizará para realizar la predicción de transportación y poder decidir si se debe realizar busqueda del pasajero o no.\n",
        "\n"
      ]
    },
    {
      "cell_type": "markdown",
      "metadata": {
        "id": "lyfbpFI-WJ_T"
      },
      "source": [
        "## 3- ¿Qué información (atributos) hay disponible para hacer la predicción?\n"
      ]
    },
    {
      "cell_type": "code",
      "execution_count": null,
      "metadata": {
        "id": "MdI2wolR56f3"
      },
      "outputs": [],
      "source": [
        "dataset = pd.read_csv('https://raw.githubusercontent.com/DiploDatos/AprendizajeSupervisado/master/Pr%C3%A1ctico/train.csv')"
      ]
    },
    {
      "cell_type": "code",
      "execution_count": null,
      "metadata": {
        "colab": {
          "base_uri": "https://localhost:8080/"
        },
        "id": "HVF46D7mNpd6",
        "outputId": "9c02e23d-2bf9-4e3b-8587-05593dbd60ab"
      },
      "outputs": [
        {
          "output_type": "execute_result",
          "data": {
            "text/plain": [
              "(7823, 14)"
            ]
          },
          "metadata": {},
          "execution_count": 16
        }
      ],
      "source": [
        "dataset.shape"
      ]
    },
    {
      "cell_type": "code",
      "execution_count": null,
      "metadata": {
        "colab": {
          "base_uri": "https://localhost:8080/"
        },
        "id": "GEYbKkq_Npd6",
        "outputId": "2a8bfb32-0b6f-46f0-e5e6-c1178cac51ee"
      },
      "outputs": [
        {
          "output_type": "execute_result",
          "data": {
            "text/plain": [
              "Index(['PassengerId', 'HomePlanet', 'CryoSleep', 'Cabin', 'Destination', 'Age',\n",
              "       'VIP', 'RoomService', 'FoodCourt', 'ShoppingMall', 'Spa', 'VRDeck',\n",
              "       'Name', 'Transported'],\n",
              "      dtype='object')"
            ]
          },
          "metadata": {},
          "execution_count": 17
        }
      ],
      "source": [
        "dataset.columns"
      ]
    },
    {
      "cell_type": "code",
      "execution_count": null,
      "metadata": {
        "colab": {
          "base_uri": "https://localhost:8080/"
        },
        "id": "FHWEaq2JNpd7",
        "outputId": "59bedfc5-9e8e-4139-d5fc-1c071e32068a"
      },
      "outputs": [
        {
          "output_type": "execute_result",
          "data": {
            "text/plain": [
              "PassengerId       int64\n",
              "HomePlanet       object\n",
              "CryoSleep        object\n",
              "Cabin            object\n",
              "Destination      object\n",
              "Age             float64\n",
              "VIP              object\n",
              "RoomService     float64\n",
              "FoodCourt       float64\n",
              "ShoppingMall    float64\n",
              "Spa             float64\n",
              "VRDeck          float64\n",
              "Name             object\n",
              "Transported       int64\n",
              "dtype: object"
            ]
          },
          "metadata": {},
          "execution_count": 18
        }
      ],
      "source": [
        "dataset.dtypes"
      ]
    },
    {
      "cell_type": "code",
      "execution_count": null,
      "metadata": {
        "colab": {
          "base_uri": "https://localhost:8080/",
          "height": 424
        },
        "id": "GLK4Lila6PwW",
        "outputId": "1a4d97d0-32d5-404b-d12c-9c7e5405065c"
      },
      "outputs": [
        {
          "output_type": "execute_result",
          "data": {
            "text/plain": [
              "      PassengerId HomePlanet CryoSleep     Cabin  Destination   Age    VIP  \\\n",
              "0            3430     Europa     False   C/123/P  TRAPPIST-1e  57.0  False   \n",
              "1             669       Mars      True   F/126/S          NaN  18.0  False   \n",
              "2            8430     Europa      True   B/343/S  TRAPPIST-1e  33.0    NaN   \n",
              "3            6463      Earth     False  F/1420/P  TRAPPIST-1e  43.0  False   \n",
              "4              85      Earth     False     G/9/P  TRAPPIST-1e  19.0  False   \n",
              "...           ...        ...       ...       ...          ...   ...    ...   \n",
              "7818         6528       Mars     False  F/1319/S  TRAPPIST-1e  12.0    NaN   \n",
              "7819         2693      Earth     False   G/459/S  TRAPPIST-1e  44.0  False   \n",
              "7820         8076       Mars      True  F/1772/P  TRAPPIST-1e  55.0  False   \n",
              "7821         3829      Earth     False   E/253/P  TRAPPIST-1e  15.0  False   \n",
              "7822         7624     Europa      True   B/270/P  55 Cancri e  45.0  False   \n",
              "\n",
              "      RoomService  FoodCourt  ShoppingMall    Spa  VRDeck               Name  \\\n",
              "0             0.0     3859.0          13.0  195.0  3874.0     Azhah Tronsive   \n",
              "1             0.0        0.0           0.0    0.0     0.0         Roswal Sha   \n",
              "2             0.0        0.0           0.0    0.0     0.0  Shaiam Tinganking   \n",
              "3           142.0     1208.0           0.0    0.0   204.0     Landa Grifford   \n",
              "4             0.0        0.0         670.0    1.0    34.0     Gracy Dunnisey   \n",
              "...           ...        ...           ...    ...     ...                ...   \n",
              "7818          0.0        0.0           0.0    0.0     0.0        Risps Hacle   \n",
              "7819          0.0        0.0         744.0   62.0     3.0      Gabrie Reenez   \n",
              "7820          0.0        0.0           0.0    0.0     0.0       Panzel Ruity   \n",
              "7821          0.0      840.0         123.0    0.0    20.0    Belly Weavesend   \n",
              "7822          0.0        0.0           0.0    0.0     0.0  Graston Donotaked   \n",
              "\n",
              "      Transported  \n",
              "0               0  \n",
              "1               1  \n",
              "2               1  \n",
              "3               0  \n",
              "4               0  \n",
              "...           ...  \n",
              "7818            1  \n",
              "7819            0  \n",
              "7820            1  \n",
              "7821            0  \n",
              "7822            1  \n",
              "\n",
              "[7823 rows x 14 columns]"
            ],
            "text/html": [
              "\n",
              "  <div id=\"df-3e8f2d8c-5805-4114-995b-961f65a4ba46\">\n",
              "    <div class=\"colab-df-container\">\n",
              "      <div>\n",
              "<style scoped>\n",
              "    .dataframe tbody tr th:only-of-type {\n",
              "        vertical-align: middle;\n",
              "    }\n",
              "\n",
              "    .dataframe tbody tr th {\n",
              "        vertical-align: top;\n",
              "    }\n",
              "\n",
              "    .dataframe thead th {\n",
              "        text-align: right;\n",
              "    }\n",
              "</style>\n",
              "<table border=\"1\" class=\"dataframe\">\n",
              "  <thead>\n",
              "    <tr style=\"text-align: right;\">\n",
              "      <th></th>\n",
              "      <th>PassengerId</th>\n",
              "      <th>HomePlanet</th>\n",
              "      <th>CryoSleep</th>\n",
              "      <th>Cabin</th>\n",
              "      <th>Destination</th>\n",
              "      <th>Age</th>\n",
              "      <th>VIP</th>\n",
              "      <th>RoomService</th>\n",
              "      <th>FoodCourt</th>\n",
              "      <th>ShoppingMall</th>\n",
              "      <th>Spa</th>\n",
              "      <th>VRDeck</th>\n",
              "      <th>Name</th>\n",
              "      <th>Transported</th>\n",
              "    </tr>\n",
              "  </thead>\n",
              "  <tbody>\n",
              "    <tr>\n",
              "      <th>0</th>\n",
              "      <td>3430</td>\n",
              "      <td>Europa</td>\n",
              "      <td>False</td>\n",
              "      <td>C/123/P</td>\n",
              "      <td>TRAPPIST-1e</td>\n",
              "      <td>57.0</td>\n",
              "      <td>False</td>\n",
              "      <td>0.0</td>\n",
              "      <td>3859.0</td>\n",
              "      <td>13.0</td>\n",
              "      <td>195.0</td>\n",
              "      <td>3874.0</td>\n",
              "      <td>Azhah Tronsive</td>\n",
              "      <td>0</td>\n",
              "    </tr>\n",
              "    <tr>\n",
              "      <th>1</th>\n",
              "      <td>669</td>\n",
              "      <td>Mars</td>\n",
              "      <td>True</td>\n",
              "      <td>F/126/S</td>\n",
              "      <td>NaN</td>\n",
              "      <td>18.0</td>\n",
              "      <td>False</td>\n",
              "      <td>0.0</td>\n",
              "      <td>0.0</td>\n",
              "      <td>0.0</td>\n",
              "      <td>0.0</td>\n",
              "      <td>0.0</td>\n",
              "      <td>Roswal Sha</td>\n",
              "      <td>1</td>\n",
              "    </tr>\n",
              "    <tr>\n",
              "      <th>2</th>\n",
              "      <td>8430</td>\n",
              "      <td>Europa</td>\n",
              "      <td>True</td>\n",
              "      <td>B/343/S</td>\n",
              "      <td>TRAPPIST-1e</td>\n",
              "      <td>33.0</td>\n",
              "      <td>NaN</td>\n",
              "      <td>0.0</td>\n",
              "      <td>0.0</td>\n",
              "      <td>0.0</td>\n",
              "      <td>0.0</td>\n",
              "      <td>0.0</td>\n",
              "      <td>Shaiam Tinganking</td>\n",
              "      <td>1</td>\n",
              "    </tr>\n",
              "    <tr>\n",
              "      <th>3</th>\n",
              "      <td>6463</td>\n",
              "      <td>Earth</td>\n",
              "      <td>False</td>\n",
              "      <td>F/1420/P</td>\n",
              "      <td>TRAPPIST-1e</td>\n",
              "      <td>43.0</td>\n",
              "      <td>False</td>\n",
              "      <td>142.0</td>\n",
              "      <td>1208.0</td>\n",
              "      <td>0.0</td>\n",
              "      <td>0.0</td>\n",
              "      <td>204.0</td>\n",
              "      <td>Landa Grifford</td>\n",
              "      <td>0</td>\n",
              "    </tr>\n",
              "    <tr>\n",
              "      <th>4</th>\n",
              "      <td>85</td>\n",
              "      <td>Earth</td>\n",
              "      <td>False</td>\n",
              "      <td>G/9/P</td>\n",
              "      <td>TRAPPIST-1e</td>\n",
              "      <td>19.0</td>\n",
              "      <td>False</td>\n",
              "      <td>0.0</td>\n",
              "      <td>0.0</td>\n",
              "      <td>670.0</td>\n",
              "      <td>1.0</td>\n",
              "      <td>34.0</td>\n",
              "      <td>Gracy Dunnisey</td>\n",
              "      <td>0</td>\n",
              "    </tr>\n",
              "    <tr>\n",
              "      <th>...</th>\n",
              "      <td>...</td>\n",
              "      <td>...</td>\n",
              "      <td>...</td>\n",
              "      <td>...</td>\n",
              "      <td>...</td>\n",
              "      <td>...</td>\n",
              "      <td>...</td>\n",
              "      <td>...</td>\n",
              "      <td>...</td>\n",
              "      <td>...</td>\n",
              "      <td>...</td>\n",
              "      <td>...</td>\n",
              "      <td>...</td>\n",
              "      <td>...</td>\n",
              "    </tr>\n",
              "    <tr>\n",
              "      <th>7818</th>\n",
              "      <td>6528</td>\n",
              "      <td>Mars</td>\n",
              "      <td>False</td>\n",
              "      <td>F/1319/S</td>\n",
              "      <td>TRAPPIST-1e</td>\n",
              "      <td>12.0</td>\n",
              "      <td>NaN</td>\n",
              "      <td>0.0</td>\n",
              "      <td>0.0</td>\n",
              "      <td>0.0</td>\n",
              "      <td>0.0</td>\n",
              "      <td>0.0</td>\n",
              "      <td>Risps Hacle</td>\n",
              "      <td>1</td>\n",
              "    </tr>\n",
              "    <tr>\n",
              "      <th>7819</th>\n",
              "      <td>2693</td>\n",
              "      <td>Earth</td>\n",
              "      <td>False</td>\n",
              "      <td>G/459/S</td>\n",
              "      <td>TRAPPIST-1e</td>\n",
              "      <td>44.0</td>\n",
              "      <td>False</td>\n",
              "      <td>0.0</td>\n",
              "      <td>0.0</td>\n",
              "      <td>744.0</td>\n",
              "      <td>62.0</td>\n",
              "      <td>3.0</td>\n",
              "      <td>Gabrie Reenez</td>\n",
              "      <td>0</td>\n",
              "    </tr>\n",
              "    <tr>\n",
              "      <th>7820</th>\n",
              "      <td>8076</td>\n",
              "      <td>Mars</td>\n",
              "      <td>True</td>\n",
              "      <td>F/1772/P</td>\n",
              "      <td>TRAPPIST-1e</td>\n",
              "      <td>55.0</td>\n",
              "      <td>False</td>\n",
              "      <td>0.0</td>\n",
              "      <td>0.0</td>\n",
              "      <td>0.0</td>\n",
              "      <td>0.0</td>\n",
              "      <td>0.0</td>\n",
              "      <td>Panzel Ruity</td>\n",
              "      <td>1</td>\n",
              "    </tr>\n",
              "    <tr>\n",
              "      <th>7821</th>\n",
              "      <td>3829</td>\n",
              "      <td>Earth</td>\n",
              "      <td>False</td>\n",
              "      <td>E/253/P</td>\n",
              "      <td>TRAPPIST-1e</td>\n",
              "      <td>15.0</td>\n",
              "      <td>False</td>\n",
              "      <td>0.0</td>\n",
              "      <td>840.0</td>\n",
              "      <td>123.0</td>\n",
              "      <td>0.0</td>\n",
              "      <td>20.0</td>\n",
              "      <td>Belly Weavesend</td>\n",
              "      <td>0</td>\n",
              "    </tr>\n",
              "    <tr>\n",
              "      <th>7822</th>\n",
              "      <td>7624</td>\n",
              "      <td>Europa</td>\n",
              "      <td>True</td>\n",
              "      <td>B/270/P</td>\n",
              "      <td>55 Cancri e</td>\n",
              "      <td>45.0</td>\n",
              "      <td>False</td>\n",
              "      <td>0.0</td>\n",
              "      <td>0.0</td>\n",
              "      <td>0.0</td>\n",
              "      <td>0.0</td>\n",
              "      <td>0.0</td>\n",
              "      <td>Graston Donotaked</td>\n",
              "      <td>1</td>\n",
              "    </tr>\n",
              "  </tbody>\n",
              "</table>\n",
              "<p>7823 rows × 14 columns</p>\n",
              "</div>\n",
              "      <button class=\"colab-df-convert\" onclick=\"convertToInteractive('df-3e8f2d8c-5805-4114-995b-961f65a4ba46')\"\n",
              "              title=\"Convert this dataframe to an interactive table.\"\n",
              "              style=\"display:none;\">\n",
              "        \n",
              "  <svg xmlns=\"http://www.w3.org/2000/svg\" height=\"24px\"viewBox=\"0 0 24 24\"\n",
              "       width=\"24px\">\n",
              "    <path d=\"M0 0h24v24H0V0z\" fill=\"none\"/>\n",
              "    <path d=\"M18.56 5.44l.94 2.06.94-2.06 2.06-.94-2.06-.94-.94-2.06-.94 2.06-2.06.94zm-11 1L8.5 8.5l.94-2.06 2.06-.94-2.06-.94L8.5 2.5l-.94 2.06-2.06.94zm10 10l.94 2.06.94-2.06 2.06-.94-2.06-.94-.94-2.06-.94 2.06-2.06.94z\"/><path d=\"M17.41 7.96l-1.37-1.37c-.4-.4-.92-.59-1.43-.59-.52 0-1.04.2-1.43.59L10.3 9.45l-7.72 7.72c-.78.78-.78 2.05 0 2.83L4 21.41c.39.39.9.59 1.41.59.51 0 1.02-.2 1.41-.59l7.78-7.78 2.81-2.81c.8-.78.8-2.07 0-2.86zM5.41 20L4 18.59l7.72-7.72 1.47 1.35L5.41 20z\"/>\n",
              "  </svg>\n",
              "      </button>\n",
              "      \n",
              "  <style>\n",
              "    .colab-df-container {\n",
              "      display:flex;\n",
              "      flex-wrap:wrap;\n",
              "      gap: 12px;\n",
              "    }\n",
              "\n",
              "    .colab-df-convert {\n",
              "      background-color: #E8F0FE;\n",
              "      border: none;\n",
              "      border-radius: 50%;\n",
              "      cursor: pointer;\n",
              "      display: none;\n",
              "      fill: #1967D2;\n",
              "      height: 32px;\n",
              "      padding: 0 0 0 0;\n",
              "      width: 32px;\n",
              "    }\n",
              "\n",
              "    .colab-df-convert:hover {\n",
              "      background-color: #E2EBFA;\n",
              "      box-shadow: 0px 1px 2px rgba(60, 64, 67, 0.3), 0px 1px 3px 1px rgba(60, 64, 67, 0.15);\n",
              "      fill: #174EA6;\n",
              "    }\n",
              "\n",
              "    [theme=dark] .colab-df-convert {\n",
              "      background-color: #3B4455;\n",
              "      fill: #D2E3FC;\n",
              "    }\n",
              "\n",
              "    [theme=dark] .colab-df-convert:hover {\n",
              "      background-color: #434B5C;\n",
              "      box-shadow: 0px 1px 3px 1px rgba(0, 0, 0, 0.15);\n",
              "      filter: drop-shadow(0px 1px 2px rgba(0, 0, 0, 0.3));\n",
              "      fill: #FFFFFF;\n",
              "    }\n",
              "  </style>\n",
              "\n",
              "      <script>\n",
              "        const buttonEl =\n",
              "          document.querySelector('#df-3e8f2d8c-5805-4114-995b-961f65a4ba46 button.colab-df-convert');\n",
              "        buttonEl.style.display =\n",
              "          google.colab.kernel.accessAllowed ? 'block' : 'none';\n",
              "\n",
              "        async function convertToInteractive(key) {\n",
              "          const element = document.querySelector('#df-3e8f2d8c-5805-4114-995b-961f65a4ba46');\n",
              "          const dataTable =\n",
              "            await google.colab.kernel.invokeFunction('convertToInteractive',\n",
              "                                                     [key], {});\n",
              "          if (!dataTable) return;\n",
              "\n",
              "          const docLinkHtml = 'Like what you see? Visit the ' +\n",
              "            '<a target=\"_blank\" href=https://colab.research.google.com/notebooks/data_table.ipynb>data table notebook</a>'\n",
              "            + ' to learn more about interactive tables.';\n",
              "          element.innerHTML = '';\n",
              "          dataTable['output_type'] = 'display_data';\n",
              "          await google.colab.output.renderOutput(dataTable, element);\n",
              "          const docLink = document.createElement('div');\n",
              "          docLink.innerHTML = docLinkHtml;\n",
              "          element.appendChild(docLink);\n",
              "        }\n",
              "      </script>\n",
              "    </div>\n",
              "  </div>\n",
              "  "
            ]
          },
          "metadata": {},
          "execution_count": 19
        }
      ],
      "source": [
        "dataset"
      ]
    },
    {
      "cell_type": "markdown",
      "metadata": {
        "id": "dFzwhea5047u"
      },
      "source": [
        "Los atributos disponibles para realizar la predicción son:\n",
        "\n",
        "*   **PassengerId** - Es el número de identificación del pasajero Un Id único para cada pasajero.\n",
        "*   **HomePlanet** - El planeta del que partió el pasajero, normalmente su planeta de residencia permanente.\n",
        "*   **CryoSleep** - Indica si el pasajero eligió ser puesto en animación suspendida durante la duración del viaje. Los pasajeros en criosueño están confinados en sus cabinas.\n",
        "*   **Cabin** - El número de cabina donde se hospeda el pasajero. Toma la forma deck/num/side, donde sidepuede ser Ppor Babor o Spor Estribor .\n",
        "*   **Destination** - El planeta al que desembarcará el pasajero.\n",
        "*   **Age** - La edad del pasajero.\n",
        "*   **VIP** - Si el pasajero ha pagado por servicio VIP especial durante el viaje.\n",
        "*  **RoomService**, **FoodCourt**, **ShoppingMall**, **Spa**, **VRDeck** - Monto que el pasajero ha facturado en cada uno de los muchos servicios de lujo del Spaceship Titanic \n",
        "*   **Name** - El nombre y apellido del pasajero.\n",
        "*  **Transported**- Si el pasajero fue transportado a otra dimensión. Este es el objetivo, la columna que se tratara de predecir.\n"
      ]
    },
    {
      "cell_type": "markdown",
      "metadata": {
        "id": "68AAPaEEgXNY"
      },
      "source": [
        "## Visualización"
      ]
    },
    {
      "cell_type": "markdown",
      "source": [
        "###Cantidad de pasajeros transportados a otra dimensión"
      ],
      "metadata": {
        "id": "3CddKePbqR8Z"
      }
    },
    {
      "cell_type": "code",
      "execution_count": null,
      "metadata": {
        "colab": {
          "base_uri": "https://localhost:8080/",
          "height": 453
        },
        "outputId": "003fc561-2bf2-4f57-8d8c-2c43fe0e5729",
        "id": "cpXpjx1uXslw"
      },
      "outputs": [
        {
          "output_type": "execute_result",
          "data": {
            "text/plain": [
              "(array([   0.,  500., 1000., 1500., 2000., 2500., 3000., 3500., 4000.,\n",
              "        4500.]), <a list of 10 Text major ticklabel objects>)"
            ]
          },
          "metadata": {},
          "execution_count": 20
        },
        {
          "output_type": "display_data",
          "data": {
            "text/plain": [
              "<Figure size 648x432 with 1 Axes>"
            ],
            "image/png": "[encoded data removed]"
          },
          "metadata": {
            "needs_background": "light"
          }
        }
      ],
      "source": [
        " #Graficamente podemos verlo de la siguiente manera\n",
        "import seaborn as sns\n",
        "fig = plt.figure(figsize=(9,6))\n",
        "sns.countplot(data=dataset, x='Transported', palette=\"Set2\")\n",
        "\n",
        "plt.title('TRANSPORTADO A OTRA DIMENSION', \n",
        "            loc='center', color='#505050', fontsize=20, fontweight='bold')\n",
        "\n",
        "plt.ylabel(\"Cantidad\", size=14, fontweight='bold', color='#505050')\n",
        "plt.xlabel(\"Transported\", size=14, fontweight='bold', color='#505050')\n",
        "\n",
        "plt.xticks(fontsize=15, rotation=0)\n",
        "plt.yticks(fontsize=15)"
      ]
    },
    {
      "cell_type": "markdown",
      "source": [
        "En este grafico se puede ver que, más de la mitad de los pasajeros fueron transportados a otra dimensión"
      ],
      "metadata": {
        "id": "u54LUOqf17ON"
      }
    },
    {
      "cell_type": "markdown",
      "source": [
        "###Cantidad de pasajeros transportados a otra dimensión vs CryoSleep"
      ],
      "metadata": {
        "id": "GoPKfiTwqpM5"
      }
    },
    {
      "cell_type": "code",
      "execution_count": null,
      "metadata": {
        "colab": {
          "base_uri": "https://localhost:8080/",
          "height": 453
        },
        "outputId": "2b3a71bf-0805-43a0-93a5-a6023b9ca6dd",
        "id": "Ppr7XL9yTPHl"
      },
      "outputs": [
        {
          "output_type": "execute_result",
          "data": {
            "text/plain": [
              "(array([   0.,  500., 1000., 1500., 2000., 2500., 3000., 3500.]),\n",
              " <a list of 8 Text major ticklabel objects>)"
            ]
          },
          "metadata": {},
          "execution_count": 21
        },
        {
          "output_type": "display_data",
          "data": {
            "text/plain": [
              "<Figure size 648x432 with 1 Axes>"
            ],
            "image/png": "[encoded data removed]"
          },
          "metadata": {
            "needs_background": "light"
          }
        }
      ],
      "source": [
        "#Graficamente podemos verlo de la siguiente manera\n",
        "import seaborn as sns\n",
        "fig = plt.figure(figsize=(9,6))\n",
        "sns.color_palette(\"flare\", as_cmap=True)\n",
        "\n",
        "sns.countplot(data=dataset, x='CryoSleep', hue='Transported',palette=\"Set2\")\n",
        "\n",
        "plt.title('Transportados vs CryoSleep',\n",
        "            loc='center', color='#505050', fontsize=20, fontweight='bold')\n",
        "\n",
        "plt.ylabel(\"Cantidad\", size=14, fontweight='bold', color='#505050')\n",
        "plt.xlabel(\"CryoSleep\", size=14, fontweight='bold', color='#505050')\n",
        "\n",
        "plt.xticks(fontsize=15, rotation=0)\n",
        "plt.yticks(fontsize=15)"
      ]
    },
    {
      "cell_type": "markdown",
      "source": [
        "En el grafico anterior podemos ver que los pasajeros en criosueño (que estában confinados en sus cabinas) tienen una mayor posibilidad de haber sido transportados a otra dimensión."
      ],
      "metadata": {
        "id": "AtKED0JZ2Ls2"
      }
    },
    {
      "cell_type": "markdown",
      "source": [
        "###Cantidad de pasajeros transportados a otra dimensión vs Lugar de origen "
      ],
      "metadata": {
        "id": "T9IH13LaqzYb"
      }
    },
    {
      "cell_type": "code",
      "execution_count": null,
      "metadata": {
        "colab": {
          "base_uri": "https://localhost:8080/",
          "height": 453
        },
        "outputId": "17dbed9d-c733-47de-8e62-cc37a7bb10a3",
        "id": "LzUoU0b-Zx3a"
      },
      "outputs": [
        {
          "output_type": "execute_result",
          "data": {
            "text/plain": [
              "(array([   0.,  500., 1000., 1500., 2000., 2500.]),\n",
              " <a list of 6 Text major ticklabel objects>)"
            ]
          },
          "metadata": {},
          "execution_count": 22
        },
        {
          "output_type": "display_data",
          "data": {
            "text/plain": [
              "<Figure size 648x432 with 1 Axes>"
            ],
            "image/png": "[encoded data removed]"
          },
          "metadata": {
            "needs_background": "light"
          }
        }
      ],
      "source": [
        " #Graficamente podemos verlo de la siguiente manera\n",
        "import seaborn as sns\n",
        "fig = plt.figure(figsize=(9,6))\n",
        "sns.countplot(data=dataset, x='HomePlanet',hue='Transported', palette=\"Set2\")\n",
        "\n",
        "plt.title('Transportados vs HomePlanet',\n",
        "            loc='center', color='#505050', fontsize=20, fontweight='bold')\n",
        "\n",
        "plt.ylabel(\"Cantidad\", size=14, fontweight='bold', color='#505050')\n",
        "plt.xlabel(\"HomePlanet\", size=14, fontweight='bold', color='#505050')\n",
        "\n",
        "plt.xticks(fontsize=15, rotation=0)\n",
        "plt.yticks(fontsize=15)"
      ]
    },
    {
      "cell_type": "markdown",
      "source": [
        "En este grafico se puede ver que según el lugar de origen de los pasajeros las posibilidades de se transportados cambian."
      ],
      "metadata": {
        "id": "X_53ZqTK25r-"
      }
    },
    {
      "cell_type": "markdown",
      "source": [
        "###Cantidad de pasajeros VIP transportados "
      ],
      "metadata": {
        "id": "KHuLP4mQrKNX"
      }
    },
    {
      "cell_type": "code",
      "execution_count": null,
      "metadata": {
        "colab": {
          "base_uri": "https://localhost:8080/",
          "height": 458
        },
        "outputId": "4a98a67f-3a79-43de-c2bf-53e1832e50dd",
        "id": "dkKvr8jpvqf3"
      },
      "outputs": [
        {
          "output_type": "execute_result",
          "data": {
            "text/plain": [
              "(array([   0.,  500., 1000., 1500., 2000., 2500., 3000., 3500., 4000.]),\n",
              " <a list of 9 Text major ticklabel objects>)"
            ]
          },
          "metadata": {},
          "execution_count": 23
        },
        {
          "output_type": "display_data",
          "data": {
            "text/plain": [
              "<Figure size 648x432 with 1 Axes>"
            ],
            "image/png": "[encoded data removed]"
          },
          "metadata": {
            "needs_background": "light"
          }
        }
      ],
      "source": [
        " #Graficamente podemos verlo de la siguiente manera\n",
        "import seaborn as sns\n",
        "fig = plt.figure(figsize=(9,6))\n",
        "sns.countplot(data=dataset, x='VIP',hue='Transported', palette=\"Set2\")\n",
        "\n",
        "plt.title('Transportados vs VIP',\n",
        "            loc='center', color='#505050', fontsize=20, fontweight='bold')\n",
        "\n",
        "plt.ylabel(\"Cantidad\", size=20, fontweight='bold', color='#505050')\n",
        "plt.xlabel(\"VIP\", size=20, fontweight='bold', color='#505050')\n",
        "\n",
        "plt.xticks(fontsize=15, rotation=0)\n",
        "plt.yticks(fontsize=15)"
      ]
    },
    {
      "cell_type": "markdown",
      "source": [
        ""
      ],
      "metadata": {
        "id": "rdd_1o563zFq"
      }
    },
    {
      "cell_type": "markdown",
      "source": [
        "###Cantidad de pasajeros transportados a otra dimensión vs destino"
      ],
      "metadata": {
        "id": "0sorPxperTQw"
      }
    },
    {
      "cell_type": "code",
      "execution_count": null,
      "metadata": {
        "colab": {
          "base_uri": "https://localhost:8080/",
          "height": 458
        },
        "outputId": "d2ca5cdc-8237-4e36-ce75-cd83549d768a",
        "id": "m7GZxPn4l-FZ"
      },
      "outputs": [
        {
          "output_type": "execute_result",
          "data": {
            "text/plain": [
              "(array([   0.,  500., 1000., 1500., 2000., 2500., 3000.]),\n",
              " <a list of 7 Text major ticklabel objects>)"
            ]
          },
          "metadata": {},
          "execution_count": 24
        },
        {
          "output_type": "display_data",
          "data": {
            "text/plain": [
              "<Figure size 648x432 with 1 Axes>"
            ],
            "image/png": "[encoded data removed]"
          },
          "metadata": {
            "needs_background": "light"
          }
        }
      ],
      "source": [
        " #Graficamente podemos verlo de la siguiente manera\n",
        "import seaborn as sns\n",
        "fig = plt.figure(figsize=(9,6))\n",
        "sns.countplot(data=dataset, x='Destination',hue='Transported', palette=\"Set2\")\n",
        "\n",
        "plt.title('Transportados vs Destination',\n",
        "            loc='center', color='#505050', fontsize=20, fontweight='bold')\n",
        "\n",
        "plt.ylabel(\"Cantidad\", size=20, fontweight='bold', color='#505050')\n",
        "plt.xlabel(\"Destination\", size=20, fontweight='bold', color='#505050')\n",
        "\n",
        "plt.xticks(fontsize=15, rotation=0)\n",
        "plt.yticks(fontsize=15)"
      ]
    },
    {
      "cell_type": "markdown",
      "source": [
        "En este grafico se puede ver que según el destino cambia la cantidad de pasajeros transportados"
      ],
      "metadata": {
        "id": "8k5Hhtfv39r7"
      }
    },
    {
      "cell_type": "markdown",
      "source": [
        "###Cantidad de pasajeros transportados a otra dimensión vs zona de la nave donde se alojaba"
      ],
      "metadata": {
        "id": "woIQbECrrqAh"
      }
    },
    {
      "cell_type": "code",
      "source": [
        "dataset['Cabin'] = dataset['Cabin'].astype(str)\n",
        "dataset['Cabin_side'] = dataset['Cabin'].apply(lambda x: x[-1:])\n",
        "dataset['Cabin'] = dataset['Cabin'].apply(lambda x: x[:1])\n",
        "dataset['Cabin'].unique(), dataset['Cabin_side'].unique()"
      ],
      "metadata": {
        "id": "PFYGuoWYqZKm",
        "colab": {
          "base_uri": "https://localhost:8080/"
        },
        "outputId": "9e85aac6-90fc-467b-8293-719686791830"
      },
      "execution_count": null,
      "outputs": [
        {
          "output_type": "execute_result",
          "data": {
            "text/plain": [
              "(array(['C', 'F', 'B', 'G', 'E', 'D', 'n', 'A', 'T'], dtype=object),\n",
              " array(['P', 'S', 'n'], dtype=object))"
            ]
          },
          "metadata": {},
          "execution_count": 25
        }
      ]
    },
    {
      "cell_type": "code",
      "execution_count": null,
      "metadata": {
        "colab": {
          "base_uri": "https://localhost:8080/",
          "height": 458
        },
        "outputId": "abe45486-b67d-497c-8ff4-056b57b9740c",
        "id": "C6tQHnY_scOE"
      },
      "outputs": [
        {
          "output_type": "execute_result",
          "data": {
            "text/plain": [
              "(array([   0.,  500., 1000., 1500., 2000., 2500., 3000.]),\n",
              " <a list of 7 Text major ticklabel objects>)"
            ]
          },
          "metadata": {},
          "execution_count": 26
        },
        {
          "output_type": "display_data",
          "data": {
            "text/plain": [
              "<Figure size 648x432 with 1 Axes>"
            ],
            "image/png": "[encoded data removed]"
          },
          "metadata": {
            "needs_background": "light"
          }
        }
      ],
      "source": [
        " #Graficamente podemos verlo de la siguiente manera\n",
        "import seaborn as sns\n",
        "fig = plt.figure(figsize=(9,6))\n",
        "sns.countplot(data=dataset.sort_values(by=['Cabin']), x='Cabin',palette=\"Set2\")\n",
        "\n",
        "plt.title('Pasajeros por Cabina',\n",
        "            loc='center', color='#505050', fontsize=20, fontweight='bold')\n",
        "\n",
        "plt.ylabel(\"Cantidad\", size=20, fontweight='bold', color='#505050')\n",
        "plt.xlabel(\"Cabina\", size=20, fontweight='bold', color='#505050')\n",
        "\n",
        "plt.xticks(fontsize=15, rotation=0)\n",
        "plt.yticks(fontsize=15)"
      ]
    },
    {
      "cell_type": "markdown",
      "source": [
        "En el grafico anterior se puede ver que la cantidad de pasajeros cambia segun el Deck en el que viajaban, se verifica una gran concentración de pasajeros en Decks F y G"
      ],
      "metadata": {
        "id": "-Kvtn_PU4kPp"
      }
    },
    {
      "cell_type": "code",
      "execution_count": null,
      "metadata": {
        "colab": {
          "base_uri": "https://localhost:8080/",
          "height": 458
        },
        "outputId": "1f891ff7-17c6-457a-90d8-3903f4e0f3dc",
        "id": "LKIDf24Jrvhe"
      },
      "outputs": [
        {
          "output_type": "execute_result",
          "data": {
            "text/plain": [
              "(array([   0.,  200.,  400.,  600.,  800., 1000., 1200., 1400., 1600.]),\n",
              " <a list of 9 Text major ticklabel objects>)"
            ]
          },
          "metadata": {},
          "execution_count": 27
        },
        {
          "output_type": "display_data",
          "data": {
            "text/plain": [
              "<Figure size 648x432 with 1 Axes>"
            ],
            "image/png": "[encoded data removed]"
          },
          "metadata": {
            "needs_background": "light"
          }
        }
      ],
      "source": [
        " #Graficamente podemos verlo de la siguiente manera\n",
        "import seaborn as sns\n",
        "fig = plt.figure(figsize=(9,6))\n",
        "sns.countplot(data=dataset.sort_values(by=['Cabin']), x='Cabin',hue='Transported', palette=\"Set2\")\n",
        "\n",
        "plt.title('Transportados vs Cabina',\n",
        "            loc='center', color='#505050', fontsize=20, fontweight='bold')\n",
        "\n",
        "plt.ylabel(\"Cantidad\", size=20, fontweight='bold', color='#505050')\n",
        "plt.xlabel(\"Cabina\", size=20, fontweight='bold', color='#505050')\n",
        "\n",
        "plt.xticks(fontsize=15, rotation=0)\n",
        "plt.yticks(fontsize=15)"
      ]
    },
    {
      "cell_type": "code",
      "execution_count": null,
      "metadata": {
        "colab": {
          "base_uri": "https://localhost:8080/",
          "height": 458
        },
        "outputId": "1da6bd8d-f465-4b22-aeee-3180caf531d2",
        "id": "bqDbxqpgwzUo"
      },
      "outputs": [
        {
          "output_type": "execute_result",
          "data": {
            "text/plain": [
              "(array([   0.,  500., 1000., 1500., 2000., 2500., 3000., 3500., 4000.,\n",
              "        4500.]), <a list of 10 Text major ticklabel objects>)"
            ]
          },
          "metadata": {},
          "execution_count": 28
        },
        {
          "output_type": "display_data",
          "data": {
            "text/plain": [
              "<Figure size 648x432 with 1 Axes>"
            ],
            "image/png": "[encoded data removed]"
          },
          "metadata": {
            "needs_background": "light"
          }
        }
      ],
      "source": [
        " #Graficamente podemos verlo de la siguiente manera\n",
        "import seaborn as sns\n",
        "fig = plt.figure(figsize=(9,6))\n",
        "sns.countplot(data=dataset.sort_values(by=['Cabin']), x='Cabin_side', palette=\"Set2\")\n",
        "\n",
        "plt.title('Pasajeros por Lado',\n",
        "            loc='center', color='#505050', fontsize=20, fontweight='bold')\n",
        "\n",
        "plt.ylabel(\"Cantidad\", size=20, fontweight='bold', color='#505050')\n",
        "plt.xlabel(\"Lado\", size=20, fontweight='bold', color='#505050')\n",
        "\n",
        "plt.xticks(fontsize=15, rotation=0)\n",
        "plt.yticks(fontsize=15)"
      ]
    },
    {
      "cell_type": "code",
      "execution_count": null,
      "metadata": {
        "colab": {
          "base_uri": "https://localhost:8080/",
          "height": 458
        },
        "outputId": "8cf4476b-4712-46ac-b07b-4ae3c7f68203",
        "id": "wnXVDJchwzUp"
      },
      "outputs": [
        {
          "output_type": "execute_result",
          "data": {
            "text/plain": [
              "(array([   0.,  500., 1000., 1500., 2000., 2500.]),\n",
              " <a list of 6 Text major ticklabel objects>)"
            ]
          },
          "metadata": {},
          "execution_count": 29
        },
        {
          "output_type": "display_data",
          "data": {
            "text/plain": [
              "<Figure size 648x432 with 1 Axes>"
            ],
            "image/png": "[encoded data removed]"
          },
          "metadata": {
            "needs_background": "light"
          }
        }
      ],
      "source": [
        " #Graficamente podemos verlo de la siguiente manera\n",
        "import seaborn as sns\n",
        "fig = plt.figure(figsize=(9,6))\n",
        "sns.countplot(data=dataset.sort_values(by=['Cabin']), x='Cabin_side',hue='Transported', palette=\"Set2\")\n",
        "\n",
        "plt.title('Transportados vs Cabina',\n",
        "            loc='center', color='#505050', fontsize=20, fontweight='bold')\n",
        "\n",
        "plt.ylabel(\"Cantidad\", size=20, fontweight='bold', color='#505050')\n",
        "plt.xlabel(\"Cabina\", size=20, fontweight='bold', color='#505050')\n",
        "\n",
        "plt.xticks(fontsize=15, rotation=0)\n",
        "plt.yticks(fontsize=15)"
      ]
    },
    {
      "cell_type": "markdown",
      "source": [
        "En este grafico se puede ver que la cantidad de pasajeros que viajaban del lado S que fuerontransportados fueron mas que los del lado P."
      ],
      "metadata": {
        "id": "dNN3OJgY6w6v"
      }
    },
    {
      "cell_type": "markdown",
      "source": [
        "###Porcentaje de pasajeros transportados segun zon donde se alojaban"
      ],
      "metadata": {
        "id": "Wcb4iGDHs-vM"
      }
    },
    {
      "cell_type": "code",
      "execution_count": null,
      "metadata": {
        "id": "bNzfJ9h8xndd"
      },
      "outputs": [],
      "source": [
        "df = pd.read_csv('https://raw.githubusercontent.com/DiploDatos/AprendizajeSupervisado/master/Pr%C3%A1ctico/train.csv')\n",
        "imputer_cols = [\"Age\", \"FoodCourt\", \"ShoppingMall\", \"Spa\", \"VRDeck\" ,\"RoomService\"]\n",
        "imputer = SimpleImputer(strategy=\"median\")\n",
        "df[imputer_cols] = imputer.fit_transform(df[imputer_cols])\n",
        "spaceship_location = df['Transported']\n",
        "\n",
        "y = df.Transported\n",
        "X = df.drop('Transported',axis=1)\n"
      ]
    },
    {
      "cell_type": "code",
      "execution_count": null,
      "metadata": {
        "id": "zx8Kz0V3vjNw"
      },
      "outputs": [],
      "source": [
        "X['Cabin'] = X['Cabin'].astype(str)\n",
        "X['Cabin_side'] = X['Cabin'].apply(lambda x: x[-1:])\n",
        "X['Cabin'] = X['Cabin'].apply(lambda x: x[:1])\n",
        "X['Cabin'].unique(), X['Cabin_side'].unique()\n",
        "X = X.drop(['FoodCourt', 'ShoppingMall'], axis=1)"
      ]
    },
    {
      "cell_type": "code",
      "source": [
        "spaceship_location = df['Transported']\n",
        "temp_df = X[['Cabin','Cabin_side']].copy()\n",
        "spaceship_location = pd.concat([temp_df, spaceship_location], axis=1)\n"
      ],
      "metadata": {
        "id": "0Z0MI28tT38-"
      },
      "execution_count": null,
      "outputs": []
    },
    {
      "cell_type": "code",
      "source": [
        "spaceship_location_grouped = spaceship_location.groupby(['Cabin', 'Cabin_side', 'Transported'])['Transported'].count()\n",
        "spaceship_location_grouped = pd.DataFrame(spaceship_location_grouped)\n"
      ],
      "metadata": {
        "id": "TWnD94xrXqeu"
      },
      "execution_count": null,
      "outputs": []
    },
    {
      "cell_type": "code",
      "source": [
        "spaceship_location_grouped_total = spaceship_location.groupby(['Cabin', 'Cabin_side'])['Transported'].count()\n",
        "spaceship_location_grouped_total = pd.DataFrame(spaceship_location_grouped_total)\n",
        "spaceship_location_grouped_total=spaceship_location_grouped_total.groupby(['Cabin', 'Cabin_side'])['Transported'].apply(lambda x: (x).sum()).reset_index(name='count_transported')\n",
        "\n"
      ],
      "metadata": {
        "id": "o52EIG4UIMvH"
      },
      "execution_count": null,
      "outputs": []
    },
    {
      "cell_type": "code",
      "source": [
        "#spaceship_location_grouped_sum = spaceship_location.groupby(['Cabin', 'Cabin_side'])['Transported'].sum()\n",
        "#spaceship_location_grouped_sum = pd.DataFrame(spaceship_location_grouped_sum)\n",
        "#spaceship_location_grouped_sum = spaceship_location_grouped.drop(['n', 'T'])\n"
      ],
      "metadata": {
        "id": "_qck2G0SgJmu"
      },
      "execution_count": null,
      "outputs": []
    },
    {
      "cell_type": "code",
      "source": [
        "df_ones=spaceship_location.groupby(['Cabin', 'Cabin_side'])['Transported'].apply(lambda x: (x==1).sum()).reset_index(name='count_transported')\n"
      ],
      "metadata": {
        "id": "uFkwo_6tNuuA"
      },
      "execution_count": null,
      "outputs": []
    },
    {
      "cell_type": "code",
      "source": [
        "merged = pd.merge(spaceship_location_grouped_total, df_ones,  how='left', left_on=['Cabin','Cabin_side'], right_on = ['Cabin','Cabin_side'])\n",
        "merged['porcentaje_transportados'] = merged['count_transported_y'] / merged['count_transported_x'] * 100\n",
        "merged['porcentaje_transportados'] = merged['porcentaje_transportados'].round(2)\n",
        "merged = merged.drop(15)"
      ],
      "metadata": {
        "id": "isKAWL2JfBY_"
      },
      "execution_count": null,
      "outputs": []
    },
    {
      "cell_type": "code",
      "source": [
        "heatmap_merged = merged.copy().drop(['count_transported_x', 'count_transported_y'], axis=1)\n"
      ],
      "metadata": {
        "id": "V4bo0_HmhVP-"
      },
      "execution_count": null,
      "outputs": []
    },
    {
      "cell_type": "code",
      "source": [
        "import seaborn as sns; sns.set_theme()\n"
      ],
      "metadata": {
        "id": "4i7gYMXVbpXi"
      },
      "execution_count": null,
      "outputs": []
    },
    {
      "cell_type": "code",
      "source": [
        "plt.figure(figsize=(2.5, 10))\n",
        "df_heatmap = heatmap_merged.pivot_table(values='porcentaje_transportados',index='Cabin',columns='Cabin_side',aggfunc=np.sum)\n",
        "sns.heatmap(df_heatmap,annot=True, fmt='.0f')\n",
        "plt.show()"
      ],
      "metadata": {
        "colab": {
          "base_uri": "https://localhost:8080/",
          "height": 611
        },
        "id": "xWZ15lR2h1JM",
        "outputId": "7c6a12b2-7921-4e2d-e1ca-6780b8498a41"
      },
      "execution_count": null,
      "outputs": [
        {
          "output_type": "display_data",
          "data": {
            "text/plain": [
              "<Figure size 180x720 with 2 Axes>"
            ],
            "image/png": "[encoded data removed]"
          },
          "metadata": {}
        }
      ]
    },
    {
      "cell_type": "markdown",
      "source": [
        "El grafico anterior muestra el porcentaje de pasajeros transportados en % por zona en la que se alojaban."
      ],
      "metadata": {
        "id": "o7HSVKaw7QQ5"
      }
    },
    {
      "cell_type": "markdown",
      "source": [
        "###Cantidad de pasajeros transportados a otra dimensión vs edad y gastos realizados"
      ],
      "metadata": {
        "id": "jFx0L-StsJmU"
      }
    },
    {
      "cell_type": "code",
      "execution_count": null,
      "metadata": {
        "colab": {
          "base_uri": "https://localhost:8080/",
          "height": 805
        },
        "outputId": "a2689f3a-704a-41bd-ea27-a80f5b33d36e",
        "id": "9ZK7GzSJqZ1T"
      },
      "outputs": [
        {
          "output_type": "stream",
          "name": "stderr",
          "text": [
            "/usr/local/lib/python3.7/dist-packages/seaborn/distributions.py:2619: FutureWarning: `distplot` is a deprecated function and will be removed in a future version. Please adapt your code to use either `displot` (a figure-level function with similar flexibility) or `histplot` (an axes-level function for histograms).\n",
            "  warnings.warn(msg, FutureWarning)\n",
            "/usr/local/lib/python3.7/dist-packages/seaborn/distributions.py:2619: FutureWarning: `distplot` is a deprecated function and will be removed in a future version. Please adapt your code to use either `displot` (a figure-level function with similar flexibility) or `histplot` (an axes-level function for histograms).\n",
            "  warnings.warn(msg, FutureWarning)\n",
            "/usr/local/lib/python3.7/dist-packages/seaborn/distributions.py:2619: FutureWarning: `distplot` is a deprecated function and will be removed in a future version. Please adapt your code to use either `displot` (a figure-level function with similar flexibility) or `histplot` (an axes-level function for histograms).\n",
            "  warnings.warn(msg, FutureWarning)\n",
            "/usr/local/lib/python3.7/dist-packages/seaborn/distributions.py:2619: FutureWarning: `distplot` is a deprecated function and will be removed in a future version. Please adapt your code to use either `displot` (a figure-level function with similar flexibility) or `histplot` (an axes-level function for histograms).\n",
            "  warnings.warn(msg, FutureWarning)\n",
            "/usr/local/lib/python3.7/dist-packages/seaborn/distributions.py:2619: FutureWarning: `distplot` is a deprecated function and will be removed in a future version. Please adapt your code to use either `displot` (a figure-level function with similar flexibility) or `histplot` (an axes-level function for histograms).\n",
            "  warnings.warn(msg, FutureWarning)\n",
            "/usr/local/lib/python3.7/dist-packages/seaborn/distributions.py:2619: FutureWarning: `distplot` is a deprecated function and will be removed in a future version. Please adapt your code to use either `displot` (a figure-level function with similar flexibility) or `histplot` (an axes-level function for histograms).\n",
            "  warnings.warn(msg, FutureWarning)\n"
          ]
        },
        {
          "output_type": "execute_result",
          "data": {
            "text/plain": [
              "<matplotlib.axes._subplots.AxesSubplot at 0x7fc819927390>"
            ]
          },
          "metadata": {},
          "execution_count": 41
        },
        {
          "output_type": "display_data",
          "data": {
            "text/plain": [
              "<Figure size 1728x648 with 6 Axes>"
            ],
            "image/png": "[encoded data removed]"
          },
          "metadata": {}
        }
      ],
      "source": [
        "# visualizing numeric variables using seaborn\n",
        "f, axes = plt.subplots(2, 3, figsize=(24,9))\n",
        "sns.distplot( dataset['Age'] , color=\"skyblue\", ax=axes[0, 0])\n",
        "sns.distplot( dataset['RoomService'] , color=\"olive\", ax=axes[0, 1])\n",
        "sns.distplot( dataset['FoodCourt'] , color=\"orange\", ax=axes[0, 2])\n",
        "sns.distplot( dataset['ShoppingMall'] , color=\"steelblue\", ax=axes[1, 0])\n",
        "sns.distplot( dataset['Spa'] , color=\"yellow\", ax=axes[1, 1])\n",
        "sns.distplot( dataset['VRDeck'] , color=\"pink\", ax=axes[1, 2])\n"
      ]
    },
    {
      "cell_type": "code",
      "execution_count": null,
      "metadata": {
        "colab": {
          "base_uri": "https://localhost:8080/",
          "height": 574
        },
        "outputId": "afe51b30-a5a2-4588-ef8a-e35e7eacd837",
        "id": "xJXeQjGsh4L2"
      },
      "outputs": [
        {
          "output_type": "execute_result",
          "data": {
            "text/plain": [
              "<matplotlib.axes._subplots.AxesSubplot at 0x7fc817ae17d0>"
            ]
          },
          "metadata": {},
          "execution_count": 42
        },
        {
          "output_type": "display_data",
          "data": {
            "text/plain": [
              "<Figure size 1728x648 with 6 Axes>"
            ],
            "image/png": "[encoded data removed]"
          },
          "metadata": {}
        }
      ],
      "source": [
        "f, axes = plt.subplots(2, 3, figsize=(24,9))\n",
        "sns.scatterplot(x = 'Age', y = 'Transported', data = dataset , color=\"skyblue\", ax=axes[0, 0])\n",
        "sns.scatterplot(x = 'RoomService', y = 'Transported', data = dataset , color=\"olive\", ax=axes[0, 1])\n",
        "sns.scatterplot(x = 'FoodCourt', y = 'Transported', data = dataset , color=\"orange\", ax=axes[0, 2])\n",
        "sns.scatterplot(x = 'ShoppingMall', y = 'Transported', data = dataset , color=\"steelblue\", ax=axes[1, 0])\n",
        "sns.scatterplot(x = 'Spa', y = 'Transported', data = dataset , color=\"yellow\", ax=axes[1, 1])\n",
        "sns.scatterplot(x = 'VRDeck', y = 'Transported', data = dataset , color=\"red\", ax=axes[1, 2])\n"
      ]
    },
    {
      "cell_type": "markdown",
      "source": [
        "En el grafico anterior se puede ver que los que mas gastos realizaron en RoomService, Spa y VRDeck no fueron transportados a otra dimensión"
      ],
      "metadata": {
        "id": "yz7g07CAzYX_"
      }
    },
    {
      "cell_type": "markdown",
      "metadata": {
        "id": "WKlmx9gnju-3"
      },
      "source": [
        "## 4- ¿Qué atributos imagina ud. que son los más determinantes para la predicción?\n"
      ]
    },
    {
      "cell_type": "markdown",
      "metadata": {
        "id": "goF9rAyD8Ero"
      },
      "source": [
        "Se realiza Matriz de Correlación para ver la relación entre atributos.\n"
      ]
    },
    {
      "cell_type": "code",
      "execution_count": null,
      "metadata": {
        "colab": {
          "base_uri": "https://localhost:8080/",
          "height": 628
        },
        "id": "GNBsNXZyNpeC",
        "outputId": "b25252e5-18d8-4542-ee2e-ab011855f503"
      },
      "outputs": [
        {
          "output_type": "execute_result",
          "data": {
            "text/plain": [
              "Text(0.5, 1.0, 'Correlation between Variables')"
            ]
          },
          "metadata": {},
          "execution_count": 43
        },
        {
          "output_type": "display_data",
          "data": {
            "text/plain": [
              "<Figure size 1152x720 with 2 Axes>"
            ],
            "image/png": "[encoded data removed]"
          },
          "metadata": {}
        }
      ],
      "source": [
        "import seaborn as sns\n",
        "# create heatmap for the calculated correlation\n",
        "plt.figure(figsize=(16,10))\n",
        "sns.heatmap(dataset[dataset.columns].corr(),annot=True, fmt='.2g')\n",
        "plt.title('Correlation between Variables', fontsize=14)"
      ]
    },
    {
      "cell_type": "markdown",
      "metadata": {
        "id": "ZSPamkCIFNF2"
      },
      "source": [
        "Los atributos disponibles que se estima que pueden ser mas determinantes para la predicción, son:\n",
        "\n",
        "*   **RoomService**\n",
        "*   **FoodCourt**\n",
        "*   **VRDeck**\n",
        "\n"
      ]
    },
    {
      "cell_type": "markdown",
      "metadata": {
        "id": "XiaFtH4IFo7f"
      },
      "source": [
        "#Aplicando Random Forest"
      ]
    },
    {
      "cell_type": "code",
      "execution_count": null,
      "metadata": {
        "id": "6YOMMB6cFAF4"
      },
      "outputs": [],
      "source": [
        ">>> from sklearn.ensemble import RandomForestClassifier\n",
        ">>> from sklearn.datasets import make_classification\n",
        "from sklearn.pipeline import Pipeline"
      ]
    },
    {
      "cell_type": "code",
      "execution_count": null,
      "metadata": {
        "colab": {
          "base_uri": "https://localhost:8080/"
        },
        "id": "cd6sSl1rFNnX",
        "outputId": "cd881d53-996d-49cf-a049-216b74dfa6ca"
      },
      "outputs": [
        {
          "output_type": "stream",
          "name": "stdout",
          "text": [
            "Random Forest\n",
            "Accuracy train Random Forest: 93.90%\n",
            "Accuracy test Random Forest: 79.04%\n"
          ]
        }
      ],
      "source": [
        "clfs = [RandomForestClassifier()]\n",
        "names = ['Random Forest']\n",
        "\n",
        "trained_models = []\n",
        "accuracy_models = []\n",
        "for clf,name in zip(clfs,names):\n",
        "    print(name)\n",
        "    clf.fit(x_train, y_train)\n",
        "    train_predictions = clf.predict(x_train)\n",
        "    accuracy = accuracy_score(y_train, train_predictions)\n",
        "    print(f\"Accuracy train {name}: %.2f%%\" % (accuracy * 100.0))\n",
        "\n",
        "    train_predictions = clf.predict(x_test)\n",
        "    accuracy = accuracy_score(y_test, train_predictions)\n",
        "    print(f\"Accuracy test {name}: %.2f%%\" % (accuracy * 100.0))\n",
        "    # plot_confusion_matrix(clf,x_test,y_test)\n",
        "    trained_models.append(clf)\n",
        "    accuracy_models.append(accuracy*100)"
      ]
    },
    {
      "cell_type": "markdown",
      "metadata": {
        "id": "a66bAHt6GzM1"
      },
      "source": [
        "### Algún tipo de ajuste de hiperparámetros de los modelos elegidos"
      ]
    },
    {
      "cell_type": "code",
      "execution_count": null,
      "metadata": {
        "colab": {
          "base_uri": "https://localhost:8080/"
        },
        "id": "YHxtamBBGzM2",
        "outputId": "eb4ebded-e452-40a0-a212-1f7ddc51ce81"
      },
      "outputs": [
        {
          "output_type": "execute_result",
          "data": {
            "text/plain": [
              "{'criterion': 'entropy', 'max_depth': 10, 'n_estimators': 200}"
            ]
          },
          "metadata": {},
          "execution_count": 46
        }
      ],
      "source": [
        "grid = GridSearchCV(RandomForestClassifier(),\n",
        " {'criterion':('gini','entropy'),\n",
        " 'n_estimators':(100, 200),\n",
        " 'max_depth':(10,20,100)})\n",
        "grid.fit(x_train,y_train)\n",
        "grid.best_params_"
      ]
    },
    {
      "cell_type": "code",
      "execution_count": null,
      "metadata": {
        "colab": {
          "base_uri": "https://localhost:8080/",
          "height": 476
        },
        "id": "jEz5C4z4GzM3",
        "outputId": "7a7e919f-255f-4a70-9002-debfc2a1d9c6"
      },
      "outputs": [
        {
          "output_type": "stream",
          "name": "stdout",
          "text": [
            "Accuracy train Random Forest: 85.04%\n",
            "Accuracy test Random Forest 79.23%\n"
          ]
        },
        {
          "output_type": "display_data",
          "data": {
            "text/plain": [
              "<Figure size 432x288 with 2 Axes>"
            ],
            "image/png": "[encoded data removed]"
          },
          "metadata": {}
        },
        {
          "output_type": "stream",
          "name": "stdout",
          "text": [
            "              precision    recall  f1-score   support\n",
            "\n",
            "           0       0.78      0.78      0.78       748\n",
            "           1       0.80      0.80      0.80       817\n",
            "\n",
            "    accuracy                           0.79      1565\n",
            "   macro avg       0.79      0.79      0.79      1565\n",
            "weighted avg       0.79      0.79      0.79      1565\n",
            "\n"
          ]
        }
      ],
      "source": [
        "clf = RandomForestClassifier(**grid.best_params_).fit(x_train, y_train)\n",
        "\n",
        "train_predictions = clf.predict(x_train)\n",
        "accuracy = accuracy_score(y_train, train_predictions)\n",
        "print(f\"Accuracy train {name}: %.2f%%\" % (accuracy * 100.0))\n",
        "\n",
        "test_predictions = clf.predict(x_test)\n",
        "accuracy = accuracy_score(y_test, test_predictions)\n",
        "print(f\"Accuracy test {name} %.2f%%\" % (accuracy * 100.0))\n",
        "ConfusionMatrixDisplay.from_predictions(y_test, test_predictions)\n",
        "plt.show()\n",
        "\n",
        "print(classification_report(y_test,clf.predict(x_test)))"
      ]
    },
    {
      "cell_type": "code",
      "execution_count": null,
      "metadata": {
        "colab": {
          "base_uri": "https://localhost:8080/"
        },
        "id": "HMR4LrfNGzM5",
        "outputId": "73aba5ed-b51d-48a2-a3a4-2a52a454edeb"
      },
      "outputs": [
        {
          "output_type": "stream",
          "name": "stdout",
          "text": [
            "RandomForestClassifier(criterion='entropy', max_depth=10, n_estimators=200)\n",
            "Precisión test fold 0: 78.12\n",
            "Precisión test fold 1: 81.87\n",
            "Precisión test fold 2: 79.71\n",
            "Precisión test fold 3: 79.14\n",
            "Precisión test fold 4: 79.38\n",
            "Avg. accuracy = 79.64193501428889\n"
          ]
        }
      ],
      "source": [
        "FOLDS=5\n",
        "cv = StratifiedKFold(n_splits=FOLDS, shuffle=True, random_state=10)\n",
        "\n",
        "x_train2 = np.array(x_train)\n",
        "y_train2 = np.array(y_train)\n",
        "\n",
        "\n",
        "for clfi, name in zip([RandomForestClassifier(**grid.best_params_)],names):\n",
        "    print(clfi)\n",
        "    avg_accuracy = 0\n",
        "    for fold, (train_idx, val_idx) in enumerate(cv.split(x_train2, y_train2)):\n",
        "        xi, yi = x_train2[train_idx], y_train2[train_idx]\n",
        "        x_valid, y_valid = x_train2[val_idx], y_train2[val_idx]\n",
        "        clfi = clfi.fit(xi, yi)\n",
        "\n",
        "        test_predictions = clfi.predict(x_valid)\n",
        "        accuracy = accuracy_score(y_valid, test_predictions)\n",
        "        avg_accuracy +=accuracy\n",
        "        print(f\"Precisión test fold {fold}: {accuracy * 100.0 :.2f}\" % ())\n",
        "\n",
        "    avg_accuracy /= FOLDS\n",
        "    print(f'Avg. accuracy = {avg_accuracy * 100}')"
      ]
    },
    {
      "cell_type": "code",
      "execution_count": null,
      "metadata": {
        "id": "TWyTU3tiOAn8"
      },
      "outputs": [],
      "source": [
        ""
      ]
    },
    {
      "cell_type": "markdown",
      "metadata": {
        "id": "IL2RKbhtOBwM"
      },
      "source": [
        "#Aplicando SVM"
      ]
    },
    {
      "cell_type": "code",
      "execution_count": null,
      "metadata": {
        "id": "ZhFU-1h6OBwO"
      },
      "outputs": [],
      "source": [
        ">>> from sklearn.svm import SVC\n",
        ">>> from sklearn.datasets import make_classification"
      ]
    },
    {
      "cell_type": "code",
      "execution_count": null,
      "metadata": {
        "colab": {
          "base_uri": "https://localhost:8080/"
        },
        "id": "cujvbHBhOBwP",
        "outputId": "d090cf9d-1016-425e-b182-b3bb122f75be"
      },
      "outputs": [
        {
          "output_type": "stream",
          "name": "stdout",
          "text": [
            "SVM\n",
            "Accuracy train SVM: 79.90%\n",
            "Accuracy test SVM: 78.08%\n"
          ]
        }
      ],
      "source": [
        "clfs = [SVC()]\n",
        "names = ['SVM']\n",
        "\n",
        "trained_models = []\n",
        "accuracy_models = []\n",
        "for clf,name in zip(clfs,names):\n",
        "    print(name)\n",
        "    clf.fit(x_train, y_train)\n",
        "    train_predictions = clf.predict(x_train)\n",
        "    accuracy = accuracy_score(y_train, train_predictions)\n",
        "    print(f\"Accuracy train {name}: %.2f%%\" % (accuracy * 100.0))\n",
        "\n",
        "    train_predictions = clf.predict(x_test)\n",
        "    accuracy = accuracy_score(y_test, train_predictions)\n",
        "    print(f\"Accuracy test {name}: %.2f%%\" % (accuracy * 100.0))\n",
        "    # plot_confusion_matrix(clf,x_test,y_test)\n",
        "    trained_models.append(clf)\n",
        "    accuracy_models.append(accuracy*100)"
      ]
    },
    {
      "cell_type": "markdown",
      "metadata": {
        "id": "crbz7YbCOBwQ"
      },
      "source": [
        "### Algún tipo de ajuste de hiperparámetros de los modelos elegidos"
      ]
    },
    {
      "cell_type": "code",
      "execution_count": null,
      "metadata": {
        "id": "YGedw0Vpfliw"
      },
      "outputs": [],
      "source": [
        "#grid = GridSearchCV(SVC(),\n",
        "# {'kernel':('linear','poly','rbf', 'sigmoid'),\n",
        "# 'degree':(3, 4, 5),\n",
        "# 'gamma':('scale', 'auto'),\n",
        "#  'C':(1 ,2)})\n",
        "#grid.fit(x_train,y_train)\n",
        "#grid.best_params_"
      ]
    },
    {
      "cell_type": "code",
      "execution_count": null,
      "metadata": {
        "colab": {
          "base_uri": "https://localhost:8080/"
        },
        "id": "1BlmRnPhaTmA",
        "outputId": "987449b0-c6b2-4de7-c015-8f23a3f96eb4"
      },
      "outputs": [
        {
          "output_type": "execute_result",
          "data": {
            "text/plain": [
              "{'degree': 3, 'gamma': 'auto', 'kernel': 'rbf'}"
            ]
          },
          "metadata": {},
          "execution_count": 52
        }
      ],
      "source": [
        "grid = GridSearchCV(SVC(),\n",
        " {'kernel':('linear','poly','rbf', 'sigmoid'),\n",
        " 'degree':(3, 4, 5),\n",
        " 'gamma':('scale', 'auto')})\n",
        "grid.fit(x_train,y_train)\n",
        "grid.best_params_"
      ]
    },
    {
      "cell_type": "code",
      "execution_count": null,
      "metadata": {
        "colab": {
          "base_uri": "https://localhost:8080/",
          "height": 476
        },
        "id": "fYURVyF3OBwT",
        "outputId": "91ac3310-cdac-41c6-82e0-e5cff3d1dacc"
      },
      "outputs": [
        {
          "output_type": "stream",
          "name": "stdout",
          "text": [
            "Accuracy train SVM: 79.90%\n",
            "Accuracy test SVM 78.08%\n"
          ]
        },
        {
          "output_type": "display_data",
          "data": {
            "text/plain": [
              "<Figure size 432x288 with 2 Axes>"
            ],
            "image/png": "[encoded data removed]"
          },
          "metadata": {}
        },
        {
          "output_type": "stream",
          "name": "stdout",
          "text": [
            "              precision    recall  f1-score   support\n",
            "\n",
            "           0       0.76      0.79      0.78       748\n",
            "           1       0.80      0.77      0.79       817\n",
            "\n",
            "    accuracy                           0.78      1565\n",
            "   macro avg       0.78      0.78      0.78      1565\n",
            "weighted avg       0.78      0.78      0.78      1565\n",
            "\n"
          ]
        }
      ],
      "source": [
        "clf = SVC(**grid.best_params_).fit(x_train, y_train)\n",
        "\n",
        "train_predictions = clf.predict(x_train)\n",
        "accuracy = accuracy_score(y_train, train_predictions)\n",
        "print(f\"Accuracy train {name}: %.2f%%\" % (accuracy * 100.0))\n",
        "\n",
        "test_predictions = clf.predict(x_test)\n",
        "accuracy = accuracy_score(y_test, test_predictions)\n",
        "print(f\"Accuracy test {name} %.2f%%\" % (accuracy * 100.0))\n",
        "ConfusionMatrixDisplay.from_predictions(y_test, test_predictions)\n",
        "plt.show()\n",
        "\n",
        "print(classification_report(y_test,clf.predict(x_test)))"
      ]
    },
    {
      "cell_type": "code",
      "execution_count": null,
      "metadata": {
        "colab": {
          "base_uri": "https://localhost:8080/"
        },
        "id": "n0TrtfF2OBwU",
        "outputId": "cad616fe-ad9a-4ea6-cbf1-94f84d447bcf"
      },
      "outputs": [
        {
          "output_type": "stream",
          "name": "stdout",
          "text": [
            "SVC(gamma='auto')\n",
            "Precisión test fold 0: 75.80\n",
            "Precisión test fold 1: 78.99\n",
            "Precisión test fold 2: 79.31\n",
            "Precisión test fold 3: 79.06\n",
            "Precisión test fold 4: 79.30\n",
            "Avg. accuracy = 78.49174973120545\n"
          ]
        }
      ],
      "source": [
        "FOLDS=5\n",
        "cv = StratifiedKFold(n_splits=FOLDS, shuffle=True, random_state=10)\n",
        "\n",
        "x_train2 = np.array(x_train)\n",
        "y_train2 = np.array(y_train)\n",
        "\n",
        "\n",
        "for clfi, name in zip([SVC(**grid.best_params_)],names):\n",
        "    print(clfi)\n",
        "    avg_accuracy = 0\n",
        "    for fold, (train_idx, val_idx) in enumerate(cv.split(x_train2, y_train2)):\n",
        "        xi, yi = x_train2[train_idx], y_train2[train_idx]\n",
        "        x_valid, y_valid = x_train2[val_idx], y_train2[val_idx]\n",
        "        clfi = clfi.fit(xi, yi)\n",
        "\n",
        "        test_predictions = clfi.predict(x_valid)\n",
        "        accuracy = accuracy_score(y_valid, test_predictions)\n",
        "        avg_accuracy +=accuracy\n",
        "        print(f\"Precisión test fold {fold}: {accuracy * 100.0 :.2f}\" % ())\n",
        "\n",
        "    avg_accuracy /= FOLDS\n",
        "    print(f'Avg. accuracy = {avg_accuracy * 100}')"
      ]
    },
    {
      "cell_type": "code",
      "execution_count": null,
      "metadata": {
        "id": "wegLr0DrjzBa"
      },
      "outputs": [],
      "source": [
        ""
      ]
    },
    {
      "cell_type": "markdown",
      "metadata": {
        "id": "L3RmFhLRnNW5"
      },
      "source": [
        "#Aplicando Regresión Logistica"
      ]
    },
    {
      "cell_type": "code",
      "execution_count": null,
      "metadata": {
        "id": "eKYkknSpnNXV"
      },
      "outputs": [],
      "source": [
        ">>> from sklearn.linear_model import LogisticRegression\n",
        ">>> from sklearn.datasets import make_classification"
      ]
    },
    {
      "cell_type": "code",
      "execution_count": null,
      "metadata": {
        "colab": {
          "base_uri": "https://localhost:8080/"
        },
        "id": "DzGFyUM4nNXW",
        "outputId": "638eb5bc-656e-4a72-cdc4-1105996600fb"
      },
      "outputs": [
        {
          "output_type": "stream",
          "name": "stdout",
          "text": [
            "Regresión Logistica\n",
            "Accuracy train Regresión Logistica: 78.27%\n",
            "Accuracy test Regresión Logistica: 78.72%\n"
          ]
        }
      ],
      "source": [
        "clfs = [LogisticRegression()]\n",
        "names = ['Regresión Logistica']\n",
        "\n",
        "trained_models = []\n",
        "accuracy_models = []\n",
        "for clf,name in zip(clfs,names):\n",
        "    print(name)\n",
        "    clf.fit(x_train, y_train)\n",
        "    train_predictions = clf.predict(x_train)\n",
        "    accuracy = accuracy_score(y_train, train_predictions)\n",
        "    print(f\"Accuracy train {name}: %.2f%%\" % (accuracy * 100.0))\n",
        "\n",
        "    train_predictions = clf.predict(x_test)\n",
        "    accuracy = accuracy_score(y_test, train_predictions)\n",
        "    print(f\"Accuracy test {name}: %.2f%%\" % (accuracy * 100.0))\n",
        "    # plot_confusion_matrix(clf,x_test,y_test)\n",
        "    trained_models.append(clf)\n",
        "    accuracy_models.append(accuracy*100)"
      ]
    },
    {
      "cell_type": "markdown",
      "metadata": {
        "id": "OrDXM9bInNXY"
      },
      "source": [
        "### Algún tipo de ajuste de hiperparámetros de los modelos elegidos"
      ]
    },
    {
      "cell_type": "code",
      "execution_count": null,
      "metadata": {
        "colab": {
          "base_uri": "https://localhost:8080/"
        },
        "id": "nFGlAJJqnNXY",
        "outputId": "5520f5ce-5fea-4ca4-d231-d108c0f7fb20"
      },
      "outputs": [
        {
          "output_type": "stream",
          "name": "stderr",
          "text": [
            "/usr/local/lib/python3.7/dist-packages/sklearn/linear_model/_sag.py:354: ConvergenceWarning: The max_iter was reached which means the coef_ did not converge\n",
            "  ConvergenceWarning,\n",
            "/usr/local/lib/python3.7/dist-packages/sklearn/linear_model/_sag.py:354: ConvergenceWarning: The max_iter was reached which means the coef_ did not converge\n",
            "  ConvergenceWarning,\n",
            "/usr/local/lib/python3.7/dist-packages/sklearn/linear_model/_sag.py:354: ConvergenceWarning: The max_iter was reached which means the coef_ did not converge\n",
            "  ConvergenceWarning,\n",
            "/usr/local/lib/python3.7/dist-packages/sklearn/linear_model/_sag.py:354: ConvergenceWarning: The max_iter was reached which means the coef_ did not converge\n",
            "  ConvergenceWarning,\n",
            "/usr/local/lib/python3.7/dist-packages/sklearn/linear_model/_sag.py:354: ConvergenceWarning: The max_iter was reached which means the coef_ did not converge\n",
            "  ConvergenceWarning,\n",
            "/usr/local/lib/python3.7/dist-packages/sklearn/linear_model/_sag.py:354: ConvergenceWarning: The max_iter was reached which means the coef_ did not converge\n",
            "  ConvergenceWarning,\n",
            "/usr/local/lib/python3.7/dist-packages/sklearn/linear_model/_sag.py:354: ConvergenceWarning: The max_iter was reached which means the coef_ did not converge\n",
            "  ConvergenceWarning,\n",
            "/usr/local/lib/python3.7/dist-packages/sklearn/linear_model/_sag.py:354: ConvergenceWarning: The max_iter was reached which means the coef_ did not converge\n",
            "  ConvergenceWarning,\n",
            "/usr/local/lib/python3.7/dist-packages/sklearn/linear_model/_sag.py:354: ConvergenceWarning: The max_iter was reached which means the coef_ did not converge\n",
            "  ConvergenceWarning,\n",
            "/usr/local/lib/python3.7/dist-packages/sklearn/linear_model/_sag.py:354: ConvergenceWarning: The max_iter was reached which means the coef_ did not converge\n",
            "  ConvergenceWarning,\n",
            "/usr/local/lib/python3.7/dist-packages/sklearn/linear_model/_sag.py:354: ConvergenceWarning: The max_iter was reached which means the coef_ did not converge\n",
            "  ConvergenceWarning,\n",
            "/usr/local/lib/python3.7/dist-packages/sklearn/model_selection/_validation.py:372: FitFailedWarning: \n",
            "45 fits failed out of a total of 100.\n",
            "The score on these train-test partitions for these parameters will be set to nan.\n",
            "If these failures are not expected, you can try to debug them by setting error_score='raise'.\n",
            "\n",
            "Below are more details about the failures:\n",
            "--------------------------------------------------------------------------------\n",
            "5 fits failed with the following error:\n",
            "Traceback (most recent call last):\n",
            "  File \"/usr/local/lib/python3.7/dist-packages/sklearn/model_selection/_validation.py\", line 680, in _fit_and_score\n",
            "    estimator.fit(X_train, y_train, **fit_params)\n",
            "  File \"/usr/local/lib/python3.7/dist-packages/sklearn/linear_model/_logistic.py\", line 1461, in fit\n",
            "    solver = _check_solver(self.solver, self.penalty, self.dual)\n",
            "  File \"/usr/local/lib/python3.7/dist-packages/sklearn/linear_model/_logistic.py\", line 449, in _check_solver\n",
            "    % (solver, penalty)\n",
            "ValueError: Solver newton-cg supports only 'l2' or 'none' penalties, got l1 penalty.\n",
            "\n",
            "--------------------------------------------------------------------------------\n",
            "5 fits failed with the following error:\n",
            "Traceback (most recent call last):\n",
            "  File \"/usr/local/lib/python3.7/dist-packages/sklearn/model_selection/_validation.py\", line 680, in _fit_and_score\n",
            "    estimator.fit(X_train, y_train, **fit_params)\n",
            "  File \"/usr/local/lib/python3.7/dist-packages/sklearn/linear_model/_logistic.py\", line 1461, in fit\n",
            "    solver = _check_solver(self.solver, self.penalty, self.dual)\n",
            "  File \"/usr/local/lib/python3.7/dist-packages/sklearn/linear_model/_logistic.py\", line 449, in _check_solver\n",
            "    % (solver, penalty)\n",
            "ValueError: Solver lbfgs supports only 'l2' or 'none' penalties, got l1 penalty.\n",
            "\n",
            "--------------------------------------------------------------------------------\n",
            "5 fits failed with the following error:\n",
            "Traceback (most recent call last):\n",
            "  File \"/usr/local/lib/python3.7/dist-packages/sklearn/model_selection/_validation.py\", line 680, in _fit_and_score\n",
            "    estimator.fit(X_train, y_train, **fit_params)\n",
            "  File \"/usr/local/lib/python3.7/dist-packages/sklearn/linear_model/_logistic.py\", line 1461, in fit\n",
            "    solver = _check_solver(self.solver, self.penalty, self.dual)\n",
            "  File \"/usr/local/lib/python3.7/dist-packages/sklearn/linear_model/_logistic.py\", line 449, in _check_solver\n",
            "    % (solver, penalty)\n",
            "ValueError: Solver sag supports only 'l2' or 'none' penalties, got l1 penalty.\n",
            "\n",
            "--------------------------------------------------------------------------------\n",
            "5 fits failed with the following error:\n",
            "Traceback (most recent call last):\n",
            "  File \"/usr/local/lib/python3.7/dist-packages/sklearn/model_selection/_validation.py\", line 680, in _fit_and_score\n",
            "    estimator.fit(X_train, y_train, **fit_params)\n",
            "  File \"/usr/local/lib/python3.7/dist-packages/sklearn/linear_model/_logistic.py\", line 1461, in fit\n",
            "    solver = _check_solver(self.solver, self.penalty, self.dual)\n",
            "  File \"/usr/local/lib/python3.7/dist-packages/sklearn/linear_model/_logistic.py\", line 449, in _check_solver\n",
            "    % (solver, penalty)\n",
            "ValueError: Solver newton-cg supports only 'l2' or 'none' penalties, got elasticnet penalty.\n",
            "\n",
            "--------------------------------------------------------------------------------\n",
            "5 fits failed with the following error:\n",
            "Traceback (most recent call last):\n",
            "  File \"/usr/local/lib/python3.7/dist-packages/sklearn/model_selection/_validation.py\", line 680, in _fit_and_score\n",
            "    estimator.fit(X_train, y_train, **fit_params)\n",
            "  File \"/usr/local/lib/python3.7/dist-packages/sklearn/linear_model/_logistic.py\", line 1461, in fit\n",
            "    solver = _check_solver(self.solver, self.penalty, self.dual)\n",
            "  File \"/usr/local/lib/python3.7/dist-packages/sklearn/linear_model/_logistic.py\", line 449, in _check_solver\n",
            "    % (solver, penalty)\n",
            "ValueError: Solver lbfgs supports only 'l2' or 'none' penalties, got elasticnet penalty.\n",
            "\n",
            "--------------------------------------------------------------------------------\n",
            "5 fits failed with the following error:\n",
            "Traceback (most recent call last):\n",
            "  File \"/usr/local/lib/python3.7/dist-packages/sklearn/model_selection/_validation.py\", line 680, in _fit_and_score\n",
            "    estimator.fit(X_train, y_train, **fit_params)\n",
            "  File \"/usr/local/lib/python3.7/dist-packages/sklearn/linear_model/_logistic.py\", line 1461, in fit\n",
            "    solver = _check_solver(self.solver, self.penalty, self.dual)\n",
            "  File \"/usr/local/lib/python3.7/dist-packages/sklearn/linear_model/_logistic.py\", line 459, in _check_solver\n",
            "    solver\n",
            "ValueError: Only 'saga' solver supports elasticnet penalty, got solver=liblinear.\n",
            "\n",
            "--------------------------------------------------------------------------------\n",
            "5 fits failed with the following error:\n",
            "Traceback (most recent call last):\n",
            "  File \"/usr/local/lib/python3.7/dist-packages/sklearn/model_selection/_validation.py\", line 680, in _fit_and_score\n",
            "    estimator.fit(X_train, y_train, **fit_params)\n",
            "  File \"/usr/local/lib/python3.7/dist-packages/sklearn/linear_model/_logistic.py\", line 1461, in fit\n",
            "    solver = _check_solver(self.solver, self.penalty, self.dual)\n",
            "  File \"/usr/local/lib/python3.7/dist-packages/sklearn/linear_model/_logistic.py\", line 449, in _check_solver\n",
            "    % (solver, penalty)\n",
            "ValueError: Solver sag supports only 'l2' or 'none' penalties, got elasticnet penalty.\n",
            "\n",
            "--------------------------------------------------------------------------------\n",
            "5 fits failed with the following error:\n",
            "Traceback (most recent call last):\n",
            "  File \"/usr/local/lib/python3.7/dist-packages/sklearn/model_selection/_validation.py\", line 680, in _fit_and_score\n",
            "    estimator.fit(X_train, y_train, **fit_params)\n",
            "  File \"/usr/local/lib/python3.7/dist-packages/sklearn/linear_model/_logistic.py\", line 1473, in fit\n",
            "    % self.l1_ratio\n",
            "ValueError: l1_ratio must be between 0 and 1; got (l1_ratio=None)\n",
            "\n",
            "--------------------------------------------------------------------------------\n",
            "5 fits failed with the following error:\n",
            "Traceback (most recent call last):\n",
            "  File \"/usr/local/lib/python3.7/dist-packages/sklearn/model_selection/_validation.py\", line 680, in _fit_and_score\n",
            "    estimator.fit(X_train, y_train, **fit_params)\n",
            "  File \"/usr/local/lib/python3.7/dist-packages/sklearn/linear_model/_logistic.py\", line 1461, in fit\n",
            "    solver = _check_solver(self.solver, self.penalty, self.dual)\n",
            "  File \"/usr/local/lib/python3.7/dist-packages/sklearn/linear_model/_logistic.py\", line 464, in _check_solver\n",
            "    raise ValueError(\"penalty='none' is not supported for the liblinear solver\")\n",
            "ValueError: penalty='none' is not supported for the liblinear solver\n",
            "\n",
            "  warnings.warn(some_fits_failed_message, FitFailedWarning)\n",
            "/usr/local/lib/python3.7/dist-packages/sklearn/model_selection/_search.py:972: UserWarning: One or more of the test scores are non-finite: [       nan        nan 0.77996287        nan 0.77980312 0.77996287\n",
            " 0.77996287 0.77996287 0.77996287 0.78012274        nan        nan\n",
            "        nan        nan        nan 0.78028236 0.78028236        nan\n",
            " 0.78028236 0.78044223]\n",
            "  category=UserWarning,\n"
          ]
        },
        {
          "output_type": "execute_result",
          "data": {
            "text/plain": [
              "{'penalty': 'none', 'solver': 'saga'}"
            ]
          },
          "metadata": {},
          "execution_count": 57
        }
      ],
      "source": [
        "grid = GridSearchCV(LogisticRegression(),\n",
        " {'penalty':('l1', 'l2', 'elasticnet', 'none'),\n",
        " 'solver':('newton-cg', 'lbfgs', 'liblinear', 'sag', 'saga')})\n",
        "grid.fit(x_train,y_train)\n",
        "grid.best_params_"
      ]
    },
    {
      "cell_type": "code",
      "execution_count": null,
      "metadata": {
        "colab": {
          "base_uri": "https://localhost:8080/",
          "height": 476
        },
        "id": "natAmnaCnNXa",
        "outputId": "014c949c-940a-4997-a418-3e3018f2eadb"
      },
      "outputs": [
        {
          "output_type": "stream",
          "name": "stdout",
          "text": [
            "Accuracy ['Regresión Logistica']: 78.27%\n",
            "Accuracy test ['Regresión Logistica'] 78.79%\n"
          ]
        },
        {
          "output_type": "display_data",
          "data": {
            "text/plain": [
              "<Figure size 432x288 with 2 Axes>"
            ],
            "image/png": "[encoded data removed]"
          },
          "metadata": {}
        },
        {
          "output_type": "stream",
          "name": "stdout",
          "text": [
            "              precision    recall  f1-score   support\n",
            "\n",
            "           0       0.80      0.74      0.77       748\n",
            "           1       0.78      0.83      0.80       817\n",
            "\n",
            "    accuracy                           0.79      1565\n",
            "   macro avg       0.79      0.79      0.79      1565\n",
            "weighted avg       0.79      0.79      0.79      1565\n",
            "\n"
          ]
        }
      ],
      "source": [
        "clf = LogisticRegression(**grid.best_params_).fit(x_train, y_train)\n",
        "\n",
        "train_predictions = clf.predict(x_train)\n",
        "accuracy = accuracy_score(y_train, train_predictions)\n",
        "print(f\"Accuracy {names}: %.2f%%\" % (accuracy * 100.0))\n",
        "\n",
        "test_predictions = clf.predict(x_test)\n",
        "accuracy = accuracy_score(y_test, test_predictions)\n",
        "print(f\"Accuracy test {names} %.2f%%\" % (accuracy * 100.0))\n",
        "ConfusionMatrixDisplay.from_predictions(y_test, test_predictions)\n",
        "plt.show()\n",
        "\n",
        "print(classification_report(y_test,clf.predict(x_test)))"
      ]
    },
    {
      "cell_type": "code",
      "execution_count": null,
      "metadata": {
        "colab": {
          "base_uri": "https://localhost:8080/"
        },
        "id": "UO6NA4P2nNXa",
        "outputId": "f3351ff6-5cd0-43fd-9fc3-33ad9d739a2d"
      },
      "outputs": [
        {
          "output_type": "stream",
          "name": "stdout",
          "text": [
            "LogisticRegression(penalty='none', solver='saga')\n",
            "Precisión test fold 0: 76.84\n"
          ]
        },
        {
          "output_type": "stream",
          "name": "stderr",
          "text": [
            "/usr/local/lib/python3.7/dist-packages/sklearn/linear_model/_sag.py:354: ConvergenceWarning: The max_iter was reached which means the coef_ did not converge\n",
            "  ConvergenceWarning,\n"
          ]
        },
        {
          "output_type": "stream",
          "name": "stdout",
          "text": [
            "Precisión test fold 1: 78.83\n",
            "Precisión test fold 2: 79.07\n"
          ]
        },
        {
          "output_type": "stream",
          "name": "stderr",
          "text": [
            "/usr/local/lib/python3.7/dist-packages/sklearn/linear_model/_sag.py:354: ConvergenceWarning: The max_iter was reached which means the coef_ did not converge\n",
            "  ConvergenceWarning,\n",
            "/usr/local/lib/python3.7/dist-packages/sklearn/linear_model/_sag.py:354: ConvergenceWarning: The max_iter was reached which means the coef_ did not converge\n",
            "  ConvergenceWarning,\n"
          ]
        },
        {
          "output_type": "stream",
          "name": "stdout",
          "text": [
            "Precisión test fold 3: 77.78\n",
            "Precisión test fold 4: 78.18\n",
            "Avg. accuracy = 78.13992895140755\n"
          ]
        },
        {
          "output_type": "stream",
          "name": "stderr",
          "text": [
            "/usr/local/lib/python3.7/dist-packages/sklearn/linear_model/_sag.py:354: ConvergenceWarning: The max_iter was reached which means the coef_ did not converge\n",
            "  ConvergenceWarning,\n"
          ]
        }
      ],
      "source": [
        "FOLDS=5\n",
        "cv = StratifiedKFold(n_splits=FOLDS, shuffle=True, random_state=10)\n",
        "\n",
        "x_train2 = np.array(x_train)\n",
        "y_train2 = np.array(y_train)\n",
        "\n",
        "\n",
        "for clfi, name in zip([LogisticRegression(**grid.best_params_)],names):\n",
        "    print(clfi)\n",
        "    avg_accuracy = 0\n",
        "    for fold, (train_idx, val_idx) in enumerate(cv.split(x_train2, y_train2)):\n",
        "        xi, yi = x_train2[train_idx], y_train2[train_idx]\n",
        "        x_valid, y_valid = x_train2[val_idx], y_train2[val_idx]\n",
        "        clfi = clfi.fit(xi, yi)\n",
        "\n",
        "        test_predictions = clfi.predict(x_valid)\n",
        "        accuracy = accuracy_score(y_valid, test_predictions)\n",
        "        avg_accuracy +=accuracy\n",
        "        print(f\"Precisión test fold {fold}: {accuracy * 100.0 :.2f}\" % ())\n",
        "\n",
        "    avg_accuracy /= FOLDS\n",
        "    print(f'Avg. accuracy = {avg_accuracy * 100}')"
      ]
    },
    {
      "cell_type": "code",
      "execution_count": null,
      "metadata": {
        "id": "w561BX_Ijy6n"
      },
      "outputs": [],
      "source": [
        ""
      ]
    },
    {
      "cell_type": "markdown",
      "metadata": {
        "id": "m-0-0HpPtvAB"
      },
      "source": [
        "#Aplicando K-Nearest Neighbors (KNN)"
      ]
    },
    {
      "cell_type": "code",
      "execution_count": null,
      "metadata": {
        "id": "o5poFThetvAW"
      },
      "outputs": [],
      "source": [
        ">>> from sklearn.neighbors import KNeighborsClassifier\n",
        ">>> from sklearn.datasets import make_classification"
      ]
    },
    {
      "cell_type": "code",
      "execution_count": null,
      "metadata": {
        "colab": {
          "base_uri": "https://localhost:8080/"
        },
        "id": "ltTz0FZYtvAX",
        "outputId": "74c4a875-2f17-43bb-c1fa-ef9708c81813"
      },
      "outputs": [
        {
          "output_type": "stream",
          "name": "stdout",
          "text": [
            "KNN Classifier\n",
            "Accuracy train KNN Classifier: 81.91%\n",
            "Accuracy test KNN Classifier: 75.59%\n"
          ]
        }
      ],
      "source": [
        "clfs = [KNeighborsClassifier()]\n",
        "names = ['KNN Classifier']\n",
        "\n",
        "trained_models = []\n",
        "accuracy_models = []\n",
        "for clf,name in zip(clfs,names):\n",
        "    print(name)\n",
        "    clf.fit(x_train, y_train)\n",
        "    train_predictions = clf.predict(x_train)\n",
        "    accuracy = accuracy_score(y_train, train_predictions)\n",
        "    print(f\"Accuracy train {name}: %.2f%%\" % (accuracy * 100.0))\n",
        "\n",
        "    train_predictions = clf.predict(x_test)\n",
        "    accuracy = accuracy_score(y_test, train_predictions)\n",
        "    print(f\"Accuracy test {name}: %.2f%%\" % (accuracy * 100.0))\n",
        "    # plot_confusion_matrix(clf,x_test,y_test)\n",
        "    trained_models.append(clf)\n",
        "    accuracy_models.append(accuracy*100)"
      ]
    },
    {
      "cell_type": "markdown",
      "metadata": {
        "id": "EdPOidCrtvAY"
      },
      "source": [
        "### Algún tipo de ajuste de hiperparámetros de los modelos elegidos"
      ]
    },
    {
      "cell_type": "code",
      "execution_count": null,
      "metadata": {
        "colab": {
          "base_uri": "https://localhost:8080/"
        },
        "id": "wZrQGwdNtvAY",
        "outputId": "36e04fd5-6ff6-43a2-c2ab-0c08ecd1265a"
      },
      "outputs": [
        {
          "output_type": "execute_result",
          "data": {
            "text/plain": [
              "{'algorithm': 'auto', 'n_neighbors': 9, 'weights': 'uniform'}"
            ]
          },
          "metadata": {},
          "execution_count": 62
        }
      ],
      "source": [
        "grid = GridSearchCV(KNeighborsClassifier(),\n",
        " {'n_neighbors':(3,5,7, 9),\n",
        " 'algorithm':('auto', 'ball_tree', 'kd_tree', 'brute'),\n",
        " 'weights':('uniform', 'distance')})\n",
        "grid.fit(x_train,y_train)\n",
        "grid.best_params_"
      ]
    },
    {
      "cell_type": "code",
      "execution_count": null,
      "metadata": {
        "colab": {
          "base_uri": "https://localhost:8080/",
          "height": 476
        },
        "id": "9p2I2FU_tvAY",
        "outputId": "4b6d69c4-cfd9-4b87-dba8-59a7d7d52d9b"
      },
      "outputs": [
        {
          "output_type": "stream",
          "name": "stdout",
          "text": [
            "Accuracy KNN Classifier : 81.06%\n",
            "Accuracy test KNN Classifier 77.51%\n"
          ]
        },
        {
          "output_type": "display_data",
          "data": {
            "text/plain": [
              "<Figure size 432x288 with 2 Axes>"
            ],
            "image/png": "[encoded data removed]"
          },
          "metadata": {}
        },
        {
          "output_type": "stream",
          "name": "stdout",
          "text": [
            "              precision    recall  f1-score   support\n",
            "\n",
            "           0       0.77      0.76      0.76       748\n",
            "           1       0.78      0.79      0.79       817\n",
            "\n",
            "    accuracy                           0.78      1565\n",
            "   macro avg       0.77      0.77      0.77      1565\n",
            "weighted avg       0.78      0.78      0.78      1565\n",
            "\n"
          ]
        }
      ],
      "source": [
        "clf = KNeighborsClassifier(**grid.best_params_).fit(x_train, y_train)\n",
        "\n",
        "train_predictions = clf.predict(x_train)\n",
        "accuracy = accuracy_score(y_train, train_predictions)\n",
        "print(f\"Accuracy {name} : %.2f%%\" % (accuracy * 100.0))\n",
        "\n",
        "test_predictions = clf.predict(x_test)\n",
        "accuracy = accuracy_score(y_test, test_predictions)\n",
        "print(f\"Accuracy test {name} %.2f%%\" % (accuracy * 100.0))\n",
        "ConfusionMatrixDisplay.from_predictions(y_test, test_predictions)\n",
        "plt.show()\n",
        "\n",
        "print(classification_report(y_test,clf.predict(x_test)))"
      ]
    },
    {
      "cell_type": "code",
      "execution_count": null,
      "metadata": {
        "colab": {
          "base_uri": "https://localhost:8080/"
        },
        "id": "GOpJzaH4tvAZ",
        "outputId": "06f0649a-532f-4473-b9c8-529a7b3b0091"
      },
      "outputs": [
        {
          "output_type": "stream",
          "name": "stdout",
          "text": [
            "KNeighborsClassifier(n_neighbors=9)\n",
            "Precisión test fold 0: 76.52\n",
            "Precisión test fold 1: 78.43\n",
            "Precisión test fold 2: 77.64\n",
            "Precisión test fold 3: 78.66\n",
            "Precisión test fold 4: 76.66\n",
            "Avg. accuracy = 77.58072136539968\n"
          ]
        }
      ],
      "source": [
        "FOLDS=5\n",
        "cv = StratifiedKFold(n_splits=FOLDS, shuffle=True, random_state=10)\n",
        "\n",
        "x_train2 = np.array(x_train)\n",
        "y_train2 = np.array(y_train)\n",
        "\n",
        "\n",
        "for clfi, name in zip([KNeighborsClassifier(**grid.best_params_)],names):\n",
        "    print(clfi)\n",
        "    avg_accuracy = 0\n",
        "    for fold, (train_idx, val_idx) in enumerate(cv.split(x_train2, y_train2)):\n",
        "        xi, yi = x_train2[train_idx], y_train2[train_idx]\n",
        "        x_valid, y_valid = x_train2[val_idx], y_train2[val_idx]\n",
        "        clfi = clfi.fit(xi, yi)\n",
        "\n",
        "        test_predictions = clfi.predict(x_valid)\n",
        "        accuracy = accuracy_score(y_valid, test_predictions)\n",
        "        avg_accuracy +=accuracy\n",
        "        print(f\"Precisión test fold {fold}: {accuracy * 100.0 :.2f}\" % ())\n",
        "\n",
        "    avg_accuracy /= FOLDS\n",
        "    print(f'Avg. accuracy = {avg_accuracy * 100}')"
      ]
    },
    {
      "cell_type": "markdown",
      "metadata": {
        "id": "QtSbWtCtHoBb"
      },
      "source": [
        "#Aplicando SGDClassifier"
      ]
    },
    {
      "cell_type": "code",
      "execution_count": null,
      "metadata": {
        "id": "WK2xb4JNHoBc"
      },
      "outputs": [],
      "source": [
        ">>> from sklearn.linear_model import SGDClassifier\n",
        ">>> from sklearn.pipeline import make_pipeline"
      ]
    },
    {
      "cell_type": "code",
      "execution_count": null,
      "metadata": {
        "colab": {
          "base_uri": "https://localhost:8080/"
        },
        "id": "nY7_vPquHoBd",
        "outputId": "aaf9311a-330c-4d52-c396-6e7be63cc402"
      },
      "outputs": [
        {
          "output_type": "stream",
          "name": "stdout",
          "text": [
            "SGDClassifier\n",
            "Accuracy train SGDClassifier: 77.93%\n",
            "Accuracy test SGDClassifier: 77.96%\n"
          ]
        }
      ],
      "source": [
        "clfs = [make_pipeline(StandardScaler(),\n",
        "...                     SGDClassifier(max_iter=1000, tol=1e-3))]\n",
        "names = ['SGDClassifier']\n",
        "\n",
        "trained_models = []\n",
        "accuracy_models = []\n",
        "for clf,name in zip(clfs,names):\n",
        "    print(name)\n",
        "    clf.fit(x_train, y_train)\n",
        "    train_predictions = clf.predict(x_train)\n",
        "    accuracy = accuracy_score(y_train, train_predictions)\n",
        "    print(f\"Accuracy train {name}: %.2f%%\" % (accuracy * 100.0))\n",
        "\n",
        "    train_predictions = clf.predict(x_test)\n",
        "    accuracy = accuracy_score(y_test, train_predictions)\n",
        "    print(\"Accuracy test SGDClassifier: %.2f%%\" % (accuracy * 100.0))\n",
        "    # plot_confusion_matrix(clf,x_test,y_test)\n",
        "    trained_models.append(clf)\n",
        "    accuracy_models.append(accuracy*100)"
      ]
    },
    {
      "cell_type": "markdown",
      "metadata": {
        "id": "VTHw9en-HoBe"
      },
      "source": [
        "### Algún tipo de ajuste de hiperparámetros de los modelos elegidos"
      ]
    },
    {
      "cell_type": "code",
      "execution_count": null,
      "metadata": {
        "colab": {
          "base_uri": "https://localhost:8080/"
        },
        "id": "SnavxDZOHoBe",
        "outputId": "ba50ab61-34d0-41ea-f4e0-efcabda443c1"
      },
      "outputs": [
        {
          "output_type": "stream",
          "name": "stderr",
          "text": [
            "/usr/local/lib/python3.7/dist-packages/sklearn/model_selection/_validation.py:372: FitFailedWarning: \n",
            "45 fits failed out of a total of 450.\n",
            "The score on these train-test partitions for these parameters will be set to nan.\n",
            "If these failures are not expected, you can try to debug them by setting error_score='raise'.\n",
            "\n",
            "Below are more details about the failures:\n",
            "--------------------------------------------------------------------------------\n",
            "45 fits failed with the following error:\n",
            "Traceback (most recent call last):\n",
            "  File \"/usr/local/lib/python3.7/dist-packages/sklearn/model_selection/_validation.py\", line 680, in _fit_and_score\n",
            "    estimator.fit(X_train, y_train, **fit_params)\n",
            "  File \"/usr/local/lib/python3.7/dist-packages/sklearn/linear_model/_stochastic_gradient.py\", line 892, in fit\n",
            "    sample_weight=sample_weight,\n",
            "  File \"/usr/local/lib/python3.7/dist-packages/sklearn/linear_model/_stochastic_gradient.py\", line 649, in _fit\n",
            "    self._validate_params()\n",
            "  File \"/usr/local/lib/python3.7/dist-packages/sklearn/linear_model/_stochastic_gradient.py\", line 162, in _validate_params\n",
            "    raise ValueError(\"The loss %s is not supported. \" % self.loss)\n",
            "ValueError: The loss log_loss is not supported. \n",
            "\n",
            "  warnings.warn(some_fits_failed_message, FitFailedWarning)\n",
            "/usr/local/lib/python3.7/dist-packages/sklearn/model_selection/_search.py:972: UserWarning: One or more of the test scores are non-finite: [0.77245169 0.7695745  0.77037437        nan        nan        nan\n",
            " 0.77117501 0.76957514 0.76909476 0.72642665 0.76429847 0.75599176\n",
            " 0.68263881 0.67017504 0.7112623  0.72100135 0.6911211  0.74513207\n",
            " 0.61808611 0.72131624 0.73905285 0.73889336 0.73409886 0.72946678\n",
            " 0.72131815 0.73985016 0.738574   0.58580369 0.56661278 0.54118545\n",
            " 0.78443507 0.78060121 0.78507379        nan        nan        nan\n",
            " 0.77596849 0.78076172 0.77484734 0.77852338 0.77469092 0.77740376\n",
            " 0.77708364 0.77101207 0.77788517 0.72979623 0.73778255 0.72404249\n",
            " 0.7446499  0.74799841 0.75391431 0.73266103 0.7285064  0.72866678\n",
            " 0.73074448 0.73489745 0.73425962 0.74081323 0.75167048 0.7473676\n",
            " 0.72563585 0.49952077 0.60818949        nan        nan        nan\n",
            " 0.74113067 0.50175719 0.54520856 0.75807048 0.50287629 0.72291458\n",
            " 0.75823022 0.52781634 0.7233933  0.66156544 0.49936013 0.50047923\n",
            " 0.75407495 0.50287629 0.72099637 0.67691368 0.50079872 0.49840166\n",
            " 0.73730077 0.49936192 0.58693582 0.75774971 0.50287629 0.72147585]\n",
            "  category=UserWarning,\n"
          ]
        },
        {
          "output_type": "execute_result",
          "data": {
            "text/plain": [
              "{'alpha': 0.001, 'loss': 'hinge', 'penalty': 'elasticnet'}"
            ]
          },
          "metadata": {},
          "execution_count": 67
        }
      ],
      "source": [
        "grid = GridSearchCV(SGDClassifier(),\n",
        " {'loss':('hinge', 'log_loss', 'log', 'modified_huber', 'squared_hinge', 'perceptron', 'squared_error', 'huber', 'epsilon_insensitive', 'squared_epsilon_insensitive'),\n",
        " 'penalty':('l2', 'l1', 'elasticnet'),\n",
        " 'alpha':(0.0001, 0.001, 1)})\n",
        "grid.fit(x_train,y_train)\n",
        "grid.best_params_"
      ]
    },
    {
      "cell_type": "code",
      "execution_count": null,
      "metadata": {
        "colab": {
          "base_uri": "https://localhost:8080/",
          "height": 477
        },
        "id": "TozFl8FxHoBf",
        "outputId": "00fcf4bd-c8f4-464d-ed83-c2b63ec41b19"
      },
      "outputs": [
        {
          "output_type": "stream",
          "name": "stdout",
          "text": [
            "Accuracy SGDClassifier: 78.75%\n",
            "Accuracy test SGDClassifier 78.72%\n"
          ]
        },
        {
          "output_type": "display_data",
          "data": {
            "text/plain": [
              "<Figure size 432x288 with 2 Axes>"
            ],
            "image/png": "[encoded data removed]"
          },
          "metadata": {}
        },
        {
          "output_type": "stream",
          "name": "stdout",
          "text": [
            "              precision    recall  f1-score   support\n",
            "\n",
            "           0       0.83      0.70      0.76       748\n",
            "           1       0.76      0.87      0.81       817\n",
            "\n",
            "    accuracy                           0.79      1565\n",
            "   macro avg       0.79      0.78      0.78      1565\n",
            "weighted avg       0.79      0.79      0.79      1565\n",
            "\n"
          ]
        }
      ],
      "source": [
        "clf = SGDClassifier(**grid.best_params_).fit(x_train, y_train)\n",
        "\n",
        "train_predictions = clf.predict(x_train)\n",
        "accuracy = accuracy_score(y_train, train_predictions)\n",
        "print(f\"Accuracy {name}: %.2f%%\" % (accuracy * 100.0))\n",
        "\n",
        "test_predictions = clf.predict(x_test)\n",
        "accuracy = accuracy_score(y_test, test_predictions)\n",
        "print(f\"Accuracy test {name} %.2f%%\" % (accuracy * 100.0))\n",
        "ConfusionMatrixDisplay.from_predictions(y_test, test_predictions)\n",
        "plt.show()\n",
        "\n",
        "print(classification_report(y_test,clf.predict(x_test)))"
      ]
    },
    {
      "cell_type": "code",
      "execution_count": null,
      "metadata": {
        "colab": {
          "base_uri": "https://localhost:8080/"
        },
        "id": "UM4mcwkjNbSd",
        "outputId": "6b9b4dcf-b776-40ae-a085-100fb60d0fd5"
      },
      "outputs": [
        {
          "output_type": "stream",
          "name": "stdout",
          "text": [
            "SGDClassifier(alpha=0.001, penalty='elasticnet')\n",
            "Precisión test fold 0: 77.88\n",
            "Precisión test fold 1: 78.83\n",
            "Precisión test fold 2: 79.71\n",
            "Precisión test fold 3: 77.78\n",
            "Precisión test fold 4: 78.74\n",
            "Avg. accuracy = 78.58730268181621\n"
          ]
        }
      ],
      "source": [
        "FOLDS=5\n",
        "cv = StratifiedKFold(n_splits=FOLDS, shuffle=True, random_state=10)\n",
        "\n",
        "x_train2 = np.array(x_train)\n",
        "y_train2 = np.array(y_train)\n",
        "\n",
        "\n",
        "for clfi, name in zip([SGDClassifier(**grid.best_params_)],names):\n",
        "    print(clfi)\n",
        "    avg_accuracy = 0\n",
        "    for fold, (train_idx, val_idx) in enumerate(cv.split(x_train2, y_train2)):\n",
        "        xi, yi = x_train2[train_idx], y_train2[train_idx]\n",
        "        x_valid, y_valid = x_train2[val_idx], y_train2[val_idx]\n",
        "        clfi = clfi.fit(xi, yi)\n",
        "\n",
        "        test_predictions = clfi.predict(x_valid)\n",
        "        accuracy = accuracy_score(y_valid, test_predictions)\n",
        "        avg_accuracy +=accuracy\n",
        "        print(f\"Precisión test fold {fold}: {accuracy * 100.0 :.2f}\" % ())\n",
        "\n",
        "    avg_accuracy /= FOLDS\n",
        "    print(f'Avg. accuracy = {avg_accuracy * 100}')"
      ]
    },
    {
      "cell_type": "code",
      "execution_count": null,
      "metadata": {
        "id": "Z-N3oH6Crfo8"
      },
      "outputs": [],
      "source": [
        ""
      ]
    },
    {
      "cell_type": "markdown",
      "metadata": {
        "id": "9Yqx9ikCrhDQ"
      },
      "source": [
        "#Aplicando Perceptron"
      ]
    },
    {
      "cell_type": "code",
      "execution_count": null,
      "metadata": {
        "id": "k8ipoM-crhDR"
      },
      "outputs": [],
      "source": [
        ">>> from sklearn.linear_model import Perceptron"
      ]
    },
    {
      "cell_type": "code",
      "execution_count": null,
      "metadata": {
        "colab": {
          "base_uri": "https://localhost:8080/"
        },
        "id": "wWUxWmbQrhDS",
        "outputId": "631fc855-8c6d-4c65-f77b-738e07b08b26"
      },
      "outputs": [
        {
          "output_type": "stream",
          "name": "stdout",
          "text": [
            "Perceptron\n",
            "Accuracy train Perceptron: 63.22%\n",
            "Accuracy test Perceptron: 63.39%\n"
          ]
        }
      ],
      "source": [
        "clfs = [Perceptron()]\n",
        "names = ['Perceptron']\n",
        "\n",
        "trained_models = []\n",
        "accuracy_models = []\n",
        "for clf,name in zip(clfs,names):\n",
        "    print(name)\n",
        "    clf.fit(x_train, y_train)\n",
        "    train_predictions = clf.predict(x_train)\n",
        "    accuracy = accuracy_score(y_train, train_predictions)\n",
        "    print(f\"Accuracy train {name}: %.2f%%\" % (accuracy * 100.0))\n",
        "\n",
        "    train_predictions = clf.predict(x_test)\n",
        "    accuracy = accuracy_score(y_test, train_predictions)\n",
        "    print(f\"Accuracy test {name}: %.2f%%\" % (accuracy * 100.0))\n",
        "    # plot_confusion_matrix(clf,x_test,y_test)\n",
        "    trained_models.append(clf)\n",
        "    accuracy_models.append(accuracy*100)"
      ]
    },
    {
      "cell_type": "markdown",
      "metadata": {
        "id": "twQykKVurhDT"
      },
      "source": [
        "### Algún tipo de ajuste de hiperparámetros de los modelos elegidos"
      ]
    },
    {
      "cell_type": "code",
      "execution_count": null,
      "metadata": {
        "colab": {
          "base_uri": "https://localhost:8080/"
        },
        "id": "DXMupOYOrhDT",
        "outputId": "b966d6cb-6e57-4d23-d0d7-5edbba7749e5"
      },
      "outputs": [
        {
          "output_type": "execute_result",
          "data": {
            "text/plain": [
              "{'alpha': 0.001, 'l1_ratio': 0.15, 'penalty': 'l1'}"
            ]
          },
          "metadata": {},
          "execution_count": 72
        }
      ],
      "source": [
        "grid = GridSearchCV(Perceptron(),\n",
        " {'penalty':('l2','l1','elasticnet'),\n",
        " 'alpha':(0.0001, 0.001, 0.01, 1, 10),\n",
        " 'l1_ratio':(0.15, 0.5, 0.75)})\n",
        "grid.fit(x_train,y_train)\n",
        "grid.best_params_"
      ]
    },
    {
      "cell_type": "code",
      "execution_count": null,
      "metadata": {
        "colab": {
          "base_uri": "https://localhost:8080/",
          "height": 476
        },
        "id": "Jamsn2nBrhDT",
        "outputId": "b0b6dcae-f480-4f01-8996-8f11b97aea2b"
      },
      "outputs": [
        {
          "output_type": "stream",
          "name": "stdout",
          "text": [
            "Accuracy Perceptron: 77.13%\n",
            "Accuracy test Perceptron 76.74%\n"
          ]
        },
        {
          "output_type": "display_data",
          "data": {
            "text/plain": [
              "<Figure size 432x288 with 2 Axes>"
            ],
            "image/png": "[encoded data removed]"
          },
          "metadata": {}
        },
        {
          "output_type": "stream",
          "name": "stdout",
          "text": [
            "              precision    recall  f1-score   support\n",
            "\n",
            "           0       0.78      0.72      0.75       748\n",
            "           1       0.76      0.81      0.78       817\n",
            "\n",
            "    accuracy                           0.77      1565\n",
            "   macro avg       0.77      0.77      0.77      1565\n",
            "weighted avg       0.77      0.77      0.77      1565\n",
            "\n"
          ]
        }
      ],
      "source": [
        "clf = Perceptron(**grid.best_params_).fit(x_train, y_train)\n",
        "\n",
        "train_predictions = clf.predict(x_train)\n",
        "accuracy = accuracy_score(y_train, train_predictions)\n",
        "print(f\"Accuracy {name}: %.2f%%\" % (accuracy * 100.0))\n",
        "\n",
        "test_predictions = clf.predict(x_test)\n",
        "accuracy = accuracy_score(y_test, test_predictions)\n",
        "print(f\"Accuracy test {name} %.2f%%\" % (accuracy * 100.0))\n",
        "ConfusionMatrixDisplay.from_predictions(y_test, test_predictions)\n",
        "plt.show()\n",
        "\n",
        "print(classification_report(y_test,clf.predict(x_test)))"
      ]
    },
    {
      "cell_type": "code",
      "execution_count": null,
      "metadata": {
        "colab": {
          "base_uri": "https://localhost:8080/"
        },
        "id": "u9ifzeqOrhDU",
        "outputId": "8b367776-8e60-4fe8-ccba-2b4ea7170805"
      },
      "outputs": [
        {
          "output_type": "stream",
          "name": "stdout",
          "text": [
            "Perceptron(alpha=0.001, penalty='l1')\n",
            "Precisión test fold 0: 69.01\n",
            "Precisión test fold 1: 76.44\n",
            "Precisión test fold 2: 74.60\n",
            "Precisión test fold 3: 70.58\n",
            "Precisión test fold 4: 76.26\n",
            "Avg. accuracy = 73.37808986038007\n"
          ]
        }
      ],
      "source": [
        "FOLDS=5\n",
        "cv = StratifiedKFold(n_splits=FOLDS, shuffle=True, random_state=10)\n",
        "\n",
        "x_train2 = np.array(x_train)\n",
        "y_train2 = np.array(y_train)\n",
        "\n",
        "\n",
        "for clfi, name in zip([Perceptron(**grid.best_params_)],names):\n",
        "    print(clfi)\n",
        "    avg_accuracy = 0\n",
        "    for fold, (train_idx, val_idx) in enumerate(cv.split(x_train2, y_train2)):\n",
        "        xi, yi = x_train2[train_idx], y_train2[train_idx]\n",
        "        x_valid, y_valid = x_train2[val_idx], y_train2[val_idx]\n",
        "        clfi = clfi.fit(xi, yi)\n",
        "\n",
        "        test_predictions = clfi.predict(x_valid)\n",
        "        accuracy = accuracy_score(y_valid, test_predictions)\n",
        "        avg_accuracy +=accuracy\n",
        "        print(f\"Precisión test fold {fold}: {accuracy * 100.0 :.2f}\" % ())\n",
        "\n",
        "    avg_accuracy /= FOLDS\n",
        "    print(f'Avg. accuracy = {avg_accuracy * 100}')"
      ]
    },
    {
      "cell_type": "markdown",
      "source": [
        "#Mejor Modelo"
      ],
      "metadata": {
        "id": "f2v_7vSdg2bB"
      }
    },
    {
      "cell_type": "code",
      "source": [
        ""
      ],
      "metadata": {
        "id": "PXmLNxwog923"
      },
      "execution_count": null,
      "outputs": []
    },
    {
      "cell_type": "code",
      "execution_count": null,
      "metadata": {
        "id": "mieS9L2jg-mT"
      },
      "outputs": [],
      "source": [
        "import pandas as pd\n",
        "import numpy as np\n",
        "import matplotlib.pyplot as plt\n",
        "\n",
        "from sklearn.preprocessing import StandardScaler, LabelEncoder\n",
        "from sklearn.impute import SimpleImputer\n",
        "from sklearn.model_selection import train_test_split, GridSearchCV, StratifiedKFold\n",
        "from sklearn.metrics import accuracy_score, ConfusionMatrixDisplay, classification_report\n",
        "\n",
        "from sklearn.tree import DecisionTreeClassifier"
      ]
    },
    {
      "cell_type": "code",
      "execution_count": null,
      "metadata": {
        "colab": {
          "base_uri": "https://localhost:8080/",
          "height": 771
        },
        "outputId": "5b9c6ad3-e5af-41a8-9ca6-d1683913a403",
        "id": "VsJLfcq9g-mU"
      },
      "outputs": [
        {
          "output_type": "stream",
          "name": "stdout",
          "text": [
            "(7823, 14)\n",
            "       PassengerId          Age   RoomService     FoodCourt  ShoppingMall  \\\n",
            "count  7823.000000  7661.000000   7669.000000   7668.000000   7635.000000   \n",
            "mean   4345.691039    28.879389    226.078237    455.643062    172.600393   \n",
            "std    2504.576803    14.461548    679.180148   1621.290107    597.923749   \n",
            "min       0.000000     0.000000      0.000000      0.000000      0.000000   \n",
            "25%    2182.500000    19.000000      0.000000      0.000000      0.000000   \n",
            "50%    4345.000000    27.000000      0.000000      0.000000      0.000000   \n",
            "75%    6515.500000    38.000000     44.000000     69.000000     28.000000   \n",
            "max    8692.000000    79.000000  14327.000000  29813.000000  23492.000000   \n",
            "\n",
            "                Spa        VRDeck  Transported  \n",
            "count   7665.000000   7654.000000  7823.000000  \n",
            "mean     305.023222    295.476744     0.506711  \n",
            "std     1133.423579   1093.485752     0.499987  \n",
            "min        0.000000      0.000000     0.000000  \n",
            "25%        0.000000      0.000000     0.000000  \n",
            "50%        0.000000      0.000000     1.000000  \n",
            "75%       58.000000     46.000000     1.000000  \n",
            "max    22408.000000  24133.000000     1.000000  \n"
          ]
        },
        {
          "output_type": "execute_result",
          "data": {
            "text/plain": [
              "      PassengerId HomePlanet CryoSleep     Cabin  Destination   Age    VIP  \\\n",
              "0            3430     Europa     False   C/123/P  TRAPPIST-1e  57.0  False   \n",
              "1             669       Mars      True   F/126/S          NaN  18.0  False   \n",
              "2            8430     Europa      True   B/343/S  TRAPPIST-1e  33.0    NaN   \n",
              "3            6463      Earth     False  F/1420/P  TRAPPIST-1e  43.0  False   \n",
              "4              85      Earth     False     G/9/P  TRAPPIST-1e  19.0  False   \n",
              "...           ...        ...       ...       ...          ...   ...    ...   \n",
              "7818         6528       Mars     False  F/1319/S  TRAPPIST-1e  12.0    NaN   \n",
              "7819         2693      Earth     False   G/459/S  TRAPPIST-1e  44.0  False   \n",
              "7820         8076       Mars      True  F/1772/P  TRAPPIST-1e  55.0  False   \n",
              "7821         3829      Earth     False   E/253/P  TRAPPIST-1e  15.0  False   \n",
              "7822         7624     Europa      True   B/270/P  55 Cancri e  45.0  False   \n",
              "\n",
              "      RoomService  FoodCourt  ShoppingMall    Spa  VRDeck               Name  \n",
              "0             0.0     3859.0          13.0  195.0  3874.0     Azhah Tronsive  \n",
              "1             0.0        0.0           0.0    0.0     0.0         Roswal Sha  \n",
              "2             0.0        0.0           0.0    0.0     0.0  Shaiam Tinganking  \n",
              "3           142.0     1208.0           0.0    0.0   204.0     Landa Grifford  \n",
              "4             0.0        0.0         670.0    1.0    34.0     Gracy Dunnisey  \n",
              "...           ...        ...           ...    ...     ...                ...  \n",
              "7818          0.0        0.0           0.0    0.0     0.0        Risps Hacle  \n",
              "7819          0.0        0.0         744.0   62.0     3.0      Gabrie Reenez  \n",
              "7820          0.0        0.0           0.0    0.0     0.0       Panzel Ruity  \n",
              "7821          0.0      840.0         123.0    0.0    20.0    Belly Weavesend  \n",
              "7822          0.0        0.0           0.0    0.0     0.0  Graston Donotaked  \n",
              "\n",
              "[7823 rows x 13 columns]"
            ],
            "text/html": [
              "\n",
              "  <div id=\"df-cc24e84d-b1dd-4b97-af02-860fbb3be87e\">\n",
              "    <div class=\"colab-df-container\">\n",
              "      <div>\n",
              "<style scoped>\n",
              "    .dataframe tbody tr th:only-of-type {\n",
              "        vertical-align: middle;\n",
              "    }\n",
              "\n",
              "    .dataframe tbody tr th {\n",
              "        vertical-align: top;\n",
              "    }\n",
              "\n",
              "    .dataframe thead th {\n",
              "        text-align: right;\n",
              "    }\n",
              "</style>\n",
              "<table border=\"1\" class=\"dataframe\">\n",
              "  <thead>\n",
              "    <tr style=\"text-align: right;\">\n",
              "      <th></th>\n",
              "      <th>PassengerId</th>\n",
              "      <th>HomePlanet</th>\n",
              "      <th>CryoSleep</th>\n",
              "      <th>Cabin</th>\n",
              "      <th>Destination</th>\n",
              "      <th>Age</th>\n",
              "      <th>VIP</th>\n",
              "      <th>RoomService</th>\n",
              "      <th>FoodCourt</th>\n",
              "      <th>ShoppingMall</th>\n",
              "      <th>Spa</th>\n",
              "      <th>VRDeck</th>\n",
              "      <th>Name</th>\n",
              "    </tr>\n",
              "  </thead>\n",
              "  <tbody>\n",
              "    <tr>\n",
              "      <th>0</th>\n",
              "      <td>3430</td>\n",
              "      <td>Europa</td>\n",
              "      <td>False</td>\n",
              "      <td>C/123/P</td>\n",
              "      <td>TRAPPIST-1e</td>\n",
              "      <td>57.0</td>\n",
              "      <td>False</td>\n",
              "      <td>0.0</td>\n",
              "      <td>3859.0</td>\n",
              "      <td>13.0</td>\n",
              "      <td>195.0</td>\n",
              "      <td>3874.0</td>\n",
              "      <td>Azhah Tronsive</td>\n",
              "    </tr>\n",
              "    <tr>\n",
              "      <th>1</th>\n",
              "      <td>669</td>\n",
              "      <td>Mars</td>\n",
              "      <td>True</td>\n",
              "      <td>F/126/S</td>\n",
              "      <td>NaN</td>\n",
              "      <td>18.0</td>\n",
              "      <td>False</td>\n",
              "      <td>0.0</td>\n",
              "      <td>0.0</td>\n",
              "      <td>0.0</td>\n",
              "      <td>0.0</td>\n",
              "      <td>0.0</td>\n",
              "      <td>Roswal Sha</td>\n",
              "    </tr>\n",
              "    <tr>\n",
              "      <th>2</th>\n",
              "      <td>8430</td>\n",
              "      <td>Europa</td>\n",
              "      <td>True</td>\n",
              "      <td>B/343/S</td>\n",
              "      <td>TRAPPIST-1e</td>\n",
              "      <td>33.0</td>\n",
              "      <td>NaN</td>\n",
              "      <td>0.0</td>\n",
              "      <td>0.0</td>\n",
              "      <td>0.0</td>\n",
              "      <td>0.0</td>\n",
              "      <td>0.0</td>\n",
              "      <td>Shaiam Tinganking</td>\n",
              "    </tr>\n",
              "    <tr>\n",
              "      <th>3</th>\n",
              "      <td>6463</td>\n",
              "      <td>Earth</td>\n",
              "      <td>False</td>\n",
              "      <td>F/1420/P</td>\n",
              "      <td>TRAPPIST-1e</td>\n",
              "      <td>43.0</td>\n",
              "      <td>False</td>\n",
              "      <td>142.0</td>\n",
              "      <td>1208.0</td>\n",
              "      <td>0.0</td>\n",
              "      <td>0.0</td>\n",
              "      <td>204.0</td>\n",
              "      <td>Landa Grifford</td>\n",
              "    </tr>\n",
              "    <tr>\n",
              "      <th>4</th>\n",
              "      <td>85</td>\n",
              "      <td>Earth</td>\n",
              "      <td>False</td>\n",
              "      <td>G/9/P</td>\n",
              "      <td>TRAPPIST-1e</td>\n",
              "      <td>19.0</td>\n",
              "      <td>False</td>\n",
              "      <td>0.0</td>\n",
              "      <td>0.0</td>\n",
              "      <td>670.0</td>\n",
              "      <td>1.0</td>\n",
              "      <td>34.0</td>\n",
              "      <td>Gracy Dunnisey</td>\n",
              "    </tr>\n",
              "    <tr>\n",
              "      <th>...</th>\n",
              "      <td>...</td>\n",
              "      <td>...</td>\n",
              "      <td>...</td>\n",
              "      <td>...</td>\n",
              "      <td>...</td>\n",
              "      <td>...</td>\n",
              "      <td>...</td>\n",
              "      <td>...</td>\n",
              "      <td>...</td>\n",
              "      <td>...</td>\n",
              "      <td>...</td>\n",
              "      <td>...</td>\n",
              "      <td>...</td>\n",
              "    </tr>\n",
              "    <tr>\n",
              "      <th>7818</th>\n",
              "      <td>6528</td>\n",
              "      <td>Mars</td>\n",
              "      <td>False</td>\n",
              "      <td>F/1319/S</td>\n",
              "      <td>TRAPPIST-1e</td>\n",
              "      <td>12.0</td>\n",
              "      <td>NaN</td>\n",
              "      <td>0.0</td>\n",
              "      <td>0.0</td>\n",
              "      <td>0.0</td>\n",
              "      <td>0.0</td>\n",
              "      <td>0.0</td>\n",
              "      <td>Risps Hacle</td>\n",
              "    </tr>\n",
              "    <tr>\n",
              "      <th>7819</th>\n",
              "      <td>2693</td>\n",
              "      <td>Earth</td>\n",
              "      <td>False</td>\n",
              "      <td>G/459/S</td>\n",
              "      <td>TRAPPIST-1e</td>\n",
              "      <td>44.0</td>\n",
              "      <td>False</td>\n",
              "      <td>0.0</td>\n",
              "      <td>0.0</td>\n",
              "      <td>744.0</td>\n",
              "      <td>62.0</td>\n",
              "      <td>3.0</td>\n",
              "      <td>Gabrie Reenez</td>\n",
              "    </tr>\n",
              "    <tr>\n",
              "      <th>7820</th>\n",
              "      <td>8076</td>\n",
              "      <td>Mars</td>\n",
              "      <td>True</td>\n",
              "      <td>F/1772/P</td>\n",
              "      <td>TRAPPIST-1e</td>\n",
              "      <td>55.0</td>\n",
              "      <td>False</td>\n",
              "      <td>0.0</td>\n",
              "      <td>0.0</td>\n",
              "      <td>0.0</td>\n",
              "      <td>0.0</td>\n",
              "      <td>0.0</td>\n",
              "      <td>Panzel Ruity</td>\n",
              "    </tr>\n",
              "    <tr>\n",
              "      <th>7821</th>\n",
              "      <td>3829</td>\n",
              "      <td>Earth</td>\n",
              "      <td>False</td>\n",
              "      <td>E/253/P</td>\n",
              "      <td>TRAPPIST-1e</td>\n",
              "      <td>15.0</td>\n",
              "      <td>False</td>\n",
              "      <td>0.0</td>\n",
              "      <td>840.0</td>\n",
              "      <td>123.0</td>\n",
              "      <td>0.0</td>\n",
              "      <td>20.0</td>\n",
              "      <td>Belly Weavesend</td>\n",
              "    </tr>\n",
              "    <tr>\n",
              "      <th>7822</th>\n",
              "      <td>7624</td>\n",
              "      <td>Europa</td>\n",
              "      <td>True</td>\n",
              "      <td>B/270/P</td>\n",
              "      <td>55 Cancri e</td>\n",
              "      <td>45.0</td>\n",
              "      <td>False</td>\n",
              "      <td>0.0</td>\n",
              "      <td>0.0</td>\n",
              "      <td>0.0</td>\n",
              "      <td>0.0</td>\n",
              "      <td>0.0</td>\n",
              "      <td>Graston Donotaked</td>\n",
              "    </tr>\n",
              "  </tbody>\n",
              "</table>\n",
              "<p>7823 rows × 13 columns</p>\n",
              "</div>\n",
              "      <button class=\"colab-df-convert\" onclick=\"convertToInteractive('df-cc24e84d-b1dd-4b97-af02-860fbb3be87e')\"\n",
              "              title=\"Convert this dataframe to an interactive table.\"\n",
              "              style=\"display:none;\">\n",
              "        \n",
              "  <svg xmlns=\"http://www.w3.org/2000/svg\" height=\"24px\"viewBox=\"0 0 24 24\"\n",
              "       width=\"24px\">\n",
              "    <path d=\"M0 0h24v24H0V0z\" fill=\"none\"/>\n",
              "    <path d=\"M18.56 5.44l.94 2.06.94-2.06 2.06-.94-2.06-.94-.94-2.06-.94 2.06-2.06.94zm-11 1L8.5 8.5l.94-2.06 2.06-.94-2.06-.94L8.5 2.5l-.94 2.06-2.06.94zm10 10l.94 2.06.94-2.06 2.06-.94-2.06-.94-.94-2.06-.94 2.06-2.06.94z\"/><path d=\"M17.41 7.96l-1.37-1.37c-.4-.4-.92-.59-1.43-.59-.52 0-1.04.2-1.43.59L10.3 9.45l-7.72 7.72c-.78.78-.78 2.05 0 2.83L4 21.41c.39.39.9.59 1.41.59.51 0 1.02-.2 1.41-.59l7.78-7.78 2.81-2.81c.8-.78.8-2.07 0-2.86zM5.41 20L4 18.59l7.72-7.72 1.47 1.35L5.41 20z\"/>\n",
              "  </svg>\n",
              "      </button>\n",
              "      \n",
              "  <style>\n",
              "    .colab-df-container {\n",
              "      display:flex;\n",
              "      flex-wrap:wrap;\n",
              "      gap: 12px;\n",
              "    }\n",
              "\n",
              "    .colab-df-convert {\n",
              "      background-color: #E8F0FE;\n",
              "      border: none;\n",
              "      border-radius: 50%;\n",
              "      cursor: pointer;\n",
              "      display: none;\n",
              "      fill: #1967D2;\n",
              "      height: 32px;\n",
              "      padding: 0 0 0 0;\n",
              "      width: 32px;\n",
              "    }\n",
              "\n",
              "    .colab-df-convert:hover {\n",
              "      background-color: #E2EBFA;\n",
              "      box-shadow: 0px 1px 2px rgba(60, 64, 67, 0.3), 0px 1px 3px 1px rgba(60, 64, 67, 0.15);\n",
              "      fill: #174EA6;\n",
              "    }\n",
              "\n",
              "    [theme=dark] .colab-df-convert {\n",
              "      background-color: #3B4455;\n",
              "      fill: #D2E3FC;\n",
              "    }\n",
              "\n",
              "    [theme=dark] .colab-df-convert:hover {\n",
              "      background-color: #434B5C;\n",
              "      box-shadow: 0px 1px 3px 1px rgba(0, 0, 0, 0.15);\n",
              "      filter: drop-shadow(0px 1px 2px rgba(0, 0, 0, 0.3));\n",
              "      fill: #FFFFFF;\n",
              "    }\n",
              "  </style>\n",
              "\n",
              "      <script>\n",
              "        const buttonEl =\n",
              "          document.querySelector('#df-cc24e84d-b1dd-4b97-af02-860fbb3be87e button.colab-df-convert');\n",
              "        buttonEl.style.display =\n",
              "          google.colab.kernel.accessAllowed ? 'block' : 'none';\n",
              "\n",
              "        async function convertToInteractive(key) {\n",
              "          const element = document.querySelector('#df-cc24e84d-b1dd-4b97-af02-860fbb3be87e');\n",
              "          const dataTable =\n",
              "            await google.colab.kernel.invokeFunction('convertToInteractive',\n",
              "                                                     [key], {});\n",
              "          if (!dataTable) return;\n",
              "\n",
              "          const docLinkHtml = 'Like what you see? Visit the ' +\n",
              "            '<a target=\"_blank\" href=https://colab.research.google.com/notebooks/data_table.ipynb>data table notebook</a>'\n",
              "            + ' to learn more about interactive tables.';\n",
              "          element.innerHTML = '';\n",
              "          dataTable['output_type'] = 'display_data';\n",
              "          await google.colab.output.renderOutput(dataTable, element);\n",
              "          const docLink = document.createElement('div');\n",
              "          docLink.innerHTML = docLinkHtml;\n",
              "          element.appendChild(docLink);\n",
              "        }\n",
              "      </script>\n",
              "    </div>\n",
              "  </div>\n",
              "  "
            ]
          },
          "metadata": {},
          "execution_count": 76
        }
      ],
      "source": [
        "df = pd.read_csv('https://raw.githubusercontent.com/DiploDatos/AprendizajeSupervisado/master/Pr%C3%A1ctico/train.csv')\n",
        "print(df.shape)\n",
        "print(df.describe())\n",
        "imputer_cols = [\"Age\", \"FoodCourt\", \"ShoppingMall\", \"Spa\", \"VRDeck\" ,\"RoomService\"]\n",
        "imputer = SimpleImputer(strategy=\"median\")\n",
        "df[imputer_cols] = imputer.fit_transform(df[imputer_cols])\n",
        "y = df.Transported\n",
        "X = df.drop('Transported',axis=1)\n",
        "X"
      ]
    },
    {
      "cell_type": "code",
      "execution_count": null,
      "metadata": {
        "colab": {
          "base_uri": "https://localhost:8080/"
        },
        "id": "NXSdBBdNIWAn",
        "outputId": "8123b5af-20c2-4816-a8e5-1d1f53afaaf8"
      },
      "outputs": [
        {
          "output_type": "execute_result",
          "data": {
            "text/plain": [
              "(array(['C', 'F', 'B', 'G', 'E', 'D', 'n', 'A', 'T'], dtype=object),\n",
              " array(['P', 'S', 'n'], dtype=object))"
            ]
          },
          "metadata": {},
          "execution_count": 77
        }
      ],
      "source": [
        "X['Cabin'] = X['Cabin'].astype(str)\n",
        "X['Cabin_side'] = X['Cabin'].apply(lambda x: x[-1:])\n",
        "X['Cabin'] = X['Cabin'].apply(lambda x: x[:1])\n",
        "X['Cabin'].unique(), X['Cabin_side'].unique()"
      ]
    },
    {
      "cell_type": "code",
      "source": [
        "X.isna().sum()"
      ],
      "metadata": {
        "colab": {
          "base_uri": "https://localhost:8080/"
        },
        "id": "V4ZyTOC7SiVw",
        "outputId": "4182866a-1870-48ac-bf75-6a4b57b76c73"
      },
      "execution_count": null,
      "outputs": [
        {
          "output_type": "execute_result",
          "data": {
            "text/plain": [
              "PassengerId       0\n",
              "HomePlanet      179\n",
              "CryoSleep       196\n",
              "Cabin             0\n",
              "Destination     160\n",
              "Age               0\n",
              "VIP             184\n",
              "RoomService       0\n",
              "FoodCourt         0\n",
              "ShoppingMall      0\n",
              "Spa               0\n",
              "VRDeck            0\n",
              "Name            184\n",
              "Cabin_side        0\n",
              "dtype: int64"
            ]
          },
          "metadata": {},
          "execution_count": 78
        }
      ]
    },
    {
      "cell_type": "code",
      "source": [
        "from sklearn.experimental import enable_iterative_imputer\n",
        "from sklearn.impute import IterativeImputer"
      ],
      "metadata": {
        "id": "vLVQYKy9THeX"
      },
      "execution_count": null,
      "outputs": []
    },
    {
      "cell_type": "code",
      "execution_count": null,
      "metadata": {
        "id": "cTj4FOApihk3"
      },
      "outputs": [],
      "source": [
        "X = pd.concat((X, pd.get_dummies(X['Cabin'], prefix='Cabin_')), axis=1)\n",
        "X = pd.concat((X, pd.get_dummies(X['Cabin_side'], prefix='Cabin_side_')), axis=1)\n",
        "X = X.drop(['Cabin_side', 'Cabin'], axis=1)\n",
        "X['CryoSleep'] = X['CryoSleep'].replace({True:1, False:0})\n",
        "X['VIP'] = X['VIP'].replace({True:1, False:0})\n",
        "#X.dropna(axis=0)"
      ]
    },
    {
      "cell_type": "markdown",
      "metadata": {
        "id": "LoMZiGLhg-mZ"
      },
      "source": [
        "### Algún análisis exploratorio que permita tomar decisiones sobre las variabes a usar, transformaciones de variables, tratamiento de los datos faltantes, etc. etc."
      ]
    },
    {
      "cell_type": "code",
      "execution_count": null,
      "metadata": {
        "colab": {
          "base_uri": "https://localhost:8080/",
          "height": 592
        },
        "outputId": "68a5cb25-ca56-40a2-ed71-56d4bc37abcb",
        "id": "X09mSfHyg-mZ"
      },
      "outputs": [
        {
          "output_type": "stream",
          "name": "stdout",
          "text": [
            "Name\n",
            "Index(['HomePlanet', 'CryoSleep', 'Destination', 'Age', 'VIP', 'RoomService',\n",
            "       'FoodCourt', 'ShoppingMall', 'Spa', 'VRDeck', 'Cabin__A', 'Cabin__B',\n",
            "       'Cabin__C', 'Cabin__D', 'Cabin__E', 'Cabin__F', 'Cabin__G', 'Cabin__T',\n",
            "       'Cabin__n', 'Cabin_side__P', 'Cabin_side__S', 'Cabin_side__n'],\n",
            "      dtype='object')\n"
          ]
        },
        {
          "output_type": "execute_result",
          "data": {
            "text/plain": [
              "      HomePlanet  CryoSleep  Destination       Age       VIP  RoomService  \\\n",
              "0       0.320042  -0.746493     0.579856  1.967465 -0.209979    -0.329239   \n",
              "1       1.478619   1.108595     1.769839 -0.757408 -0.209979    -0.329239   \n",
              "2       0.320042   1.108595     0.579856  0.290620  5.752517    -0.329239   \n",
              "3      -0.838536  -0.746493     0.579856  0.989305 -0.209979    -0.118291   \n",
              "4      -0.838536  -0.746493     0.579856 -0.687539 -0.209979    -0.329239   \n",
              "...          ...        ...          ...       ...       ...          ...   \n",
              "7818    1.478619  -0.746493     0.579856 -1.176619  5.752517    -0.329239   \n",
              "7819   -0.838536  -0.746493     0.579856  1.059174 -0.209979    -0.329239   \n",
              "7820    1.478619   1.108595     0.579856  1.827728 -0.209979    -0.329239   \n",
              "7821   -0.838536  -0.746493     0.579856 -0.967013 -0.209979    -0.329239   \n",
              "7822    0.320042   1.108595    -1.800110  1.129042 -0.209979    -0.329239   \n",
              "\n",
              "      FoodCourt  ShoppingMall       Spa    VRDeck  ...  Cabin__C  Cabin__D  \\\n",
              "0      2.124377     -0.262923 -0.092514  3.312022  ...  3.241051  -0.24265   \n",
              "1     -0.278040     -0.284910 -0.266208 -0.267088  ... -0.308542  -0.24265   \n",
              "2     -0.278040     -0.284910 -0.266208 -0.267088  ... -0.308542  -0.24265   \n",
              "3      0.473999     -0.284910 -0.266208 -0.078616  ... -0.308542  -0.24265   \n",
              "4     -0.278040      0.848286 -0.265317 -0.235676  ... -0.308542  -0.24265   \n",
              "...         ...           ...       ...       ...  ...       ...       ...   \n",
              "7818  -0.278040     -0.284910 -0.266208 -0.267088  ... -0.308542  -0.24265   \n",
              "7819  -0.278040      0.973445 -0.210982 -0.264316  ... -0.308542  -0.24265   \n",
              "7820  -0.278040     -0.284910 -0.266208 -0.267088  ... -0.308542  -0.24265   \n",
              "7821   0.244901     -0.076876 -0.266208 -0.248610  ... -0.308542  -0.24265   \n",
              "7822  -0.278040     -0.284910 -0.266208 -0.267088  ... -0.308542  -0.24265   \n",
              "\n",
              "      Cabin__E  Cabin__F  Cabin__G  Cabin__T  Cabin__n  Cabin_side__P  \\\n",
              "0    -0.335625 -0.685116 -0.644130 -0.022618   -0.1552       1.028924   \n",
              "1    -0.335625  1.459607 -0.644130 -0.022618   -0.1552      -0.971889   \n",
              "2    -0.335625 -0.685116 -0.644130 -0.022618   -0.1552      -0.971889   \n",
              "3    -0.335625  1.459607 -0.644130 -0.022618   -0.1552       1.028924   \n",
              "4    -0.335625 -0.685116  1.552482 -0.022618   -0.1552       1.028924   \n",
              "...        ...       ...       ...       ...       ...            ...   \n",
              "7818 -0.335625  1.459607 -0.644130 -0.022618   -0.1552      -0.971889   \n",
              "7819 -0.335625 -0.685116  1.552482 -0.022618   -0.1552      -0.971889   \n",
              "7820 -0.335625  1.459607 -0.644130 -0.022618   -0.1552       1.028924   \n",
              "7821  2.979518 -0.685116 -0.644130 -0.022618   -0.1552       1.028924   \n",
              "7822 -0.335625 -0.685116 -0.644130 -0.022618   -0.1552       1.028924   \n",
              "\n",
              "      Cabin_side__S  Cabin_side__n  \n",
              "0         -0.981634        -0.1552  \n",
              "1          1.018710        -0.1552  \n",
              "2          1.018710        -0.1552  \n",
              "3         -0.981634        -0.1552  \n",
              "4         -0.981634        -0.1552  \n",
              "...             ...            ...  \n",
              "7818       1.018710        -0.1552  \n",
              "7819       1.018710        -0.1552  \n",
              "7820      -0.981634        -0.1552  \n",
              "7821      -0.981634        -0.1552  \n",
              "7822      -0.981634        -0.1552  \n",
              "\n",
              "[7823 rows x 22 columns]"
            ],
            "text/html": [
              "\n",
              "  <div id=\"df-b2f6d6f1-5f7d-4e66-92a4-02cb6e3af1de\">\n",
              "    <div class=\"colab-df-container\">\n",
              "      <div>\n",
              "<style scoped>\n",
              "    .dataframe tbody tr th:only-of-type {\n",
              "        vertical-align: middle;\n",
              "    }\n",
              "\n",
              "    .dataframe tbody tr th {\n",
              "        vertical-align: top;\n",
              "    }\n",
              "\n",
              "    .dataframe thead th {\n",
              "        text-align: right;\n",
              "    }\n",
              "</style>\n",
              "<table border=\"1\" class=\"dataframe\">\n",
              "  <thead>\n",
              "    <tr style=\"text-align: right;\">\n",
              "      <th></th>\n",
              "      <th>HomePlanet</th>\n",
              "      <th>CryoSleep</th>\n",
              "      <th>Destination</th>\n",
              "      <th>Age</th>\n",
              "      <th>VIP</th>\n",
              "      <th>RoomService</th>\n",
              "      <th>FoodCourt</th>\n",
              "      <th>ShoppingMall</th>\n",
              "      <th>Spa</th>\n",
              "      <th>VRDeck</th>\n",
              "      <th>...</th>\n",
              "      <th>Cabin__C</th>\n",
              "      <th>Cabin__D</th>\n",
              "      <th>Cabin__E</th>\n",
              "      <th>Cabin__F</th>\n",
              "      <th>Cabin__G</th>\n",
              "      <th>Cabin__T</th>\n",
              "      <th>Cabin__n</th>\n",
              "      <th>Cabin_side__P</th>\n",
              "      <th>Cabin_side__S</th>\n",
              "      <th>Cabin_side__n</th>\n",
              "    </tr>\n",
              "  </thead>\n",
              "  <tbody>\n",
              "    <tr>\n",
              "      <th>0</th>\n",
              "      <td>0.320042</td>\n",
              "      <td>-0.746493</td>\n",
              "      <td>0.579856</td>\n",
              "      <td>1.967465</td>\n",
              "      <td>-0.209979</td>\n",
              "      <td>-0.329239</td>\n",
              "      <td>2.124377</td>\n",
              "      <td>-0.262923</td>\n",
              "      <td>-0.092514</td>\n",
              "      <td>3.312022</td>\n",
              "      <td>...</td>\n",
              "      <td>3.241051</td>\n",
              "      <td>-0.24265</td>\n",
              "      <td>-0.335625</td>\n",
              "      <td>-0.685116</td>\n",
              "      <td>-0.644130</td>\n",
              "      <td>-0.022618</td>\n",
              "      <td>-0.1552</td>\n",
              "      <td>1.028924</td>\n",
              "      <td>-0.981634</td>\n",
              "      <td>-0.1552</td>\n",
              "    </tr>\n",
              "    <tr>\n",
              "      <th>1</th>\n",
              "      <td>1.478619</td>\n",
              "      <td>1.108595</td>\n",
              "      <td>1.769839</td>\n",
              "      <td>-0.757408</td>\n",
              "      <td>-0.209979</td>\n",
              "      <td>-0.329239</td>\n",
              "      <td>-0.278040</td>\n",
              "      <td>-0.284910</td>\n",
              "      <td>-0.266208</td>\n",
              "      <td>-0.267088</td>\n",
              "      <td>...</td>\n",
              "      <td>-0.308542</td>\n",
              "      <td>-0.24265</td>\n",
              "      <td>-0.335625</td>\n",
              "      <td>1.459607</td>\n",
              "      <td>-0.644130</td>\n",
              "      <td>-0.022618</td>\n",
              "      <td>-0.1552</td>\n",
              "      <td>-0.971889</td>\n",
              "      <td>1.018710</td>\n",
              "      <td>-0.1552</td>\n",
              "    </tr>\n",
              "    <tr>\n",
              "      <th>2</th>\n",
              "      <td>0.320042</td>\n",
              "      <td>1.108595</td>\n",
              "      <td>0.579856</td>\n",
              "      <td>0.290620</td>\n",
              "      <td>5.752517</td>\n",
              "      <td>-0.329239</td>\n",
              "      <td>-0.278040</td>\n",
              "      <td>-0.284910</td>\n",
              "      <td>-0.266208</td>\n",
              "      <td>-0.267088</td>\n",
              "      <td>...</td>\n",
              "      <td>-0.308542</td>\n",
              "      <td>-0.24265</td>\n",
              "      <td>-0.335625</td>\n",
              "      <td>-0.685116</td>\n",
              "      <td>-0.644130</td>\n",
              "      <td>-0.022618</td>\n",
              "      <td>-0.1552</td>\n",
              "      <td>-0.971889</td>\n",
              "      <td>1.018710</td>\n",
              "      <td>-0.1552</td>\n",
              "    </tr>\n",
              "    <tr>\n",
              "      <th>3</th>\n",
              "      <td>-0.838536</td>\n",
              "      <td>-0.746493</td>\n",
              "      <td>0.579856</td>\n",
              "      <td>0.989305</td>\n",
              "      <td>-0.209979</td>\n",
              "      <td>-0.118291</td>\n",
              "      <td>0.473999</td>\n",
              "      <td>-0.284910</td>\n",
              "      <td>-0.266208</td>\n",
              "      <td>-0.078616</td>\n",
              "      <td>...</td>\n",
              "      <td>-0.308542</td>\n",
              "      <td>-0.24265</td>\n",
              "      <td>-0.335625</td>\n",
              "      <td>1.459607</td>\n",
              "      <td>-0.644130</td>\n",
              "      <td>-0.022618</td>\n",
              "      <td>-0.1552</td>\n",
              "      <td>1.028924</td>\n",
              "      <td>-0.981634</td>\n",
              "      <td>-0.1552</td>\n",
              "    </tr>\n",
              "    <tr>\n",
              "      <th>4</th>\n",
              "      <td>-0.838536</td>\n",
              "      <td>-0.746493</td>\n",
              "      <td>0.579856</td>\n",
              "      <td>-0.687539</td>\n",
              "      <td>-0.209979</td>\n",
              "      <td>-0.329239</td>\n",
              "      <td>-0.278040</td>\n",
              "      <td>0.848286</td>\n",
              "      <td>-0.265317</td>\n",
              "      <td>-0.235676</td>\n",
              "      <td>...</td>\n",
              "      <td>-0.308542</td>\n",
              "      <td>-0.24265</td>\n",
              "      <td>-0.335625</td>\n",
              "      <td>-0.685116</td>\n",
              "      <td>1.552482</td>\n",
              "      <td>-0.022618</td>\n",
              "      <td>-0.1552</td>\n",
              "      <td>1.028924</td>\n",
              "      <td>-0.981634</td>\n",
              "      <td>-0.1552</td>\n",
              "    </tr>\n",
              "    <tr>\n",
              "      <th>...</th>\n",
              "      <td>...</td>\n",
              "      <td>...</td>\n",
              "      <td>...</td>\n",
              "      <td>...</td>\n",
              "      <td>...</td>\n",
              "      <td>...</td>\n",
              "      <td>...</td>\n",
              "      <td>...</td>\n",
              "      <td>...</td>\n",
              "      <td>...</td>\n",
              "      <td>...</td>\n",
              "      <td>...</td>\n",
              "      <td>...</td>\n",
              "      <td>...</td>\n",
              "      <td>...</td>\n",
              "      <td>...</td>\n",
              "      <td>...</td>\n",
              "      <td>...</td>\n",
              "      <td>...</td>\n",
              "      <td>...</td>\n",
              "      <td>...</td>\n",
              "    </tr>\n",
              "    <tr>\n",
              "      <th>7818</th>\n",
              "      <td>1.478619</td>\n",
              "      <td>-0.746493</td>\n",
              "      <td>0.579856</td>\n",
              "      <td>-1.176619</td>\n",
              "      <td>5.752517</td>\n",
              "      <td>-0.329239</td>\n",
              "      <td>-0.278040</td>\n",
              "      <td>-0.284910</td>\n",
              "      <td>-0.266208</td>\n",
              "      <td>-0.267088</td>\n",
              "      <td>...</td>\n",
              "      <td>-0.308542</td>\n",
              "      <td>-0.24265</td>\n",
              "      <td>-0.335625</td>\n",
              "      <td>1.459607</td>\n",
              "      <td>-0.644130</td>\n",
              "      <td>-0.022618</td>\n",
              "      <td>-0.1552</td>\n",
              "      <td>-0.971889</td>\n",
              "      <td>1.018710</td>\n",
              "      <td>-0.1552</td>\n",
              "    </tr>\n",
              "    <tr>\n",
              "      <th>7819</th>\n",
              "      <td>-0.838536</td>\n",
              "      <td>-0.746493</td>\n",
              "      <td>0.579856</td>\n",
              "      <td>1.059174</td>\n",
              "      <td>-0.209979</td>\n",
              "      <td>-0.329239</td>\n",
              "      <td>-0.278040</td>\n",
              "      <td>0.973445</td>\n",
              "      <td>-0.210982</td>\n",
              "      <td>-0.264316</td>\n",
              "      <td>...</td>\n",
              "      <td>-0.308542</td>\n",
              "      <td>-0.24265</td>\n",
              "      <td>-0.335625</td>\n",
              "      <td>-0.685116</td>\n",
              "      <td>1.552482</td>\n",
              "      <td>-0.022618</td>\n",
              "      <td>-0.1552</td>\n",
              "      <td>-0.971889</td>\n",
              "      <td>1.018710</td>\n",
              "      <td>-0.1552</td>\n",
              "    </tr>\n",
              "    <tr>\n",
              "      <th>7820</th>\n",
              "      <td>1.478619</td>\n",
              "      <td>1.108595</td>\n",
              "      <td>0.579856</td>\n",
              "      <td>1.827728</td>\n",
              "      <td>-0.209979</td>\n",
              "      <td>-0.329239</td>\n",
              "      <td>-0.278040</td>\n",
              "      <td>-0.284910</td>\n",
              "      <td>-0.266208</td>\n",
              "      <td>-0.267088</td>\n",
              "      <td>...</td>\n",
              "      <td>-0.308542</td>\n",
              "      <td>-0.24265</td>\n",
              "      <td>-0.335625</td>\n",
              "      <td>1.459607</td>\n",
              "      <td>-0.644130</td>\n",
              "      <td>-0.022618</td>\n",
              "      <td>-0.1552</td>\n",
              "      <td>1.028924</td>\n",
              "      <td>-0.981634</td>\n",
              "      <td>-0.1552</td>\n",
              "    </tr>\n",
              "    <tr>\n",
              "      <th>7821</th>\n",
              "      <td>-0.838536</td>\n",
              "      <td>-0.746493</td>\n",
              "      <td>0.579856</td>\n",
              "      <td>-0.967013</td>\n",
              "      <td>-0.209979</td>\n",
              "      <td>-0.329239</td>\n",
              "      <td>0.244901</td>\n",
              "      <td>-0.076876</td>\n",
              "      <td>-0.266208</td>\n",
              "      <td>-0.248610</td>\n",
              "      <td>...</td>\n",
              "      <td>-0.308542</td>\n",
              "      <td>-0.24265</td>\n",
              "      <td>2.979518</td>\n",
              "      <td>-0.685116</td>\n",
              "      <td>-0.644130</td>\n",
              "      <td>-0.022618</td>\n",
              "      <td>-0.1552</td>\n",
              "      <td>1.028924</td>\n",
              "      <td>-0.981634</td>\n",
              "      <td>-0.1552</td>\n",
              "    </tr>\n",
              "    <tr>\n",
              "      <th>7822</th>\n",
              "      <td>0.320042</td>\n",
              "      <td>1.108595</td>\n",
              "      <td>-1.800110</td>\n",
              "      <td>1.129042</td>\n",
              "      <td>-0.209979</td>\n",
              "      <td>-0.329239</td>\n",
              "      <td>-0.278040</td>\n",
              "      <td>-0.284910</td>\n",
              "      <td>-0.266208</td>\n",
              "      <td>-0.267088</td>\n",
              "      <td>...</td>\n",
              "      <td>-0.308542</td>\n",
              "      <td>-0.24265</td>\n",
              "      <td>-0.335625</td>\n",
              "      <td>-0.685116</td>\n",
              "      <td>-0.644130</td>\n",
              "      <td>-0.022618</td>\n",
              "      <td>-0.1552</td>\n",
              "      <td>1.028924</td>\n",
              "      <td>-0.981634</td>\n",
              "      <td>-0.1552</td>\n",
              "    </tr>\n",
              "  </tbody>\n",
              "</table>\n",
              "<p>7823 rows × 22 columns</p>\n",
              "</div>\n",
              "      <button class=\"colab-df-convert\" onclick=\"convertToInteractive('df-b2f6d6f1-5f7d-4e66-92a4-02cb6e3af1de')\"\n",
              "              title=\"Convert this dataframe to an interactive table.\"\n",
              "              style=\"display:none;\">\n",
              "        \n",
              "  <svg xmlns=\"http://www.w3.org/2000/svg\" height=\"24px\"viewBox=\"0 0 24 24\"\n",
              "       width=\"24px\">\n",
              "    <path d=\"M0 0h24v24H0V0z\" fill=\"none\"/>\n",
              "    <path d=\"M18.56 5.44l.94 2.06.94-2.06 2.06-.94-2.06-.94-.94-2.06-.94 2.06-2.06.94zm-11 1L8.5 8.5l.94-2.06 2.06-.94-2.06-.94L8.5 2.5l-.94 2.06-2.06.94zm10 10l.94 2.06.94-2.06 2.06-.94-2.06-.94-.94-2.06-.94 2.06-2.06.94z\"/><path d=\"M17.41 7.96l-1.37-1.37c-.4-.4-.92-.59-1.43-.59-.52 0-1.04.2-1.43.59L10.3 9.45l-7.72 7.72c-.78.78-.78 2.05 0 2.83L4 21.41c.39.39.9.59 1.41.59.51 0 1.02-.2 1.41-.59l7.78-7.78 2.81-2.81c.8-.78.8-2.07 0-2.86zM5.41 20L4 18.59l7.72-7.72 1.47 1.35L5.41 20z\"/>\n",
              "  </svg>\n",
              "      </button>\n",
              "      \n",
              "  <style>\n",
              "    .colab-df-container {\n",
              "      display:flex;\n",
              "      flex-wrap:wrap;\n",
              "      gap: 12px;\n",
              "    }\n",
              "\n",
              "    .colab-df-convert {\n",
              "      background-color: #E8F0FE;\n",
              "      border: none;\n",
              "      border-radius: 50%;\n",
              "      cursor: pointer;\n",
              "      display: none;\n",
              "      fill: #1967D2;\n",
              "      height: 32px;\n",
              "      padding: 0 0 0 0;\n",
              "      width: 32px;\n",
              "    }\n",
              "\n",
              "    .colab-df-convert:hover {\n",
              "      background-color: #E2EBFA;\n",
              "      box-shadow: 0px 1px 2px rgba(60, 64, 67, 0.3), 0px 1px 3px 1px rgba(60, 64, 67, 0.15);\n",
              "      fill: #174EA6;\n",
              "    }\n",
              "\n",
              "    [theme=dark] .colab-df-convert {\n",
              "      background-color: #3B4455;\n",
              "      fill: #D2E3FC;\n",
              "    }\n",
              "\n",
              "    [theme=dark] .colab-df-convert:hover {\n",
              "      background-color: #434B5C;\n",
              "      box-shadow: 0px 1px 3px 1px rgba(0, 0, 0, 0.15);\n",
              "      filter: drop-shadow(0px 1px 2px rgba(0, 0, 0, 0.3));\n",
              "      fill: #FFFFFF;\n",
              "    }\n",
              "  </style>\n",
              "\n",
              "      <script>\n",
              "        const buttonEl =\n",
              "          document.querySelector('#df-b2f6d6f1-5f7d-4e66-92a4-02cb6e3af1de button.colab-df-convert');\n",
              "        buttonEl.style.display =\n",
              "          google.colab.kernel.accessAllowed ? 'block' : 'none';\n",
              "\n",
              "        async function convertToInteractive(key) {\n",
              "          const element = document.querySelector('#df-b2f6d6f1-5f7d-4e66-92a4-02cb6e3af1de');\n",
              "          const dataTable =\n",
              "            await google.colab.kernel.invokeFunction('convertToInteractive',\n",
              "                                                     [key], {});\n",
              "          if (!dataTable) return;\n",
              "\n",
              "          const docLinkHtml = 'Like what you see? Visit the ' +\n",
              "            '<a target=\"_blank\" href=https://colab.research.google.com/notebooks/data_table.ipynb>data table notebook</a>'\n",
              "            + ' to learn more about interactive tables.';\n",
              "          element.innerHTML = '';\n",
              "          dataTable['output_type'] = 'display_data';\n",
              "          await google.colab.output.renderOutput(dataTable, element);\n",
              "          const docLink = document.createElement('div');\n",
              "          docLink.innerHTML = docLinkHtml;\n",
              "          element.appendChild(docLink);\n",
              "        }\n",
              "      </script>\n",
              "    </div>\n",
              "  </div>\n",
              "  "
            ]
          },
          "metadata": {},
          "execution_count": 81
        }
      ],
      "source": [
        "# elijo y transformo algunas variables (en su análisis fundamente sus decisiones)\n",
        "for var in X:\n",
        "    if X[var].dtype == 'object':\n",
        "        unique_cases = X[var].unique()\n",
        "        if len(unique_cases) > 5:\n",
        "            print(var)\n",
        "            X.drop(var, inplace=True, axis=1)\n",
        "\n",
        "passengerId = X.PassengerId\n",
        "X.drop('PassengerId',axis=1,inplace=True)\n",
        "\n",
        "print(X.columns)\n",
        "label_cols = [\"HomePlanet\", \"CryoSleep\", \"Destination\" ,\"VIP\"]\n",
        "\n",
        "for col in label_cols:\n",
        "    X[col] = X[col].astype(str)\n",
        "    X[col] = LabelEncoder().fit_transform(X[col])\n",
        "\n",
        "x_names = X.columns\n",
        "X = StandardScaler().fit_transform(X)\n",
        "X = pd.DataFrame(X, columns=x_names)\n",
        "\n",
        "imp = IterativeImputer(max_iter=10, random_state=0)\n",
        "imp.fit(X)\n",
        "X"
      ]
    },
    {
      "cell_type": "code",
      "execution_count": null,
      "metadata": {
        "id": "DWL6sIR2g-ma"
      },
      "outputs": [],
      "source": [
        "x_train, x_test, y_train, y_test = train_test_split(X, y, train_size=0.8, random_state = 8)"
      ]
    },
    {
      "cell_type": "markdown",
      "metadata": {
        "id": "iDrOsPzSg-mb"
      },
      "source": [
        "### Planteo modelos\n",
        "Tienen que elegir los 2 mejores modelos así que prueben con varios."
      ]
    },
    {
      "cell_type": "code",
      "execution_count": null,
      "metadata": {
        "id": "3OdXDkym81eD"
      },
      "outputs": [],
      "source": [
        "import numpy as np\n",
        "import matplotlib.pyplot as plt\n",
        "from matplotlib.colors import ListedColormap\n",
        "from sklearn.model_selection import train_test_split\n",
        "from sklearn.preprocessing import StandardScaler\n",
        "from sklearn.datasets import make_moons, make_circles, make_classification\n",
        "from sklearn.neural_network import MLPClassifier\n",
        "from sklearn.neighbors import KNeighborsClassifier\n",
        "from sklearn.svm import SVC\n",
        "from sklearn.gaussian_process import GaussianProcessClassifier\n",
        "from sklearn.gaussian_process.kernels import RBF\n",
        "from sklearn.tree import DecisionTreeClassifier\n",
        "from sklearn.ensemble import RandomForestClassifier, AdaBoostClassifier\n",
        "from sklearn.naive_bayes import GaussianNB\n",
        "from sklearn.discriminant_analysis import QuadraticDiscriminantAnalysis\n"
      ]
    },
    {
      "cell_type": "code",
      "source": [
        "np.arange(10, 15)"
      ],
      "metadata": {
        "colab": {
          "base_uri": "https://localhost:8080/"
        },
        "id": "GEdMje2-3qzM",
        "outputId": "dc9d304e-4865-4c6e-d6bc-929d9c92f753"
      },
      "execution_count": null,
      "outputs": [
        {
          "output_type": "execute_result",
          "data": {
            "text/plain": [
              "array([10, 11, 12, 13, 14])"
            ]
          },
          "metadata": {},
          "execution_count": 84
        }
      ]
    },
    {
      "cell_type": "code",
      "execution_count": null,
      "metadata": {
        "colab": {
          "base_uri": "https://localhost:8080/",
          "height": 105
        },
        "outputId": "a8624a27-d792-4624-bf75-d453fc2ec0d7",
        "id": "pLLtSI7xg-md"
      },
      "outputs": [
        {
          "output_type": "execute_result",
          "data": {
            "text/plain": [
              "'\\nfrom sklearn import model_selection\\nnames = [\\n    \"Nearest Neighbors\",\\n    \"Linear SVM\",\\n    \"RBF SVM\",\\n    #\"Gaussian Process\",\\n    \"Decision Tree\",\\n    \"Random Forest\",\\n    \"Neural Net\",\\n    \"AdaBoost\",\\n    \"Naive Bayes\",\\n    \"QDA\",\\n]\\n\\nclfs = [\\n    KNeighborsClassifier(3),\\n    SVC(kernel=\"linear\", C=0.025),\\n    SVC(gamma=2, C=1),\\n    #GaussianProcessClassifier(1.0 * RBF(1.0)),\\n    DecisionTreeClassifier(max_depth=5),\\n    RandomForestClassifier(max_depth=5, n_estimators=10, max_features=1),\\n    MLPClassifier(),\\n    AdaBoostClassifier(),\\n    GaussianNB(),\\n    QuadraticDiscriminantAnalysis(),\\n]\\n\\n\\ntrained_models = []\\naccuracy_models = []\\nmodel_name = []\\n\\nfor clf,name in zip(clfs,names):\\n    #print(name)\\n    clf.fit(x_train, y_train)\\n    train_predictions = clf.predict(x_train)\\n    accuracy = accuracy_score(y_train, train_predictions)\\n    #print(f\"Accuracy train {name}: %.2f%%\" % (accuracy * 100.0))\\n\\n    train_predictions = clf.predict(x_test)\\n    accuracy = accuracy_score(y_test, train_predictions)\\n    #print(f\"Accuracy test {name}: %.2f%%\" % (accuracy * 100.0))\\n    # plot_confusion_matrix(clf,x_test,y_test)\\n    trained_models.append(clf)\\n    accuracy_models.append(float(\"{:.2f}\".format(accuracy*100)))\\n    model_name.append(name)\\n\\nmodel_results = pd.DataFrame([model_name, accuracy_models])\\nmodel_results\\n'"
            ],
            "application/vnd.google.colaboratory.intrinsic+json": {
              "type": "string"
            }
          },
          "metadata": {},
          "execution_count": 85
        }
      ],
      "source": [
        "\"\"\"\n",
        "from sklearn import model_selection\n",
        "names = [\n",
        "    \"Nearest Neighbors\",\n",
        "    \"Linear SVM\",\n",
        "    \"RBF SVM\",\n",
        "    #\"Gaussian Process\",\n",
        "    \"Decision Tree\",\n",
        "    \"Random Forest\",\n",
        "    \"Neural Net\",\n",
        "    \"AdaBoost\",\n",
        "    \"Naive Bayes\",\n",
        "    \"QDA\",\n",
        "]\n",
        "\n",
        "clfs = [\n",
        "    KNeighborsClassifier(3),\n",
        "    SVC(kernel=\"linear\", C=0.025),\n",
        "    SVC(gamma=2, C=1),\n",
        "    #GaussianProcessClassifier(1.0 * RBF(1.0)),\n",
        "    DecisionTreeClassifier(max_depth=5),\n",
        "    RandomForestClassifier(max_depth=5, n_estimators=10, max_features=1),\n",
        "    MLPClassifier(),\n",
        "    AdaBoostClassifier(),\n",
        "    GaussianNB(),\n",
        "    QuadraticDiscriminantAnalysis(),\n",
        "]\n",
        "\n",
        "\n",
        "trained_models = []\n",
        "accuracy_models = []\n",
        "model_name = []\n",
        "\n",
        "for clf,name in zip(clfs,names):\n",
        "    #print(name)\n",
        "    clf.fit(x_train, y_train)\n",
        "    train_predictions = clf.predict(x_train)\n",
        "    accuracy = accuracy_score(y_train, train_predictions)\n",
        "    #print(f\"Accuracy train {name}: %.2f%%\" % (accuracy * 100.0))\n",
        "\n",
        "    train_predictions = clf.predict(x_test)\n",
        "    accuracy = accuracy_score(y_test, train_predictions)\n",
        "    #print(f\"Accuracy test {name}: %.2f%%\" % (accuracy * 100.0))\n",
        "    # plot_confusion_matrix(clf,x_test,y_test)\n",
        "    trained_models.append(clf)\n",
        "    accuracy_models.append(float(\"{:.2f}\".format(accuracy*100)))\n",
        "    model_name.append(name)\n",
        "\n",
        "model_results = pd.DataFrame([model_name, accuracy_models])\n",
        "model_results\n",
        "\"\"\""
      ]
    },
    {
      "cell_type": "markdown",
      "metadata": {
        "id": "Aue8oMmEg-me"
      },
      "source": [
        "### Algún tipo de ajuste de hiperparámetros de los modelos elegidos"
      ]
    },
    {
      "cell_type": "code",
      "execution_count": null,
      "metadata": {
        "id": "TlIUywi4sey6",
        "colab": {
          "base_uri": "https://localhost:8080/",
          "height": 53
        },
        "outputId": "19bcfdbc-2f0c-4bdb-fd95-522af5599a46"
      },
      "outputs": [
        {
          "output_type": "execute_result",
          "data": {
            "text/plain": [
              "\"\\nclf = MLPClassifier(early_stopping=True, hidden_layer_sizes=(800, 800, 800, 400, 400),\\n               learning_rate_init=0.0001, max_iter=500, random_state=2022, activation='relu',\\n                alpha=0.0001, solver='adam').fit(x_train.values, y_train)\\n  \""
            ],
            "application/vnd.google.colaboratory.intrinsic+json": {
              "type": "string"
            }
          },
          "metadata": {},
          "execution_count": 86
        }
      ],
      "source": [
        "#80.77\n",
        "\"\"\"\n",
        "clf = MLPClassifier(early_stopping=True, hidden_layer_sizes=(800, 800, 800, 400, 400),\n",
        "               learning_rate_init=0.0001, max_iter=500, random_state=2022, activation='relu',\n",
        "                alpha=0.0001, solver='adam').fit(x_train.values, y_train)\n",
        "  \"\"\""
      ]
    },
    {
      "cell_type": "code",
      "source": [
        "#81.21\n",
        "\"\"\"\n",
        "clf = MLPClassifier(early_stopping=True, hidden_layer_sizes=(600, 600, 600, 600, 400, 400),\n",
        "               learning_rate_init=0.0001, max_iter=500, random_state=2022, activation='relu',\n",
        "                alpha=0.0001, solver='adam').fit(x_train.values , y_train)\n",
        "\"\"\""
      ],
      "metadata": {
        "colab": {
          "base_uri": "https://localhost:8080/",
          "height": 53
        },
        "id": "LPCwvgqQJ3Eo",
        "outputId": "7e6aa41b-4641-442f-f33f-9a504f470081"
      },
      "execution_count": null,
      "outputs": [
        {
          "output_type": "execute_result",
          "data": {
            "text/plain": [
              "\"\\nclf = MLPClassifier(early_stopping=True, hidden_layer_sizes=(600, 600, 600, 600, 400, 400),\\n               learning_rate_init=0.0001, max_iter=500, random_state=2022, activation='relu',\\n                alpha=0.0001, solver='adam').fit(x_train.values , y_train)\\n\""
            ],
            "application/vnd.google.colaboratory.intrinsic+json": {
              "type": "string"
            }
          },
          "metadata": {},
          "execution_count": 87
        }
      ]
    },
    {
      "cell_type": "code",
      "source": [
        "from lightgbm import LGBMClassifier\n",
        "from sklearn.model_selection import RandomizedSearchCV, GridSearchCV\n",
        "from scipy.stats import randint as sp_randint\n",
        "from scipy.stats import uniform as sp_uniform\n"
      ],
      "metadata": {
        "id": "3DhlsB_Qf3BO"
      },
      "execution_count": null,
      "outputs": []
    },
    {
      "cell_type": "code",
      "source": [
        "#80.77%\n",
        "\"\"\"\n",
        "clf =LGBMClassifier(colsample_bytree= 0.7076074093370144,\n",
        "                    min_child_samples= 105,\n",
        "                    min_child_weight= 1e-05,\n",
        "                    num_leaves= 26,\n",
        "                    reg_alpha= 5,\n",
        "                    reg_lambda= 5,\n",
        "                    subsample= 0.7468773130235173).fit(x_train.values , y_train)\n",
        "\"\"\""
      ],
      "metadata": {
        "colab": {
          "base_uri": "https://localhost:8080/",
          "height": 53
        },
        "id": "HPWUkqbHU5zl",
        "outputId": "dbcc4c8a-bf1b-4e7b-fd24-1540f8fdbbd7"
      },
      "execution_count": null,
      "outputs": [
        {
          "output_type": "execute_result",
          "data": {
            "text/plain": [
              "'\\nclf =LGBMClassifier(colsample_bytree= 0.7076074093370144,\\n                    min_child_samples= 105,\\n                    min_child_weight= 1e-05,\\n                    num_leaves= 26,\\n                    reg_alpha= 5,\\n                    reg_lambda= 5,\\n                    subsample= 0.7468773130235173).fit(x_train.values , y_train)\\n'"
            ],
            "application/vnd.google.colaboratory.intrinsic+json": {
              "type": "string"
            }
          },
          "metadata": {},
          "execution_count": 89
        }
      ]
    },
    {
      "cell_type": "code",
      "execution_count": null,
      "metadata": {
        "colab": {
          "base_uri": "https://localhost:8080/",
          "height": 583
        },
        "outputId": "16999c17-6121-4bd5-fa73-9ebdf6a1e97d",
        "id": "xj4ZInCBg-mi"
      },
      "outputs": [
        {
          "output_type": "stream",
          "name": "stdout",
          "text": [
            "Accuracy train: 83.00%\n"
          ]
        },
        {
          "output_type": "stream",
          "name": "stderr",
          "text": [
            "/usr/local/lib/python3.7/dist-packages/sklearn/base.py:444: UserWarning: X has feature names, but MLPClassifier was fitted without feature names\n",
            "  f\"X has feature names, but {self.__class__.__name__} was fitted without\"\n"
          ]
        },
        {
          "output_type": "stream",
          "name": "stdout",
          "text": [
            "Accuracy test: 81.21%\n"
          ]
        },
        {
          "output_type": "display_data",
          "data": {
            "text/plain": [
              "<Figure size 432x288 with 2 Axes>"
            ],
            "image/png": "[encoded data removed]"
          },
          "metadata": {}
        },
        {
          "output_type": "stream",
          "name": "stderr",
          "text": [
            "/usr/local/lib/python3.7/dist-packages/sklearn/base.py:444: UserWarning: X has feature names, but MLPClassifier was fitted without feature names\n",
            "  f\"X has feature names, but {self.__class__.__name__} was fitted without\"\n"
          ]
        },
        {
          "output_type": "stream",
          "name": "stdout",
          "text": [
            "              precision    recall  f1-score   support\n",
            "\n",
            "           0       0.82      0.78      0.80       748\n",
            "           1       0.81      0.84      0.82       817\n",
            "\n",
            "    accuracy                           0.81      1565\n",
            "   macro avg       0.81      0.81      0.81      1565\n",
            "weighted avg       0.81      0.81      0.81      1565\n",
            "\n",
            "dict_items([('activation', 'relu'), ('alpha', 0.0001), ('batch_size', 'auto'), ('beta_1', 0.9), ('beta_2', 0.999), ('early_stopping', True), ('epsilon', 1e-08), ('hidden_layer_sizes', (600, 600, 600, 600, 400, 400)), ('learning_rate', 'constant'), ('learning_rate_init', 0.0001), ('max_fun', 15000), ('max_iter', 500), ('momentum', 0.9), ('n_iter_no_change', 10), ('nesterovs_momentum', True), ('power_t', 0.5), ('random_state', 2022), ('shuffle', True), ('solver', 'adam'), ('tol', 0.0001), ('validation_fraction', 0.1), ('verbose', False), ('warm_start', False)])\n"
          ]
        }
      ],
      "source": [
        "clf = MLPClassifier(early_stopping=True, hidden_layer_sizes=(600, 600, 600, 600, 400, 400),\n",
        "               learning_rate_init=0.0001, max_iter=500, random_state=2022, activation='relu',\n",
        "                alpha=0.0001, solver='adam').fit(x_train.values , y_train)\n",
        "\n",
        "train_predictions = clf.predict(x_train.values)\n",
        "accuracy = accuracy_score(y_train, train_predictions)\n",
        "print(f\"Accuracy train: %.2f%%\" % (accuracy * 100.0))\n",
        "\n",
        "test_predictions = clf.predict(x_test)\n",
        "accuracy = accuracy_score(y_test, test_predictions)\n",
        "print(f\"Accuracy test: %.2f%%\" % (accuracy * 100.0))\n",
        "ConfusionMatrixDisplay.from_predictions(y_test, test_predictions)\n",
        "plt.show()\n",
        "\n",
        "print(classification_report(y_test,clf.predict(x_test)))\n",
        "print(clf.get_params().items())"
      ]
    },
    {
      "cell_type": "code",
      "source": [
        "test_df = pd.read_csv('https://raw.githubusercontent.com/DiploDatos/AprendizajeSupervisado/master/Pr%C3%A1ctico/test.csv')\n",
        "test_df"
      ],
      "metadata": {
        "colab": {
          "base_uri": "https://localhost:8080/",
          "height": 424
        },
        "id": "c3XnxhRSO9PY",
        "outputId": "61d3bd84-bcf0-4cd6-feac-13e1095dda09"
      },
      "execution_count": null,
      "outputs": [
        {
          "output_type": "execute_result",
          "data": {
            "text/plain": [
              "     PassengerId HomePlanet CryoSleep     Cabin    Destination   Age    VIP  \\\n",
              "0            415     Europa      True       NaN    55 Cancri e  34.0  False   \n",
              "1           8663      Earth      True  G/1489/S  PSO J318.5-22  13.0  False   \n",
              "2           4524      Earth     False   G/776/P    TRAPPIST-1e  44.0  False   \n",
              "3           8246      Earth     False   E/577/S  PSO J318.5-22  63.0  False   \n",
              "4           2935     Europa     False   B/117/S    55 Cancri e  10.0  False   \n",
              "..           ...        ...       ...       ...            ...   ...    ...   \n",
              "865         5996       Mars     False  F/1212/S    TRAPPIST-1e  54.0  False   \n",
              "866         5478      Earth      True   G/947/S    TRAPPIST-1e  58.0  False   \n",
              "867         6760      Earth      True  G/1148/P  PSO J318.5-22  18.0  False   \n",
              "868         1437      Earth     False   F/293/S    TRAPPIST-1e  18.0  False   \n",
              "869         5171      Earth     False  F/1059/S    TRAPPIST-1e  20.0  False   \n",
              "\n",
              "     RoomService  FoodCourt  ShoppingMall    Spa  VRDeck                Name  \n",
              "0            0.0        0.0           0.0    0.0     0.0  Minopus Taptiritty  \n",
              "1            0.0        0.0           0.0    0.0     0.0     Chrisa Francock  \n",
              "2           22.0        1.0           0.0  864.0     0.0        Elinda Miley  \n",
              "3            0.0        0.0          80.0    0.0  2322.0        Karley Goods  \n",
              "4            0.0        0.0           0.0    0.0     0.0   Arkard Sechausive  \n",
              "..           ...        ...           ...    ...     ...                 ...  \n",
              "865        676.0        0.0         231.0  379.0     0.0          Anch Perta  \n",
              "866          0.0        0.0           0.0    0.0     0.0        Hughy Hessey  \n",
              "867          0.0        0.0           0.0    0.0     0.0      Heidie Kimpson  \n",
              "868        765.0        0.0          13.0    0.0     0.0      Herina Oconley  \n",
              "869          0.0        0.0           0.0  703.0     0.0    Ollip Hinglendez  \n",
              "\n",
              "[870 rows x 13 columns]"
            ],
            "text/html": [
              "\n",
              "  <div id=\"df-3a03e5f0-e768-4365-87e4-81b3ecef3f2b\">\n",
              "    <div class=\"colab-df-container\">\n",
              "      <div>\n",
              "<style scoped>\n",
              "    .dataframe tbody tr th:only-of-type {\n",
              "        vertical-align: middle;\n",
              "    }\n",
              "\n",
              "    .dataframe tbody tr th {\n",
              "        vertical-align: top;\n",
              "    }\n",
              "\n",
              "    .dataframe thead th {\n",
              "        text-align: right;\n",
              "    }\n",
              "</style>\n",
              "<table border=\"1\" class=\"dataframe\">\n",
              "  <thead>\n",
              "    <tr style=\"text-align: right;\">\n",
              "      <th></th>\n",
              "      <th>PassengerId</th>\n",
              "      <th>HomePlanet</th>\n",
              "      <th>CryoSleep</th>\n",
              "      <th>Cabin</th>\n",
              "      <th>Destination</th>\n",
              "      <th>Age</th>\n",
              "      <th>VIP</th>\n",
              "      <th>RoomService</th>\n",
              "      <th>FoodCourt</th>\n",
              "      <th>ShoppingMall</th>\n",
              "      <th>Spa</th>\n",
              "      <th>VRDeck</th>\n",
              "      <th>Name</th>\n",
              "    </tr>\n",
              "  </thead>\n",
              "  <tbody>\n",
              "    <tr>\n",
              "      <th>0</th>\n",
              "      <td>415</td>\n",
              "      <td>Europa</td>\n",
              "      <td>True</td>\n",
              "      <td>NaN</td>\n",
              "      <td>55 Cancri e</td>\n",
              "      <td>34.0</td>\n",
              "      <td>False</td>\n",
              "      <td>0.0</td>\n",
              "      <td>0.0</td>\n",
              "      <td>0.0</td>\n",
              "      <td>0.0</td>\n",
              "      <td>0.0</td>\n",
              "      <td>Minopus Taptiritty</td>\n",
              "    </tr>\n",
              "    <tr>\n",
              "      <th>1</th>\n",
              "      <td>8663</td>\n",
              "      <td>Earth</td>\n",
              "      <td>True</td>\n",
              "      <td>G/1489/S</td>\n",
              "      <td>PSO J318.5-22</td>\n",
              "      <td>13.0</td>\n",
              "      <td>False</td>\n",
              "      <td>0.0</td>\n",
              "      <td>0.0</td>\n",
              "      <td>0.0</td>\n",
              "      <td>0.0</td>\n",
              "      <td>0.0</td>\n",
              "      <td>Chrisa Francock</td>\n",
              "    </tr>\n",
              "    <tr>\n",
              "      <th>2</th>\n",
              "      <td>4524</td>\n",
              "      <td>Earth</td>\n",
              "      <td>False</td>\n",
              "      <td>G/776/P</td>\n",
              "      <td>TRAPPIST-1e</td>\n",
              "      <td>44.0</td>\n",
              "      <td>False</td>\n",
              "      <td>22.0</td>\n",
              "      <td>1.0</td>\n",
              "      <td>0.0</td>\n",
              "      <td>864.0</td>\n",
              "      <td>0.0</td>\n",
              "      <td>Elinda Miley</td>\n",
              "    </tr>\n",
              "    <tr>\n",
              "      <th>3</th>\n",
              "      <td>8246</td>\n",
              "      <td>Earth</td>\n",
              "      <td>False</td>\n",
              "      <td>E/577/S</td>\n",
              "      <td>PSO J318.5-22</td>\n",
              "      <td>63.0</td>\n",
              "      <td>False</td>\n",
              "      <td>0.0</td>\n",
              "      <td>0.0</td>\n",
              "      <td>80.0</td>\n",
              "      <td>0.0</td>\n",
              "      <td>2322.0</td>\n",
              "      <td>Karley Goods</td>\n",
              "    </tr>\n",
              "    <tr>\n",
              "      <th>4</th>\n",
              "      <td>2935</td>\n",
              "      <td>Europa</td>\n",
              "      <td>False</td>\n",
              "      <td>B/117/S</td>\n",
              "      <td>55 Cancri e</td>\n",
              "      <td>10.0</td>\n",
              "      <td>False</td>\n",
              "      <td>0.0</td>\n",
              "      <td>0.0</td>\n",
              "      <td>0.0</td>\n",
              "      <td>0.0</td>\n",
              "      <td>0.0</td>\n",
              "      <td>Arkard Sechausive</td>\n",
              "    </tr>\n",
              "    <tr>\n",
              "      <th>...</th>\n",
              "      <td>...</td>\n",
              "      <td>...</td>\n",
              "      <td>...</td>\n",
              "      <td>...</td>\n",
              "      <td>...</td>\n",
              "      <td>...</td>\n",
              "      <td>...</td>\n",
              "      <td>...</td>\n",
              "      <td>...</td>\n",
              "      <td>...</td>\n",
              "      <td>...</td>\n",
              "      <td>...</td>\n",
              "      <td>...</td>\n",
              "    </tr>\n",
              "    <tr>\n",
              "      <th>865</th>\n",
              "      <td>5996</td>\n",
              "      <td>Mars</td>\n",
              "      <td>False</td>\n",
              "      <td>F/1212/S</td>\n",
              "      <td>TRAPPIST-1e</td>\n",
              "      <td>54.0</td>\n",
              "      <td>False</td>\n",
              "      <td>676.0</td>\n",
              "      <td>0.0</td>\n",
              "      <td>231.0</td>\n",
              "      <td>379.0</td>\n",
              "      <td>0.0</td>\n",
              "      <td>Anch Perta</td>\n",
              "    </tr>\n",
              "    <tr>\n",
              "      <th>866</th>\n",
              "      <td>5478</td>\n",
              "      <td>Earth</td>\n",
              "      <td>True</td>\n",
              "      <td>G/947/S</td>\n",
              "      <td>TRAPPIST-1e</td>\n",
              "      <td>58.0</td>\n",
              "      <td>False</td>\n",
              "      <td>0.0</td>\n",
              "      <td>0.0</td>\n",
              "      <td>0.0</td>\n",
              "      <td>0.0</td>\n",
              "      <td>0.0</td>\n",
              "      <td>Hughy Hessey</td>\n",
              "    </tr>\n",
              "    <tr>\n",
              "      <th>867</th>\n",
              "      <td>6760</td>\n",
              "      <td>Earth</td>\n",
              "      <td>True</td>\n",
              "      <td>G/1148/P</td>\n",
              "      <td>PSO J318.5-22</td>\n",
              "      <td>18.0</td>\n",
              "      <td>False</td>\n",
              "      <td>0.0</td>\n",
              "      <td>0.0</td>\n",
              "      <td>0.0</td>\n",
              "      <td>0.0</td>\n",
              "      <td>0.0</td>\n",
              "      <td>Heidie Kimpson</td>\n",
              "    </tr>\n",
              "    <tr>\n",
              "      <th>868</th>\n",
              "      <td>1437</td>\n",
              "      <td>Earth</td>\n",
              "      <td>False</td>\n",
              "      <td>F/293/S</td>\n",
              "      <td>TRAPPIST-1e</td>\n",
              "      <td>18.0</td>\n",
              "      <td>False</td>\n",
              "      <td>765.0</td>\n",
              "      <td>0.0</td>\n",
              "      <td>13.0</td>\n",
              "      <td>0.0</td>\n",
              "      <td>0.0</td>\n",
              "      <td>Herina Oconley</td>\n",
              "    </tr>\n",
              "    <tr>\n",
              "      <th>869</th>\n",
              "      <td>5171</td>\n",
              "      <td>Earth</td>\n",
              "      <td>False</td>\n",
              "      <td>F/1059/S</td>\n",
              "      <td>TRAPPIST-1e</td>\n",
              "      <td>20.0</td>\n",
              "      <td>False</td>\n",
              "      <td>0.0</td>\n",
              "      <td>0.0</td>\n",
              "      <td>0.0</td>\n",
              "      <td>703.0</td>\n",
              "      <td>0.0</td>\n",
              "      <td>Ollip Hinglendez</td>\n",
              "    </tr>\n",
              "  </tbody>\n",
              "</table>\n",
              "<p>870 rows × 13 columns</p>\n",
              "</div>\n",
              "      <button class=\"colab-df-convert\" onclick=\"convertToInteractive('df-3a03e5f0-e768-4365-87e4-81b3ecef3f2b')\"\n",
              "              title=\"Convert this dataframe to an interactive table.\"\n",
              "              style=\"display:none;\">\n",
              "        \n",
              "  <svg xmlns=\"http://www.w3.org/2000/svg\" height=\"24px\"viewBox=\"0 0 24 24\"\n",
              "       width=\"24px\">\n",
              "    <path d=\"M0 0h24v24H0V0z\" fill=\"none\"/>\n",
              "    <path d=\"M18.56 5.44l.94 2.06.94-2.06 2.06-.94-2.06-.94-.94-2.06-.94 2.06-2.06.94zm-11 1L8.5 8.5l.94-2.06 2.06-.94-2.06-.94L8.5 2.5l-.94 2.06-2.06.94zm10 10l.94 2.06.94-2.06 2.06-.94-2.06-.94-.94-2.06-.94 2.06-2.06.94z\"/><path d=\"M17.41 7.96l-1.37-1.37c-.4-.4-.92-.59-1.43-.59-.52 0-1.04.2-1.43.59L10.3 9.45l-7.72 7.72c-.78.78-.78 2.05 0 2.83L4 21.41c.39.39.9.59 1.41.59.51 0 1.02-.2 1.41-.59l7.78-7.78 2.81-2.81c.8-.78.8-2.07 0-2.86zM5.41 20L4 18.59l7.72-7.72 1.47 1.35L5.41 20z\"/>\n",
              "  </svg>\n",
              "      </button>\n",
              "      \n",
              "  <style>\n",
              "    .colab-df-container {\n",
              "      display:flex;\n",
              "      flex-wrap:wrap;\n",
              "      gap: 12px;\n",
              "    }\n",
              "\n",
              "    .colab-df-convert {\n",
              "      background-color: #E8F0FE;\n",
              "      border: none;\n",
              "      border-radius: 50%;\n",
              "      cursor: pointer;\n",
              "      display: none;\n",
              "      fill: #1967D2;\n",
              "      height: 32px;\n",
              "      padding: 0 0 0 0;\n",
              "      width: 32px;\n",
              "    }\n",
              "\n",
              "    .colab-df-convert:hover {\n",
              "      background-color: #E2EBFA;\n",
              "      box-shadow: 0px 1px 2px rgba(60, 64, 67, 0.3), 0px 1px 3px 1px rgba(60, 64, 67, 0.15);\n",
              "      fill: #174EA6;\n",
              "    }\n",
              "\n",
              "    [theme=dark] .colab-df-convert {\n",
              "      background-color: #3B4455;\n",
              "      fill: #D2E3FC;\n",
              "    }\n",
              "\n",
              "    [theme=dark] .colab-df-convert:hover {\n",
              "      background-color: #434B5C;\n",
              "      box-shadow: 0px 1px 3px 1px rgba(0, 0, 0, 0.15);\n",
              "      filter: drop-shadow(0px 1px 2px rgba(0, 0, 0, 0.3));\n",
              "      fill: #FFFFFF;\n",
              "    }\n",
              "  </style>\n",
              "\n",
              "      <script>\n",
              "        const buttonEl =\n",
              "          document.querySelector('#df-3a03e5f0-e768-4365-87e4-81b3ecef3f2b button.colab-df-convert');\n",
              "        buttonEl.style.display =\n",
              "          google.colab.kernel.accessAllowed ? 'block' : 'none';\n",
              "\n",
              "        async function convertToInteractive(key) {\n",
              "          const element = document.querySelector('#df-3a03e5f0-e768-4365-87e4-81b3ecef3f2b');\n",
              "          const dataTable =\n",
              "            await google.colab.kernel.invokeFunction('convertToInteractive',\n",
              "                                                     [key], {});\n",
              "          if (!dataTable) return;\n",
              "\n",
              "          const docLinkHtml = 'Like what you see? Visit the ' +\n",
              "            '<a target=\"_blank\" href=https://colab.research.google.com/notebooks/data_table.ipynb>data table notebook</a>'\n",
              "            + ' to learn more about interactive tables.';\n",
              "          element.innerHTML = '';\n",
              "          dataTable['output_type'] = 'display_data';\n",
              "          await google.colab.output.renderOutput(dataTable, element);\n",
              "          const docLink = document.createElement('div');\n",
              "          docLink.innerHTML = docLinkHtml;\n",
              "          element.appendChild(docLink);\n",
              "        }\n",
              "      </script>\n",
              "    </div>\n",
              "  </div>\n",
              "  "
            ]
          },
          "metadata": {},
          "execution_count": 91
        }
      ]
    },
    {
      "cell_type": "code",
      "source": [
        "#tratamiento test_df\n",
        "\n",
        "imputer_cols = [\"Age\", \"FoodCourt\", \"ShoppingMall\", \"Spa\", \"VRDeck\" ,\"RoomService\"]\n",
        "imputer = SimpleImputer(strategy=\"median\")\n",
        "test_df[imputer_cols] = imputer.fit_transform(test_df[imputer_cols])\n",
        "\n",
        "PassengerId = test_df['PassengerId']\n",
        "test_id = PassengerId\n",
        "\n",
        "\n",
        "test_df['Cabin'] = test_df['Cabin'].astype(str)\n",
        "test_df['Cabin_side'] = test_df['Cabin'].apply(lambda x: x[-1:])\n",
        "test_df['Cabin'] = test_df['Cabin'].apply(lambda x: x[:1])\n",
        "test_df['Cabin'].unique(), test_df['Cabin_side'].unique()\n",
        "\n",
        "test_df = pd.concat((test_df, pd.get_dummies(test_df['Cabin'], prefix='Cabin_')), axis=1)\n",
        "test_df = pd.concat((test_df, pd.get_dummies(test_df['Cabin_side'], prefix='Cabin_side_')), axis=1)\n",
        "test_df = test_df.drop(['Cabin_side', 'Cabin'], axis=1)\n",
        "test_df['CryoSleep'] = test_df['CryoSleep'].replace({True:1, False:0})\n",
        "test_df['VIP'] = test_df['VIP'].replace({True:1, False:0})\n",
        "#test_df.dropna(axis=0)\n",
        "\n",
        "for var in test_df:\n",
        "    if test_df[var].dtype == 'object':\n",
        "        unique_cases = test_df[var].unique()\n",
        "        if len(unique_cases) > 5:\n",
        "            print(var)\n",
        "            test_df.drop(var, inplace=True, axis=1)\n",
        "\n",
        "passengerId = test_df.PassengerId\n",
        "test_df.drop('PassengerId',axis=1,inplace=True)\n",
        "\n",
        "print(test_df.columns)\n",
        "label_cols = [\"HomePlanet\", \"CryoSleep\", \"Destination\" ,\"VIP\"]\n",
        "\n",
        "for col in label_cols:\n",
        "    test_df[col] = test_df[col].astype(str)\n",
        "    test_df[col] = LabelEncoder().fit_transform(test_df[col])\n",
        "\n",
        "x_names = test_df.columns\n",
        "test_df = StandardScaler().fit_transform(test_df)\n",
        "test_df = pd.DataFrame(test_df, columns=x_names)\n",
        "\n",
        "imp = IterativeImputer(max_iter=10, random_state=0)\n",
        "imp.fit(test_df)\n",
        "test_df"
      ],
      "metadata": {
        "colab": {
          "base_uri": "https://localhost:8080/",
          "height": 592
        },
        "id": "4Eglh_BRPG4E",
        "outputId": "527a05c3-3506-46e5-caa7-e6e3c8a84eef"
      },
      "execution_count": null,
      "outputs": [
        {
          "output_type": "stream",
          "name": "stdout",
          "text": [
            "Name\n",
            "Index(['HomePlanet', 'CryoSleep', 'Destination', 'Age', 'VIP', 'RoomService',\n",
            "       'FoodCourt', 'ShoppingMall', 'Spa', 'VRDeck', 'Cabin__A', 'Cabin__B',\n",
            "       'Cabin__C', 'Cabin__D', 'Cabin__E', 'Cabin__F', 'Cabin__G', 'Cabin__T',\n",
            "       'Cabin__n', 'Cabin_side__P', 'Cabin_side__S', 'Cabin_side__n'],\n",
            "      dtype='object')\n"
          ]
        },
        {
          "output_type": "execute_result",
          "data": {
            "text/plain": [
              "     HomePlanet  CryoSleep  Destination       Age       VIP  RoomService  \\\n",
              "0      0.372375   1.184602    -1.836298  0.389487 -0.194446    -0.385490   \n",
              "1     -0.784647   1.184602    -0.642293 -1.050400 -0.194446    -0.385490   \n",
              "2     -0.784647  -0.699500     0.551713  1.075147 -0.194446    -0.344213   \n",
              "3     -0.784647  -0.699500    -0.642293  2.377902 -0.194446    -0.385490   \n",
              "4      0.372375  -0.699500    -1.836298 -1.256098 -0.194446    -0.385490   \n",
              "..          ...        ...          ...       ...       ...          ...   \n",
              "865    1.529396  -0.699500     0.551713  1.760807 -0.194446     0.882864   \n",
              "866   -0.784647   1.184602     0.551713  2.035071 -0.194446    -0.385490   \n",
              "867   -0.784647   1.184602    -0.642293 -0.707570 -0.194446    -0.385490   \n",
              "868   -0.784647  -0.699500     0.551713 -0.707570 -0.194446     1.049852   \n",
              "869   -0.784647  -0.699500     0.551713 -0.570438 -0.194446    -0.385490   \n",
              "\n",
              "     FoodCourt  ShoppingMall       Spa    VRDeck  ...  Cabin__C  Cabin__D  \\\n",
              "0    -0.310498     -0.274152 -0.309805 -0.250575  ... -0.288855 -0.228024   \n",
              "1    -0.310498     -0.274152 -0.309805 -0.250575  ... -0.288855 -0.228024   \n",
              "2    -0.309830     -0.274152  0.441916 -0.250575  ... -0.288855 -0.228024   \n",
              "3    -0.310498     -0.152063 -0.309805  1.277745  ... -0.288855 -0.228024   \n",
              "4    -0.310498     -0.274152 -0.309805 -0.250575  ... -0.288855 -0.228024   \n",
              "..         ...           ...       ...       ...  ...       ...       ...   \n",
              "865  -0.310498      0.078379  0.019943 -0.250575  ... -0.288855 -0.228024   \n",
              "866  -0.310498     -0.274152 -0.309805 -0.250575  ... -0.288855 -0.228024   \n",
              "867  -0.310498     -0.274152 -0.309805 -0.250575  ... -0.288855 -0.228024   \n",
              "868  -0.310498     -0.254312 -0.309805 -0.250575  ... -0.288855 -0.228024   \n",
              "869  -0.310498     -0.274152  0.301838 -0.250575  ... -0.288855 -0.228024   \n",
              "\n",
              "     Cabin__E  Cabin__F  Cabin__G  Cabin__T  Cabin__n  Cabin_side__P  \\\n",
              "0   -0.326910 -0.716271 -0.661828 -0.033923  7.549834      -0.935414   \n",
              "1   -0.326910 -0.716271  1.510966 -0.033923 -0.132453      -0.935414   \n",
              "2   -0.326910 -0.716271  1.510966 -0.033923 -0.132453       1.069045   \n",
              "3    3.058945 -0.716271 -0.661828 -0.033923 -0.132453      -0.935414   \n",
              "4   -0.326910 -0.716271 -0.661828 -0.033923 -0.132453      -0.935414   \n",
              "..        ...       ...       ...       ...       ...            ...   \n",
              "865 -0.326910  1.396121 -0.661828 -0.033923 -0.132453      -0.935414   \n",
              "866 -0.326910 -0.716271  1.510966 -0.033923 -0.132453      -0.935414   \n",
              "867 -0.326910 -0.716271  1.510966 -0.033923 -0.132453       1.069045   \n",
              "868 -0.326910  1.396121 -0.661828 -0.033923 -0.132453      -0.935414   \n",
              "869 -0.326910  1.396121 -0.661828 -0.033923 -0.132453      -0.935414   \n",
              "\n",
              "     Cabin_side__S  Cabin_side__n  \n",
              "0        -1.032719       7.549834  \n",
              "1         0.968318      -0.132453  \n",
              "2        -1.032719      -0.132453  \n",
              "3         0.968318      -0.132453  \n",
              "4         0.968318      -0.132453  \n",
              "..             ...            ...  \n",
              "865       0.968318      -0.132453  \n",
              "866       0.968318      -0.132453  \n",
              "867      -1.032719      -0.132453  \n",
              "868       0.968318      -0.132453  \n",
              "869       0.968318      -0.132453  \n",
              "\n",
              "[870 rows x 22 columns]"
            ],
            "text/html": [
              "\n",
              "  <div id=\"df-903403c9-c4f6-4ba9-9b8d-1ecf30ee97d5\">\n",
              "    <div class=\"colab-df-container\">\n",
              "      <div>\n",
              "<style scoped>\n",
              "    .dataframe tbody tr th:only-of-type {\n",
              "        vertical-align: middle;\n",
              "    }\n",
              "\n",
              "    .dataframe tbody tr th {\n",
              "        vertical-align: top;\n",
              "    }\n",
              "\n",
              "    .dataframe thead th {\n",
              "        text-align: right;\n",
              "    }\n",
              "</style>\n",
              "<table border=\"1\" class=\"dataframe\">\n",
              "  <thead>\n",
              "    <tr style=\"text-align: right;\">\n",
              "      <th></th>\n",
              "      <th>HomePlanet</th>\n",
              "      <th>CryoSleep</th>\n",
              "      <th>Destination</th>\n",
              "      <th>Age</th>\n",
              "      <th>VIP</th>\n",
              "      <th>RoomService</th>\n",
              "      <th>FoodCourt</th>\n",
              "      <th>ShoppingMall</th>\n",
              "      <th>Spa</th>\n",
              "      <th>VRDeck</th>\n",
              "      <th>...</th>\n",
              "      <th>Cabin__C</th>\n",
              "      <th>Cabin__D</th>\n",
              "      <th>Cabin__E</th>\n",
              "      <th>Cabin__F</th>\n",
              "      <th>Cabin__G</th>\n",
              "      <th>Cabin__T</th>\n",
              "      <th>Cabin__n</th>\n",
              "      <th>Cabin_side__P</th>\n",
              "      <th>Cabin_side__S</th>\n",
              "      <th>Cabin_side__n</th>\n",
              "    </tr>\n",
              "  </thead>\n",
              "  <tbody>\n",
              "    <tr>\n",
              "      <th>0</th>\n",
              "      <td>0.372375</td>\n",
              "      <td>1.184602</td>\n",
              "      <td>-1.836298</td>\n",
              "      <td>0.389487</td>\n",
              "      <td>-0.194446</td>\n",
              "      <td>-0.385490</td>\n",
              "      <td>-0.310498</td>\n",
              "      <td>-0.274152</td>\n",
              "      <td>-0.309805</td>\n",
              "      <td>-0.250575</td>\n",
              "      <td>...</td>\n",
              "      <td>-0.288855</td>\n",
              "      <td>-0.228024</td>\n",
              "      <td>-0.326910</td>\n",
              "      <td>-0.716271</td>\n",
              "      <td>-0.661828</td>\n",
              "      <td>-0.033923</td>\n",
              "      <td>7.549834</td>\n",
              "      <td>-0.935414</td>\n",
              "      <td>-1.032719</td>\n",
              "      <td>7.549834</td>\n",
              "    </tr>\n",
              "    <tr>\n",
              "      <th>1</th>\n",
              "      <td>-0.784647</td>\n",
              "      <td>1.184602</td>\n",
              "      <td>-0.642293</td>\n",
              "      <td>-1.050400</td>\n",
              "      <td>-0.194446</td>\n",
              "      <td>-0.385490</td>\n",
              "      <td>-0.310498</td>\n",
              "      <td>-0.274152</td>\n",
              "      <td>-0.309805</td>\n",
              "      <td>-0.250575</td>\n",
              "      <td>...</td>\n",
              "      <td>-0.288855</td>\n",
              "      <td>-0.228024</td>\n",
              "      <td>-0.326910</td>\n",
              "      <td>-0.716271</td>\n",
              "      <td>1.510966</td>\n",
              "      <td>-0.033923</td>\n",
              "      <td>-0.132453</td>\n",
              "      <td>-0.935414</td>\n",
              "      <td>0.968318</td>\n",
              "      <td>-0.132453</td>\n",
              "    </tr>\n",
              "    <tr>\n",
              "      <th>2</th>\n",
              "      <td>-0.784647</td>\n",
              "      <td>-0.699500</td>\n",
              "      <td>0.551713</td>\n",
              "      <td>1.075147</td>\n",
              "      <td>-0.194446</td>\n",
              "      <td>-0.344213</td>\n",
              "      <td>-0.309830</td>\n",
              "      <td>-0.274152</td>\n",
              "      <td>0.441916</td>\n",
              "      <td>-0.250575</td>\n",
              "      <td>...</td>\n",
              "      <td>-0.288855</td>\n",
              "      <td>-0.228024</td>\n",
              "      <td>-0.326910</td>\n",
              "      <td>-0.716271</td>\n",
              "      <td>1.510966</td>\n",
              "      <td>-0.033923</td>\n",
              "      <td>-0.132453</td>\n",
              "      <td>1.069045</td>\n",
              "      <td>-1.032719</td>\n",
              "      <td>-0.132453</td>\n",
              "    </tr>\n",
              "    <tr>\n",
              "      <th>3</th>\n",
              "      <td>-0.784647</td>\n",
              "      <td>-0.699500</td>\n",
              "      <td>-0.642293</td>\n",
              "      <td>2.377902</td>\n",
              "      <td>-0.194446</td>\n",
              "      <td>-0.385490</td>\n",
              "      <td>-0.310498</td>\n",
              "      <td>-0.152063</td>\n",
              "      <td>-0.309805</td>\n",
              "      <td>1.277745</td>\n",
              "      <td>...</td>\n",
              "      <td>-0.288855</td>\n",
              "      <td>-0.228024</td>\n",
              "      <td>3.058945</td>\n",
              "      <td>-0.716271</td>\n",
              "      <td>-0.661828</td>\n",
              "      <td>-0.033923</td>\n",
              "      <td>-0.132453</td>\n",
              "      <td>-0.935414</td>\n",
              "      <td>0.968318</td>\n",
              "      <td>-0.132453</td>\n",
              "    </tr>\n",
              "    <tr>\n",
              "      <th>4</th>\n",
              "      <td>0.372375</td>\n",
              "      <td>-0.699500</td>\n",
              "      <td>-1.836298</td>\n",
              "      <td>-1.256098</td>\n",
              "      <td>-0.194446</td>\n",
              "      <td>-0.385490</td>\n",
              "      <td>-0.310498</td>\n",
              "      <td>-0.274152</td>\n",
              "      <td>-0.309805</td>\n",
              "      <td>-0.250575</td>\n",
              "      <td>...</td>\n",
              "      <td>-0.288855</td>\n",
              "      <td>-0.228024</td>\n",
              "      <td>-0.326910</td>\n",
              "      <td>-0.716271</td>\n",
              "      <td>-0.661828</td>\n",
              "      <td>-0.033923</td>\n",
              "      <td>-0.132453</td>\n",
              "      <td>-0.935414</td>\n",
              "      <td>0.968318</td>\n",
              "      <td>-0.132453</td>\n",
              "    </tr>\n",
              "    <tr>\n",
              "      <th>...</th>\n",
              "      <td>...</td>\n",
              "      <td>...</td>\n",
              "      <td>...</td>\n",
              "      <td>...</td>\n",
              "      <td>...</td>\n",
              "      <td>...</td>\n",
              "      <td>...</td>\n",
              "      <td>...</td>\n",
              "      <td>...</td>\n",
              "      <td>...</td>\n",
              "      <td>...</td>\n",
              "      <td>...</td>\n",
              "      <td>...</td>\n",
              "      <td>...</td>\n",
              "      <td>...</td>\n",
              "      <td>...</td>\n",
              "      <td>...</td>\n",
              "      <td>...</td>\n",
              "      <td>...</td>\n",
              "      <td>...</td>\n",
              "      <td>...</td>\n",
              "    </tr>\n",
              "    <tr>\n",
              "      <th>865</th>\n",
              "      <td>1.529396</td>\n",
              "      <td>-0.699500</td>\n",
              "      <td>0.551713</td>\n",
              "      <td>1.760807</td>\n",
              "      <td>-0.194446</td>\n",
              "      <td>0.882864</td>\n",
              "      <td>-0.310498</td>\n",
              "      <td>0.078379</td>\n",
              "      <td>0.019943</td>\n",
              "      <td>-0.250575</td>\n",
              "      <td>...</td>\n",
              "      <td>-0.288855</td>\n",
              "      <td>-0.228024</td>\n",
              "      <td>-0.326910</td>\n",
              "      <td>1.396121</td>\n",
              "      <td>-0.661828</td>\n",
              "      <td>-0.033923</td>\n",
              "      <td>-0.132453</td>\n",
              "      <td>-0.935414</td>\n",
              "      <td>0.968318</td>\n",
              "      <td>-0.132453</td>\n",
              "    </tr>\n",
              "    <tr>\n",
              "      <th>866</th>\n",
              "      <td>-0.784647</td>\n",
              "      <td>1.184602</td>\n",
              "      <td>0.551713</td>\n",
              "      <td>2.035071</td>\n",
              "      <td>-0.194446</td>\n",
              "      <td>-0.385490</td>\n",
              "      <td>-0.310498</td>\n",
              "      <td>-0.274152</td>\n",
              "      <td>-0.309805</td>\n",
              "      <td>-0.250575</td>\n",
              "      <td>...</td>\n",
              "      <td>-0.288855</td>\n",
              "      <td>-0.228024</td>\n",
              "      <td>-0.326910</td>\n",
              "      <td>-0.716271</td>\n",
              "      <td>1.510966</td>\n",
              "      <td>-0.033923</td>\n",
              "      <td>-0.132453</td>\n",
              "      <td>-0.935414</td>\n",
              "      <td>0.968318</td>\n",
              "      <td>-0.132453</td>\n",
              "    </tr>\n",
              "    <tr>\n",
              "      <th>867</th>\n",
              "      <td>-0.784647</td>\n",
              "      <td>1.184602</td>\n",
              "      <td>-0.642293</td>\n",
              "      <td>-0.707570</td>\n",
              "      <td>-0.194446</td>\n",
              "      <td>-0.385490</td>\n",
              "      <td>-0.310498</td>\n",
              "      <td>-0.274152</td>\n",
              "      <td>-0.309805</td>\n",
              "      <td>-0.250575</td>\n",
              "      <td>...</td>\n",
              "      <td>-0.288855</td>\n",
              "      <td>-0.228024</td>\n",
              "      <td>-0.326910</td>\n",
              "      <td>-0.716271</td>\n",
              "      <td>1.510966</td>\n",
              "      <td>-0.033923</td>\n",
              "      <td>-0.132453</td>\n",
              "      <td>1.069045</td>\n",
              "      <td>-1.032719</td>\n",
              "      <td>-0.132453</td>\n",
              "    </tr>\n",
              "    <tr>\n",
              "      <th>868</th>\n",
              "      <td>-0.784647</td>\n",
              "      <td>-0.699500</td>\n",
              "      <td>0.551713</td>\n",
              "      <td>-0.707570</td>\n",
              "      <td>-0.194446</td>\n",
              "      <td>1.049852</td>\n",
              "      <td>-0.310498</td>\n",
              "      <td>-0.254312</td>\n",
              "      <td>-0.309805</td>\n",
              "      <td>-0.250575</td>\n",
              "      <td>...</td>\n",
              "      <td>-0.288855</td>\n",
              "      <td>-0.228024</td>\n",
              "      <td>-0.326910</td>\n",
              "      <td>1.396121</td>\n",
              "      <td>-0.661828</td>\n",
              "      <td>-0.033923</td>\n",
              "      <td>-0.132453</td>\n",
              "      <td>-0.935414</td>\n",
              "      <td>0.968318</td>\n",
              "      <td>-0.132453</td>\n",
              "    </tr>\n",
              "    <tr>\n",
              "      <th>869</th>\n",
              "      <td>-0.784647</td>\n",
              "      <td>-0.699500</td>\n",
              "      <td>0.551713</td>\n",
              "      <td>-0.570438</td>\n",
              "      <td>-0.194446</td>\n",
              "      <td>-0.385490</td>\n",
              "      <td>-0.310498</td>\n",
              "      <td>-0.274152</td>\n",
              "      <td>0.301838</td>\n",
              "      <td>-0.250575</td>\n",
              "      <td>...</td>\n",
              "      <td>-0.288855</td>\n",
              "      <td>-0.228024</td>\n",
              "      <td>-0.326910</td>\n",
              "      <td>1.396121</td>\n",
              "      <td>-0.661828</td>\n",
              "      <td>-0.033923</td>\n",
              "      <td>-0.132453</td>\n",
              "      <td>-0.935414</td>\n",
              "      <td>0.968318</td>\n",
              "      <td>-0.132453</td>\n",
              "    </tr>\n",
              "  </tbody>\n",
              "</table>\n",
              "<p>870 rows × 22 columns</p>\n",
              "</div>\n",
              "      <button class=\"colab-df-convert\" onclick=\"convertToInteractive('df-903403c9-c4f6-4ba9-9b8d-1ecf30ee97d5')\"\n",
              "              title=\"Convert this dataframe to an interactive table.\"\n",
              "              style=\"display:none;\">\n",
              "        \n",
              "  <svg xmlns=\"http://www.w3.org/2000/svg\" height=\"24px\"viewBox=\"0 0 24 24\"\n",
              "       width=\"24px\">\n",
              "    <path d=\"M0 0h24v24H0V0z\" fill=\"none\"/>\n",
              "    <path d=\"M18.56 5.44l.94 2.06.94-2.06 2.06-.94-2.06-.94-.94-2.06-.94 2.06-2.06.94zm-11 1L8.5 8.5l.94-2.06 2.06-.94-2.06-.94L8.5 2.5l-.94 2.06-2.06.94zm10 10l.94 2.06.94-2.06 2.06-.94-2.06-.94-.94-2.06-.94 2.06-2.06.94z\"/><path d=\"M17.41 7.96l-1.37-1.37c-.4-.4-.92-.59-1.43-.59-.52 0-1.04.2-1.43.59L10.3 9.45l-7.72 7.72c-.78.78-.78 2.05 0 2.83L4 21.41c.39.39.9.59 1.41.59.51 0 1.02-.2 1.41-.59l7.78-7.78 2.81-2.81c.8-.78.8-2.07 0-2.86zM5.41 20L4 18.59l7.72-7.72 1.47 1.35L5.41 20z\"/>\n",
              "  </svg>\n",
              "      </button>\n",
              "      \n",
              "  <style>\n",
              "    .colab-df-container {\n",
              "      display:flex;\n",
              "      flex-wrap:wrap;\n",
              "      gap: 12px;\n",
              "    }\n",
              "\n",
              "    .colab-df-convert {\n",
              "      background-color: #E8F0FE;\n",
              "      border: none;\n",
              "      border-radius: 50%;\n",
              "      cursor: pointer;\n",
              "      display: none;\n",
              "      fill: #1967D2;\n",
              "      height: 32px;\n",
              "      padding: 0 0 0 0;\n",
              "      width: 32px;\n",
              "    }\n",
              "\n",
              "    .colab-df-convert:hover {\n",
              "      background-color: #E2EBFA;\n",
              "      box-shadow: 0px 1px 2px rgba(60, 64, 67, 0.3), 0px 1px 3px 1px rgba(60, 64, 67, 0.15);\n",
              "      fill: #174EA6;\n",
              "    }\n",
              "\n",
              "    [theme=dark] .colab-df-convert {\n",
              "      background-color: #3B4455;\n",
              "      fill: #D2E3FC;\n",
              "    }\n",
              "\n",
              "    [theme=dark] .colab-df-convert:hover {\n",
              "      background-color: #434B5C;\n",
              "      box-shadow: 0px 1px 3px 1px rgba(0, 0, 0, 0.15);\n",
              "      filter: drop-shadow(0px 1px 2px rgba(0, 0, 0, 0.3));\n",
              "      fill: #FFFFFF;\n",
              "    }\n",
              "  </style>\n",
              "\n",
              "      <script>\n",
              "        const buttonEl =\n",
              "          document.querySelector('#df-903403c9-c4f6-4ba9-9b8d-1ecf30ee97d5 button.colab-df-convert');\n",
              "        buttonEl.style.display =\n",
              "          google.colab.kernel.accessAllowed ? 'block' : 'none';\n",
              "\n",
              "        async function convertToInteractive(key) {\n",
              "          const element = document.querySelector('#df-903403c9-c4f6-4ba9-9b8d-1ecf30ee97d5');\n",
              "          const dataTable =\n",
              "            await google.colab.kernel.invokeFunction('convertToInteractive',\n",
              "                                                     [key], {});\n",
              "          if (!dataTable) return;\n",
              "\n",
              "          const docLinkHtml = 'Like what you see? Visit the ' +\n",
              "            '<a target=\"_blank\" href=https://colab.research.google.com/notebooks/data_table.ipynb>data table notebook</a>'\n",
              "            + ' to learn more about interactive tables.';\n",
              "          element.innerHTML = '';\n",
              "          dataTable['output_type'] = 'display_data';\n",
              "          await google.colab.output.renderOutput(dataTable, element);\n",
              "          const docLink = document.createElement('div');\n",
              "          docLink.innerHTML = docLinkHtml;\n",
              "          element.appendChild(docLink);\n",
              "        }\n",
              "      </script>\n",
              "    </div>\n",
              "  </div>\n",
              "  "
            ]
          },
          "metadata": {},
          "execution_count": 92
        }
      ]
    },
    {
      "cell_type": "code",
      "source": [
        "test_pred = clf.predict(test_df)\n",
        "#test_pred = test_pred.astype(bool)\n",
        "test_pred"
      ],
      "metadata": {
        "colab": {
          "base_uri": "https://localhost:8080/"
        },
        "id": "pEMcfnfNUGYO",
        "outputId": "baeabc00-016b-4889-b790-6358e2c3f932"
      },
      "execution_count": null,
      "outputs": [
        {
          "output_type": "stream",
          "name": "stderr",
          "text": [
            "/usr/local/lib/python3.7/dist-packages/sklearn/base.py:444: UserWarning: X has feature names, but MLPClassifier was fitted without feature names\n",
            "  f\"X has feature names, but {self.__class__.__name__} was fitted without\"\n"
          ]
        },
        {
          "output_type": "execute_result",
          "data": {
            "text/plain": [
              "array([1, 1, 0, 0, 1, 0, 0, 1, 0, 1, 1, 1, 1, 1, 0, 1, 0, 0, 0, 0, 1, 1,\n",
              "       0, 1, 0, 0, 0, 0, 0, 1, 0, 0, 0, 1, 0, 0, 1, 0, 1, 1, 1, 1, 0, 0,\n",
              "       1, 0, 1, 1, 0, 1, 1, 0, 0, 0, 0, 1, 0, 0, 1, 0, 1, 0, 1, 1, 0, 1,\n",
              "       0, 0, 1, 1, 0, 1, 0, 0, 1, 0, 0, 0, 1, 0, 1, 1, 1, 1, 1, 0, 1, 1,\n",
              "       1, 0, 1, 0, 0, 1, 0, 1, 1, 1, 0, 0, 0, 0, 0, 1, 0, 0, 1, 0, 1, 1,\n",
              "       0, 1, 0, 1, 1, 1, 1, 1, 1, 1, 0, 0, 0, 0, 1, 1, 1, 1, 0, 0, 0, 0,\n",
              "       1, 1, 0, 1, 0, 0, 1, 0, 1, 0, 1, 0, 1, 1, 1, 1, 1, 1, 1, 1, 1, 1,\n",
              "       1, 1, 1, 1, 1, 0, 1, 1, 1, 1, 1, 1, 0, 0, 1, 0, 0, 1, 1, 0, 0, 1,\n",
              "       1, 0, 1, 1, 1, 0, 0, 1, 1, 1, 0, 0, 0, 0, 0, 0, 0, 0, 1, 0, 0, 1,\n",
              "       1, 1, 0, 0, 1, 1, 1, 0, 0, 1, 0, 1, 1, 0, 1, 1, 0, 0, 1, 1, 1, 1,\n",
              "       0, 0, 1, 1, 1, 1, 1, 1, 1, 0, 0, 1, 0, 0, 0, 0, 1, 1, 0, 0, 1, 0,\n",
              "       1, 0, 0, 0, 1, 0, 0, 0, 0, 0, 0, 1, 0, 1, 1, 1, 1, 0, 0, 1, 1, 0,\n",
              "       0, 1, 0, 0, 0, 1, 1, 0, 1, 1, 0, 0, 0, 1, 1, 1, 1, 0, 1, 0, 0, 0,\n",
              "       0, 1, 1, 0, 1, 1, 1, 1, 0, 1, 0, 1, 0, 0, 1, 0, 1, 1, 0, 0, 0, 1,\n",
              "       0, 1, 1, 0, 1, 0, 0, 0, 1, 1, 0, 1, 0, 1, 0, 0, 1, 1, 0, 1, 1, 1,\n",
              "       0, 0, 1, 0, 1, 1, 1, 1, 1, 0, 0, 1, 0, 0, 1, 1, 0, 1, 0, 1, 1, 0,\n",
              "       1, 0, 0, 1, 1, 0, 0, 0, 0, 0, 1, 0, 0, 1, 1, 0, 0, 1, 1, 0, 1, 1,\n",
              "       1, 0, 1, 1, 1, 0, 1, 0, 1, 1, 1, 0, 1, 0, 1, 0, 1, 1, 0, 0, 0, 1,\n",
              "       0, 1, 1, 0, 0, 1, 1, 0, 1, 0, 1, 0, 0, 1, 1, 1, 0, 1, 1, 1, 0, 1,\n",
              "       0, 1, 0, 1, 1, 0, 0, 1, 1, 0, 0, 0, 0, 1, 1, 1, 1, 1, 0, 0, 1, 0,\n",
              "       0, 1, 0, 0, 1, 0, 0, 0, 0, 0, 0, 1, 1, 1, 1, 0, 1, 1, 1, 1, 1, 0,\n",
              "       1, 1, 0, 0, 1, 1, 0, 1, 0, 0, 1, 0, 1, 1, 0, 1, 1, 1, 1, 0, 1, 1,\n",
              "       1, 1, 1, 0, 1, 0, 1, 0, 0, 1, 1, 0, 0, 0, 1, 1, 0, 0, 1, 1, 1, 1,\n",
              "       1, 1, 0, 1, 1, 0, 1, 0, 1, 0, 0, 0, 0, 0, 1, 1, 0, 0, 0, 1, 1, 0,\n",
              "       1, 1, 1, 0, 1, 1, 0, 1, 1, 0, 0, 1, 1, 0, 0, 1, 1, 0, 1, 1, 0, 0,\n",
              "       1, 1, 1, 1, 1, 1, 1, 1, 0, 1, 0, 1, 0, 1, 1, 1, 1, 0, 1, 1, 1, 1,\n",
              "       1, 1, 0, 0, 1, 0, 0, 1, 1, 0, 0, 0, 1, 1, 0, 1, 1, 0, 1, 0, 1, 1,\n",
              "       1, 0, 0, 1, 0, 0, 1, 0, 0, 0, 1, 1, 1, 0, 0, 1, 1, 0, 1, 1, 1, 0,\n",
              "       0, 1, 1, 0, 1, 1, 0, 0, 0, 0, 0, 0, 1, 0, 1, 1, 0, 1, 0, 0, 0, 0,\n",
              "       0, 1, 1, 0, 1, 1, 1, 0, 0, 1, 0, 1, 0, 0, 1, 0, 0, 1, 1, 1, 1, 0,\n",
              "       0, 1, 0, 1, 1, 0, 1, 1, 0, 0, 0, 0, 1, 0, 1, 1, 0, 0, 1, 0, 1, 0,\n",
              "       1, 1, 0, 1, 0, 1, 1, 1, 0, 1, 1, 1, 0, 1, 1, 1, 1, 1, 0, 1, 1, 1,\n",
              "       1, 1, 1, 1, 1, 1, 0, 0, 1, 1, 1, 0, 1, 0, 0, 1, 0, 1, 1, 0, 1, 0,\n",
              "       1, 0, 0, 1, 0, 1, 1, 0, 1, 1, 1, 0, 0, 0, 0, 0, 1, 1, 1, 1, 0, 1,\n",
              "       1, 1, 1, 1, 0, 0, 1, 1, 1, 0, 1, 1, 0, 1, 0, 1, 0, 0, 0, 1, 1, 0,\n",
              "       0, 0, 0, 1, 1, 1, 0, 0, 0, 0, 0, 0, 0, 1, 0, 0, 1, 1, 1, 0, 1, 1,\n",
              "       0, 1, 1, 1, 1, 1, 0, 1, 1, 1, 1, 1, 0, 0, 1, 1, 0, 1, 1, 1, 1, 1,\n",
              "       0, 1, 1, 0, 0, 1, 1, 1, 0, 0, 1, 0, 0, 0, 1, 0, 0, 1, 1, 1, 1, 1,\n",
              "       0, 0, 0, 1, 0, 1, 0, 0, 1, 0, 0, 0, 1, 1, 0, 1, 0, 1, 1, 1, 0, 1,\n",
              "       1, 1, 0, 0, 1, 0, 0, 0, 1, 1, 0, 0])"
            ]
          },
          "metadata": {},
          "execution_count": 93
        }
      ]
    },
    {
      "cell_type": "code",
      "source": [
        "submission = pd.DataFrame(list(zip(test_id, test_pred)), columns=[\"PassengerId\", \"Transported\"])\n",
        "submission.to_csv(\"group8_submission_0727_3.csv\", header=True, index=False)"
      ],
      "metadata": {
        "id": "OzRQDeGTUexd"
      },
      "execution_count": null,
      "outputs": []
    }
  ],
  "metadata": {
    "colab": {
      "collapsed_sections": [],
      "name": "Entregable_Grupo_8_Aprendizaje Supervisado_FINAL.ipynb",
      "provenance": []
    },
    "kernelspec": {
      "display_name": "Python 3.9.13 ('diplodatos')",
      "language": "python",
      "name": "python3"
    },
    "language_info": {
      "codemirror_mode": {
        "name": "ipython",
        "version": 3
      },
      "file_extension": ".py",
      "mimetype": "text/x-python",
      "name": "python",
      "nbconvert_exporter": "python",
      "pygments_lexer": "ipython3",
      "version": "3.9.13"
    },
    "vscode": {
      "interpreter": {
        "hash": "e6b65fc4380ac725e50a330b268a227bbdbe91bddfffbf68e5f7ce9848a2b8d5"
      }
    }
  },
  "nbformat": 4,
  "nbformat_minor": 0
}